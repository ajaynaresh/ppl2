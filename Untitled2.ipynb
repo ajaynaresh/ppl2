{
  "nbformat": 4,
  "nbformat_minor": 0,
  "metadata": {
    "colab": {
      "name": "Untitled2.ipynb",
      "provenance": [],
      "collapsed_sections": [],
      "authorship_tag": "ABX9TyOYjUphbmUOTOOai9mhzccl",
      "include_colab_link": true
    },
    "kernelspec": {
      "name": "python3",
      "display_name": "Python 3"
    },
    "language_info": {
      "name": "python"
    }
  },
  "cells": [
    {
      "cell_type": "markdown",
      "metadata": {
        "id": "view-in-github",
        "colab_type": "text"
      },
      "source": [
        "<a href=\"https://colab.research.google.com/github/ajaynaresh/ppl2/blob/main/Untitled2.ipynb\" target=\"_parent\"><img src=\"https://colab.research.google.com/assets/colab-badge.svg\" alt=\"Open In Colab\"/></a>"
      ]
    },
    {
      "cell_type": "code",
      "metadata": {
        "id": "Y4HEhcwIbR89"
      },
      "source": [
        ""
      ],
      "execution_count": null,
      "outputs": []
    },
    {
      "cell_type": "markdown",
      "metadata": {
        "id": "XrYNTUGtblvf"
      },
      "source": [
        "#Exercise-1 - Basies\n",
        "# a) Running instructions in Interactive interpreter and a Python Script "
      ]
    },
    {
      "cell_type": "code",
      "metadata": {
        "id": "k3aYId2rbnsj"
      },
      "source": [
        "print(\"Hello, Ajay\")"
      ],
      "execution_count": null,
      "outputs": []
    }
  ]
}