{
  "nbformat": 4,
  "nbformat_minor": 0,
  "metadata": {
    "colab": {
      "name": "Untitled2.ipynb",
      "provenance": [],
      "collapsed_sections": [],
      "include_colab_link": true
    },
    "kernelspec": {
      "name": "python3",
      "display_name": "Python 3"
    },
    "language_info": {
      "name": "python"
    }
  },
  "cells": [
    {
      "cell_type": "markdown",
      "metadata": {
        "id": "view-in-github",
        "colab_type": "text"
      },
      "source": [
        "<a href=\"https://colab.research.google.com/github/ajaynaresh/ppl2/blob/main/Untitled2.ipynb\" target=\"_parent\"><img src=\"https://colab.research.google.com/assets/colab-badge.svg\" alt=\"Open In Colab\"/></a>"
      ]
    },
    {
      "cell_type": "markdown",
      "metadata": {
        "id": "u32o0PTFToAe"
      },
      "source": [
        "Name:y.A.V.R Naresh\n",
        "class:CSE-A\n",
        "Roll no: 1921A0564\n",
        "LAB-python lab\n",
        "\n",
        "\n",
        "\n"
      ]
    },
    {
      "cell_type": "markdown",
      "metadata": {
        "id": "sRJCXCtpdyVe"
      },
      "source": [
        "#Exercise-1 - Basies\n",
        "## **a)running instruction in interactive interperter and a python script**"
      ]
    },
    {
      "cell_type": "code",
      "metadata": {
        "id": "XKXSjxP6d8_f"
      },
      "source": [
        "## a) Running instructions in Interactive interpreter and a Python Script \n",
        "print(\"Hello, Ajay\")\n",
        "hello Ajay"
      ],
      "execution_count": null,
      "outputs": []
    },
    {
      "cell_type": "markdown",
      "metadata": {
        "id": "VBZS3tsecs7l"
      },
      "source": [
        "# **b) Write a program to purposefully raise Indentation Error and Corret it**"
      ]
    },
    {
      "cell_type": "code",
      "metadata": {
        "id": "yhQsNUTHcueN"
      },
      "source": [
        "if True :\n",
        "  print (\"true\")\n",
        "  else:\n",
        "    print(\"false\")"
      ],
      "execution_count": null,
      "outputs": []
    },
    {
      "cell_type": "code",
      "metadata": {
        "id": "JGGJren3WeSE"
      },
      "source": [
        "if True :\n",
        "  print (\"true\")\n",
        "    print (\"true 2\")\n",
        "    else:\n",
        "      print(\"false\")"
      ],
      "execution_count": null,
      "outputs": []
    },
    {
      "cell_type": "markdown",
      "metadata": {
        "id": "YG-iLUAHemrS"
      },
      "source": [
        "#Exercise 2-Operations\n",
        "\n",
        "# **a)Write a program to compute distance between two points taking input from the user** "
      ]
    },
    {
      "cell_type": "code",
      "metadata": {
        "id": "kG3mImp_eyB8"
      },
      "source": [
        "import math\n",
        "x1=int(input(\"enter x1 value : \"))\n",
        "x2=int(input(\"enter x2 value : \"))\n",
        "\n",
        "y1=int(input(\"enter y1 value : \"))\n",
        "y2=int(input(\"enter y2 value : \"))\n",
        "d=math.sqrt((x2-x1)**2+(y2-y1)**2)\n",
        "print(\"Distance between given two points(x1,x2)(y1,y2) :\",d)\n"
      ],
      "execution_count": null,
      "outputs": []
    },
    {
      "cell_type": "markdown",
      "metadata": {
        "id": "8k8pu5ZgYJkv"
      },
      "source": [
        "output:\n",
        "enter value of x1:4\n",
        "enter value of x2:6\n",
        "enter value of y1:2\n",
        "enter value of y2:6\n",
        "Distance between (4,2) and (6,6) points is 18.0:"
      ]
    },
    {
      "cell_type": "markdown",
      "metadata": {
        "id": "QKvqFR2se62N"
      },
      "source": [
        "# **b) Write a program add.py that takes 2 numbers as command line arguments and prints its sum.**"
      ]
    },
    {
      "cell_type": "code",
      "metadata": {
        "id": "9YhhZOPQe8HA"
      },
      "source": [
        "import sys\n",
        "\n",
        "a=int(sys.argv[1])\n",
        "b=int(sys.argv[2])\n",
        " \n",
        "print(\"Sum = \",(a+b))"
      ],
      "execution_count": null,
      "outputs": []
    },
    {
      "cell_type": "markdown",
      "metadata": {
        "id": "TMuH9ilqZA4G"
      },
      "source": [
        "-f7\n",
        "/root/.local/share/jupyter/runtime/kernel-5b41c24d-89e6-4e90-8576-fc792b4a5817.json5\n",
        "sum of two values: 14"
      ]
    },
    {
      "cell_type": "markdown",
      "metadata": {
        "id": "YNIXQAWVfAod"
      },
      "source": [
        "# Exercise-3 Control Flow\n",
        "# **a) Write a Program for checking whether the given number is an even number or not.**"
      ]
    },
    {
      "cell_type": "code",
      "metadata": {
        "id": "iFINRtbVfEPG"
      },
      "source": [
        "n=int(input(\"enter a number to check even/odd : \"))\n",
        "\n",
        "if (n%2==0):\n",
        "    print(\"Given numver \",n,\" is Even\")\n",
        "else:\n",
        "enter a number:67\n",
        "given number is NOT EVEN NUMBER,it is ODD number    print(\"Given numver \",n,\" is Odd\")"
      ],
      "execution_count": null,
      "outputs": []
    },
    {
      "cell_type": "markdown",
      "metadata": {
        "id": "NCHsX_NBZ-i1"
      },
      "source": [
        "output:\n",
        "enter a number:67\n",
        "given number is NOT EVEN NUMBER,it is ODD number"
      ]
    },
    {
      "cell_type": "markdown",
      "metadata": {
        "id": "d_oVnbQtfJzx"
      },
      "source": [
        "#**b)Using a for loop, write a program that prints out the decimal equivalents of 1/2, 1/3, 1/4,. .1/10 **"
      ]
    },
    {
      "cell_type": "code",
      "metadata": {
        "id": "1sd9l6V4fKsf"
      },
      "source": [
        "n=int(input(\"enter limit for decimal equivalents of (1/2, 1/3, 1/4,. .1/10) : \"))\n",
        "\n",
        "for i in range(2,n):\n",
        "    print(\"1/\",i,\" = \",(1/i))"
      ],
      "execution_count": null,
      "outputs": []
    },
    {
      "cell_type": "markdown",
      "metadata": {
        "id": "yTsTrs1abODu"
      },
      "source": [
        "output:\n",
        "enter a number:12\n",
        "1/2= 0.5\n",
        "1/3= 0.3333333333333333\n",
        "1/4= 0.25\n",
        "1/5= 0.2\n",
        "1/6= 0.16666666666666666\n",
        "1/7= 0.14285714285714285\n",
        "1/8= 0.125\n",
        "1/9= 0.1111111111111111\n",
        "1/10= 0.1\n",
        "1/11= 0.09090909090909091"
      ]
    },
    {
      "cell_type": "markdown",
      "metadata": {
        "id": "IiwW1Vv1fOJd"
      },
      "source": [
        "# ***c)Write a program using a for loop that loops over a sequence. What is sequence? ***"
      ]
    },
    {
      "cell_type": "code",
      "metadata": {
        "id": "lTjnDz6dfRO1"
      },
      "source": [
        "sem4_subjects=[\"python\",\"DAA\",\"OS\",\"DBMS\",\"P&S\",\"SE\"]\n",
        "\n",
        "print(\"-------Sem four Subjects--------\")\n",
        "for i in sem4_subjects:\n",
        "    print(i)"
      ],
      "execution_count": null,
      "outputs": []
    },
    {
      "cell_type": "markdown",
      "metadata": {
        "id": "MzSxlDN0b_Vo"
      },
      "source": [
        "output:\n",
        "-----------sem four subjects----------\n",
        "python \n",
        "DAA\n",
        "OS\n",
        "DBMS\n",
        "P&S\n",
        "SE"
      ]
    },
    {
      "cell_type": "markdown",
      "metadata": {
        "id": "wGNYpdF1fYW6"
      },
      "source": [
        "# **d)Write a program using a while loop that asks the user for a number, and prints a countdown from that number to zero.**"
      ]
    },
    {
      "cell_type": "code",
      "metadata": {
        "id": "higDCk-4fZZ8"
      },
      "source": [
        "n=int(input(\"enter starting point of Countdown: \"))\n",
        "\n",
        "print(\"Countdown Starts:-\")\n",
        "while n>=0:\n",
        "    print(n)\n",
        "    n-=1"
      ],
      "execution_count": null,
      "outputs": []
    },
    {
      "cell_type": "markdown",
      "metadata": {
        "id": "e7AvaC4ZdFb1"
      },
      "source": [
        "10\n",
        "9\n",
        "8\n",
        "7\n",
        "6\n",
        "5\n",
        "4\n",
        "3\n",
        "2\n",
        "1\n"
      ]
    },
    {
      "cell_type": "markdown",
      "metadata": {
        "id": "oAb68DlqfdUA"
      },
      "source": [
        "#Exercise-4-Control Flow - Continued\n",
        "                   \n",
        "#**a)Find the sum of all the primes below two million.** "
      ]
    },
    {
      "cell_type": "code",
      "metadata": {
        "id": "RvkUl8aefgfP"
      },
      "source": [
        "n=int(input(\"enter Limit for sum of primes : \"))\n",
        "psum=0\n",
        "for i in range(2,n+1):\n",
        "    c=0\n",
        "    for j in range(2,i+1):\n",
        "        if i%j==0:\n",
        "            c+=1\n",
        "    if(c==1):\n",
        "        print(i,end=' ')    \n",
        "        psum+=i\n",
        "\n",
        "print(\"\") \n",
        "print(\"Sum of sum number : \",psum)"
      ],
      "execution_count": null,
      "outputs": []
    },
    {
      "cell_type": "markdown",
      "metadata": {
        "id": "iEj8WtGree4m"
      },
      "source": [
        "output:\n",
        "enter the ending number:12\n",
        "2 3 5 7 11 \n",
        "Sum of prime numbers is:  28"
      ]
    },
    {
      "cell_type": "markdown",
      "metadata": {
        "id": "sFE3A0KdftpA"
      },
      "source": [
        "# **b)each new term in the fibonacci sequence is generated by adding the previous two terms by starting with 1 and 2 the first 10 terms willl be:1,2,3,5,8...89**"
      ]
    },
    {
      "cell_type": "code",
      "metadata": {
        "id": "DxgBCVaUfvxL"
      },
      "source": [
        "n=int(input(\"enter Limit for Fibonacci sequence : \"))\n",
        "\n",
        "a=0\n",
        "b=1\n",
        "c=a+b\n",
        "while c<n:\n",
        "    print(c,end=' ')\n",
        "    a=b\n",
        "    b=c\n",
        "    c=a+b"
      ],
      "execution_count": null,
      "outputs": []
    },
    {
      "cell_type": "markdown",
      "metadata": {
        "id": "nNtSVFVaeVA4"
      },
      "source": [
        "output:\n",
        "Enter value of n :1000\n",
        "1,2,3,5,8,13,21,34,55,89,144,233,377,610,987"
      ]
    },
    {
      "cell_type": "markdown",
      "metadata": {
        "id": "Or8uT0BOgLDL"
      },
      "source": [
        "# **c)By considering the terms in the Fibonacci sequence whose values do not exceed four million, find the sum of the even-valued terms.**"
      ]
    },
    {
      "cell_type": "code",
      "metadata": {
        "id": "5fbmXcTVgML8"
      },
      "source": [
        "n=int(input(\"enter Limit for Fibonacci sequence : \"))\n",
        "\n",
        "a=0\n",
        "b=1\n",
        "c=a+b\n",
        "fsum=0\n",
        "while c<n:\n",
        "    a=b\n",
        "    b=c\n",
        "    c=a+b\n",
        "    if c%2==0:\n",
        "        print(c,end=' ')\n",
        "        fsum+=c\n",
        "print(\"\")        \n",
        "print(\"sum of even valued termed fibonacci numbers = \",fsum)"
      ],
      "execution_count": null,
      "outputs": []
    },
    {
      "cell_type": "markdown",
      "metadata": {
        "id": "rVMETU8mfEe4"
      },
      "source": [
        "enter Limit for Fibonacci sequence:12\n",
        "2 8 \n",
        "sum of even valued terms in fibonacci sequence is= 10"
      ]
    },
    {
      "cell_type": "markdown",
      "metadata": {
        "id": "cZlHa_yegPZq"
      },
      "source": [
        "#Exercise 5- DATA STRUCTURE\n",
        "# ***1)Write a program to count the numbers of characters in the string and store them in a dictionary data structure ***"
      ]
    },
    {
      "cell_type": "code",
      "metadata": {
        "id": "qOn0cIzFgSKa"
      },
      "source": [
        "text=input(\"enter you name : \")\n",
        "dic={}\n",
        "for ch in text:\n",
        "  keys=dic.keys()\n",
        "\n",
        "  if ch in keys:\n",
        "    dic[ch]=dic[ch]+1\n",
        "  else:\n",
        "    dic[ch]=1\n",
        "print(\"Dictionary is : \",dic)"
      ],
      "execution_count": null,
      "outputs": []
    },
    {
      "cell_type": "markdown",
      "metadata": {
        "id": "0gBMKSCxfivs"
      },
      "source": [
        "enter the name:AJAY\n",
        "enter the name:SURESH\n",
        "enter the name:YONIX\n",
        "enter the name:KK\n",
        "enter the name:KKT\n",
        "list is: ['AJAY', 'SURESH', 'YONIX', 'KK', 'KKT']\n",
        "dictionary is: {'AJAY': 4, 'SURESH': 6, 'YONIX': 5, 'KK': 4, 'KKT': "
      ]
    },
    {
      "cell_type": "markdown",
      "metadata": {
        "id": "-xjAo9bFgU1K"
      },
      "source": [
        "#**2)Write a program to use split and join methods in the string and trace a birthday with adictionary data structure. **\n"
      ]
    },
    {
      "cell_type": "code",
      "metadata": {
        "id": "ORAR-r1KgXqh"
      },
      "source": [
        "text={\"pavan\":\"02-june-2000\",\"ganesh\":\"23-may-2001\"}\n",
        "\n",
        "name=input(\"which person Dob you want : \")\n",
        "l=name.split()\n",
        " \n",
        "for i in l:\n",
        "  if i in text.keys():\n",
        "    print(\" \".join([i,\"birthday is \",text[i]]))"
      ],
      "execution_count": null,
      "outputs": []
    },
    {
      "cell_type": "markdown",
      "metadata": {
        "id": "pHMHOL0jgxRq"
      },
      "source": [
        "which person Dob you want :pavan\n",
        "pavan birthday is  07-Nov-2015"
      ]
    },
    {
      "cell_type": "markdown",
      "metadata": {
        "id": "7XYyRKl3gakq"
      },
      "source": [
        "#Exercise-6 DS - Continued\n",
        "# ***a)Write a program combine lists that combines these lists into a dictionary.***"
      ]
    },
    {
      "cell_type": "code",
      "metadata": {
        "id": "fWx8bGQDgc6F"
      },
      "source": [
        "Regno=[\"534\",\"558\",\"546\",\"564\",\"565\",\"530\"]\n",
        "Student_names=[\"pavaneswar\",\"haneef\",\"ganesh\",\"ajay\",\"karthik\",\"somu\"]\n",
        "\n",
        "print(\"Given List are :\")\n",
        "print(\"Student Names: \",Student_names)\n",
        "print(\"Register no Values: \",Regno)\n",
        "\n",
        "dic=dict(zip(Regno,Student_names))\n",
        "print(\"\\n Dictionary: \",dic)"
      ],
      "execution_count": null,
      "outputs": []
    },
    {
      "cell_type": "markdown",
      "metadata": {
        "id": "mO1-GZ-rhs9l"
      },
      "source": [
        "output:\n",
        "\n",
        "given list are:\n",
        "subject names:['pavaneswar',haneef','ganesh','ajay','karthik','somu']\n",
        "\n",
        "regno:['534','558','546','564','565','530']\n",
        "\n",
        "Dictionary:{'pavaneswar': 534, 'haneef': 558, 'ganesh': 546, 'ajay': 564, 'karthik': 565, 'somu': 530}"
      ]
    },
    {
      "cell_type": "markdown",
      "metadata": {
        "id": "tcoNUdFMgiu8"
      },
      "source": [
        "#**b)Write a program to count frequency of characters in a given file. Can you use character frequency to tell whether the given file is a Python program file, C program file or a text file?**\n"
      ]
    },
    {
      "cell_type": "code",
      "metadata": {
        "id": "MKkt-fdSgjrk"
      },
      "source": [
        "filetype=['.py','.c','.txt']\n",
        "fn=input(\"enter the file name : \")\n",
        "f=open(fn,'r')\n",
        "count=dict()\n",
        "\n",
        "print(\"Given file is \",end=\"\")\n",
        "for ft in filetype:\n",
        "  if (ft in fn):\n",
        "    if(ft=='.py'):\n",
        "      print(\"python file\")\n",
        "    elif(ft=='.c'):\n",
        "      print(\"c file\")\n",
        "    elif(ft=='.txt'):\n",
        "      print(\"Text file\")    \n",
        "for line in f:\n",
        "  for ch in line:\n",
        "    if ch in count:\n",
        "      count[ch]=count[ch]+1\n",
        "    else:\n",
        "      count[ch]=1\n",
        "\n",
        "print(count)\n",
        "f.close()"
      ],
      "execution_count": null,
      "outputs": []
    },
    {
      "cell_type": "markdown",
      "metadata": {
        "id": "SmjdpHFgkXYf"
      },
      "source": [
        "output:\n",
        "enter the file name :mydata.txt\n",
        "given file is text file\n",
        "{'A':2,'j':1,'y':1}\n",
        "enter the file name:add.py\n",
        "Given file is python file\n",
        "{'i':2,'y':8,'o':4}\n"
      ]
    },
    {
      "cell_type": "markdown",
      "metadata": {
        "id": "Lma6ZoyHgrSY"
      },
      "source": [
        "#Exercise 7 Files\n",
        "                             \n",
        "#**a)Write a program to print each line of a file in reverse order.**"
      ]
    },
    {
      "cell_type": "code",
      "metadata": {
        "id": "GP42jh67gsMf"
      },
      "source": [
        "file=open(\"code.txt\",\"r\")\n",
        "if file:\n",
        "  st=file.read()\n",
        "  print(\"File content is: \\n\",st)\n",
        "file.close()\n",
        "\n",
        "print()\n",
        "lines=st.split(\"\\n\")\n",
        "\n",
        "for ln in lines:\n",
        "  i=len(ln)-1\n",
        "  while(i>=0):\n",
        "    print(ln[i],end=\"\")\n",
        "    i=i-1\n",
        "  print()"
      ],
      "execution_count": null,
      "outputs": []
    },
    {
      "cell_type": "markdown",
      "metadata": {
        "id": "a0KUSEW2k5OI"
      },
      "source": [
        "output:\n",
        "File content is \n",
        "my name is ajay\n",
        "yaja si eman ym"
      ]
    },
    {
      "cell_type": "markdown",
      "metadata": {
        "id": "pyv_lGYugvSi"
      },
      "source": [
        "#**2)Write a program to compute the number of characters, words and lines in a file.**"
      ]
    },
    {
      "cell_type": "code",
      "metadata": {
        "id": "H_CYl8EEgyel"
      },
      "source": [
        "no_char=no_words=no_lines=0\n",
        "file=open(\"abc.txt\",\"r\")\n",
        "\n",
        "print(\"File Content : \\n\")\n",
        "for line in file:\n",
        "  ln=line.split(\"\\n\")\n",
        "  print(ln)\n",
        "  words=ln.split()\n",
        "  no_lines+=1\n",
        "  no_words+=len(words)\n",
        "  no_char+=len(line)\n",
        "\n",
        "file.close()\n",
        "print(\"\\n No of Lines : \",no_lines,\" Words:\",no_words,\" Characters:\",no_char)"
      ],
      "execution_count": null,
      "outputs": []
    },
    {
      "cell_type": "markdown",
      "metadata": {
        "id": "RXEa2ep8mcC8"
      },
      "source": [
        "output:\n",
        "file content:\n",
        "hii\n",
        "hello\n",
        "good morning\n",
        "bye\n",
        "NO.of lines: 4 words; 4charactors:22 "
      ]
    },
    {
      "cell_type": "markdown",
      "metadata": {
        "id": "wyccEMihg1MN"
      },
      "source": [
        "#Exercise-8 Functions\n",
        "\n",
        "#**a)Write a function ball collide that takes two balls as parameters and computes if they arecolliding. Your function should return a Boolean representing whether or not the balls are colliding. Hint: Represent a ball on a plane as a tuple of (x, y, r), r being the radius If (distance between two balls centres)= (sum of their radii) then (they are colliding)**\n",
        "\n"
      ]
    },
    {
      "cell_type": "code",
      "metadata": {
        "id": "Fu55mqtzg4b5"
      },
      "source": [
        "nimport math\n",
        "\n",
        "def collide(ball1,ball2):\n",
        "   x1,y1,r1=ball1\n",
        "   x2,y2,r2=ball2\n",
        "\n",
        "   print(\"Ball-1: \",ball1)\n",
        "   print(\"Ball-2: \",ball2)\n",
        "\n",
        "   d=math.sqrt((x2-x1)**2+(y2-y1)**2)\n",
        "   print(\"Centroid Distance of two balls: \",d)\n",
        "   print(\"sum of radius ball-1 and ball-2 is {}+{}={}\".format(r1,r2,r1+r2))\n",
        "\n",
        "   if(d<=r1+r2):\n",
        "     return True\n",
        "   else:\n",
        "     return False\n",
        "\n",
        "b1=(-2,-4,3)\n",
        "b2=(4,6,3)\n",
        "if collide(b1,b2):\n",
        "  print(\"BAll are Colliode...!\")\n",
        "else:\n",
        "  print(\"BAll are not Collide...!\")"
      ],
      "execution_count": null,
      "outputs": []
    },
    {
      "cell_type": "markdown",
      "metadata": {
        "id": "ojzV6YPjnQ-W"
      },
      "source": [
        "aoutput:\n",
        "\n",
        "Ball-1:  (-2, -4, 3)\n",
        "Ball-2:  (4, 6, 3)\n",
        "Centroid Distance of two balls:  5.656854249492381\n",
        "sum of radius ball-1 and ball-2 is 3+3=6\n",
        "BAllS are Colliode...!"
      ]
    },
    {
      "cell_type": "markdown",
      "metadata": {
        "id": "-_ubzDIXg9QX"
      },
      "source": [
        "#**b)Find mean, median, mode for the given set of numbers in a list.** "
      ]
    },
    {
      "cell_type": "code",
      "metadata": {
        "id": "a1qtzNtNhAlF"
      },
      "source": [
        "idef mean(n_list):\n",
        "  return sum(n_list)/len(n_list)\n",
        "def median(n_list):\n",
        "  n_list.sort()\n",
        "  n=len(n_list)\n",
        "  mid=n/2\n",
        "  if(n%2==1):\n",
        "     return n_list[int(mid)]\n",
        "  else:\n",
        "     \n",
        "    return (n_list[mid-1]+n_list[mid])/2\n",
        "\n",
        "def mode(n_list):\n",
        "  n_list.sort()\n",
        "  temp=[]\n",
        "  i=0    \n",
        "  while i<len(n_list):\n",
        "    temp.append(n_list.count(n_list[i]))\n",
        "    i+=1\n",
        "\n",
        "  dic=dict(zip(n_list,temp))\n",
        "  mode={k for(k,v) in dic.items() if v==max(temp)}\n",
        "  return mode\n",
        "\n",
        "n_list1=[10,10,20,20,20,30,40,50,30]\n",
        "\n",
        "print(\"Given list is : \",n_list1)\n",
        "print(\"Mean of the given list: \",mean(n_list1))\n",
        "print(\"Median of the given list: \",median(n_list1))\n",
        "print(\"Mode of the given list: \",mode(n_list1))"
      ],
      "execution_count": null,
      "outputs": []
    },
    {
      "cell_type": "markdown",
      "metadata": {
        "id": "6_Q1MAR7nb92"
      },
      "source": [
        "output:\n",
        "Gediven list :[1,1,2,2,2,3,4,5,3]\n",
        "Mean if the Given List:2.5555555555555554\n",
        "Median of the given list:2\n",
        "mode of the given list:{2}"
      ]
    },
    {
      "cell_type": "markdown",
      "metadata": {
        "id": "EtNVV0RThFJG"
      },
      "source": [
        "#Exercise-9 Functions-Continued\n",
        "\n",
        "#**a)Write a function nealy equal to test whether two strings are nearly equal. Two strings a and bare nearly equal when a can be generated by a single mutation on b.**\n"
      ]
    },
    {
      "cell_type": "code",
      "metadata": {
        "id": "m5Ojt9t0hIW7"
      },
      "source": [
        "def nearly_equal(str1,str2):\n",
        "  count=0\n",
        "  i=j=0\n",
        "  while(i<len(str1) and j<len(str2)):\n",
        "    if (str1[i]!=str2[j]):\n",
        "      count+=1\n",
        "      if (len(str1)>len(str2)):\n",
        "        i+=1\n",
        "      elif (len(str1)==len(str2)):\n",
        "        pass\n",
        "      else:\n",
        "        i-=1\n",
        "    if(count>1):\n",
        "      return False\n",
        "    i+=1\n",
        "    j+=1\n",
        "  if (count<2):\n",
        "    return True\n",
        "\n",
        "s=input(\"enter string-1:\")\n",
        "s1=input(\"enter string-2:\")\n",
        "blen=nearly_equal(s,s1)\n",
        "if (blen):\n",
        "  print(\"String are nearly equal\")\n",
        "else:\n",
        "    print(\"String are NOT equal\")"
      ],
      "execution_count": null,
      "outputs": []
    },
    {
      "cell_type": "markdown",
      "metadata": {
        "id": "MDEvokGtofuE"
      },
      "source": [
        "output:\n",
        "enter string-1:ajay\n",
        "enter string-2:venkat\n",
        "String are NOT equal"
      ]
    },
    {
      "cell_type": "markdown",
      "metadata": {
        "id": "pBmIZOJShNoP"
      },
      "source": [
        "#**b) Write a function dup to find all duplicates in the lis**"
      ]
    },
    {
      "cell_type": "code",
      "metadata": {
        "id": "53l1TYIXhRhT"
      },
      "source": [
        "def duplicates(n_list):\n",
        "  temp=[]\n",
        "  for i in n_list:\n",
        "    coun=n_list.count(i)\n",
        "    if (coun>1 and (i not in temp)):\n",
        "      temp.append(i)\n",
        "  print(\"Duplicates in the list:\",temp) \n",
        "\n",
        "ls=[10,20,10,5,6,87,5]\n",
        "print(\"Given elements in the list:\",ls)\n",
        "duplicates(ls)"
      ],
      "execution_count": null,
      "outputs": []
    },
    {
      "cell_type": "markdown",
      "metadata": {
        "id": "VPzLTcBdovU3"
      },
      "source": [
        "output:\n",
        "Given elements in the list: [5, 42, 10, 5, 6, 8, 5]\n",
        "Duplicates in the list: [5]"
      ]
    },
    {
      "cell_type": "markdown",
      "metadata": {
        "id": "Sh3X7nSBhW-9"
      },
      "source": [
        "#**c) Write a function unique to find all the unique elements of a list.**"
      ]
    },
    {
      "cell_type": "code",
      "metadata": {
        "id": "s0pNVuJ-hYH9"
      },
      "source": [
        "def unique(n_list):\n",
        "  print(\"Unique Elements in the list: \",end=\"\")\n",
        "  for i in n_list:\n",
        "    cnt=n_list.count(i)\n",
        "    if cnt==1:\n",
        "       print(i,end=\" \")\n",
        "  \n",
        "\n",
        "ls=[1,2,3,1,2,3,534,546,558]\n",
        "print(\"Given elements in the list:\",ls)\n",
        "unique(ls)"
      ],
      "execution_count": null,
      "outputs": []
    },
    {
      "cell_type": "markdown",
      "metadata": {
        "id": "2gKKOIKLo17a"
      },
      "source": [
        "output:\n",
        "given elements in the list: [1, 2, 6, 9, 1, 3, 5, 2, 1]\n",
        "unique elements in the list: []\n",
        "unique elements in the list: []\n",
        "unique elements in the list: [6]\n",
        "unique elements in the list: [6, 9]\n",
        "unique elements in the list: [6, 9]\n",
        "unique elements in the list: [6, 9, 3]\n",
        "unique elements in the list: [6, 9, 3, 5]\n",
        "unique elements in the list: [6, 9, 3, 5]\n",
        "unique elements in the list: [6, 9, 3, 5]"
      ]
    },
    {
      "cell_type": "markdown",
      "metadata": {
        "id": "ojknYd4Ohbai"
      },
      "source": [
        "#Exercise-10- Functions - Problem Solving\n",
        "\n",
        "#**a)Write a function cumulative product to compute cumulative product of a list of numbers.**"
      ]
    },
    {
      "cell_type": "code",
      "metadata": {
        "id": "n3Cr6hYuheXN"
      },
      "source": [
        "def c_product(n_list):\n",
        "  pro=1\n",
        "  temp=[]\n",
        "  for i in n_list:\n",
        "    pro*=i\n",
        "    temp.append(pro)\n",
        "  return temp  \n",
        "\n",
        "ls=[1,2,4,3,5]\n",
        "print(\"Given list is: \",ls)\n",
        "print(\"Cumulative Producet list is: \",c_product(ls))"
      ],
      "execution_count": null,
      "outputs": []
    },
    {
      "cell_type": "markdown",
      "metadata": {
        "id": "quXjOxjXpBQS"
      },
      "source": [
        "output:\n",
        "given list is: [1, 5, 4, 7, 8]\n",
        "cumulative product is: [1, 5, 20, 140, 1120]"
      ]
    },
    {
      "cell_type": "markdown",
      "metadata": {
        "id": "RR1CVko2hrR_"
      },
      "source": [
        "#**b) Write a function reverse to reverse a list. Without using the reverse function.**"
      ]
    },
    {
      "cell_type": "code",
      "metadata": {
        "id": "CiqJLZiQht3E"
      },
      "source": [
        "def reverse_list(n_list):\n",
        "  i=0\n",
        "  j=len(n_list)-1\n",
        "  while (i<=j):\n",
        "    temp=n_list[i]\n",
        "    n_list[i]=n_list[j]\n",
        "    n_list[j]=temp\n",
        "    j-=1\n",
        "    i+=1\n",
        "  return n_list\n",
        "\n",
        "ls=[10,20,30,40,50]\n",
        "print(\"Given List is: \",ls)\n",
        "reverse_list(ls)\n",
        "print(\"Reverse of the List is:\",ls)"
      ],
      "execution_count": null,
      "outputs": []
    },
    {
      "cell_type": "markdown",
      "metadata": {
        "id": "6aeT0aWhpfJ9"
      },
      "source": [
        "output:\n",
        "given list is: [1, 2, 3, 4]\n",
        "reverse of the given list is: [4, 3, 2, 1]"
      ]
    },
    {
      "cell_type": "markdown",
      "metadata": {
        "id": "RSvB-qwbh0lh"
      },
      "source": [
        "#**c) Write function to compute ged, lem of two numbers. Each function shouldn't exceed one line.** "
      ]
    },
    {
      "cell_type": "code",
      "metadata": {
        "id": "XX78StZkh1RJ"
      },
      "source": [
        "gcd=lambda a,b: a if b==0 else gcd(a,a%b)\n",
        "lcm=lambda a,b: (a*b)/gcd(a,b)\n",
        "\n",
        "x=2\n",
        "y=4\n",
        "print(\"Given Number: \",x,y)\n",
        "print(\"GCD is: \",gcd(x,y))\n",
        "print(\"LCM is: \",lcm(x,y))"
      ],
      "execution_count": null,
      "outputs": []
    },
    {
      "cell_type": "markdown",
      "metadata": {
        "id": "cy2pbcoxpoRR"
      },
      "source": [
        "output:\n",
        "the given numbers are: 4 24\n",
        "gcd is: 4\n",
        "lcm is: 24.0"
      ]
    },
    {
      "cell_type": "markdown",
      "metadata": {
        "id": "ZF2why3cq64q"
      },
      "source": [
        "#**11A)write a program that defines a matrix and print?**\n"
      ]
    },
    {
      "cell_type": "markdown",
      "metadata": {
        "id": "7wFE9xflrXhl"
      },
      "source": [
        "AIM:to write a program that defines a matrix and print\n",
        "\n",
        "DESCRIPTION:matrix is a set of numbers arranged in rows and columns.it is represented within []."
      ]
    },
    {
      "cell_type": "code",
      "metadata": {
        "id": "XlOwj9hbrM7y"
      },
      "source": [
        "matA=[[]]\n",
        "rows=int(input(\"Enter row size of matrix: \"))\n",
        "cols=int(input(\"Enter column size of matrix: \"))\n",
        "matA=[[int(input(\"Enter[%d,%d] value: \"%(i,j)))for j in range(cols)]for i in range(rows)]\n",
        "print(\"OBTAINED MATRIX IS: \")\n",
        "for i in range(rows):\n",
        "  for j in range(cols):\n",
        "    print(matA[i][j],end='\\t')\n",
        "  print()"
      ],
      "execution_count": null,
      "outputs": []
    },
    {
      "cell_type": "markdown",
      "metadata": {
        "id": "tVMTT_jurOUt"
      },
      "source": [
        "output:\n",
        "Enter row size of matrix: 3\n",
        "Enter column size of matrix: 2\n",
        "Enter[0,0] value: 1\n",
        "Enter[0,1] value: 2\n",
        "Enter[1,0] value: 3\n",
        "Enter[1,1] value: 4\n",
        "Enter[2,0] value: 4\n",
        "Enter[2,1] value: 2\n",
        "OBTAINED MATRIX IS: \n",
        "1\t2\t\n",
        "3\t4\t\n",
        "4\t2"
      ]
    },
    {
      "cell_type": "markdown",
      "metadata": {
        "id": "25tf96RDrZiu"
      },
      "source": [
        "#**11B)Write a program to perform addition of two square matrices?**\n",
        "\n"
      ]
    },
    {
      "cell_type": "markdown",
      "metadata": {
        "id": "aZxWh4KOrfwI"
      },
      "source": [
        "AIM:to Write a program to perform addition of two square matrices\n",
        "\n",
        "DESCRIPTION:Addition of matrix is possible when number of rows are equal to number of columns."
      ]
    },
    {
      "cell_type": "code",
      "metadata": {
        "id": "hCtB-J-Crg2e"
      },
      "source": [
        "def matRead(r,c):\n",
        "  return[[int(input(\"[%d,%d]value:\"%(i,j)))for j in range(c)]for i in range(r)]\n",
        "def matDisp(mat,r,c):\n",
        "  for i in range(r):\n",
        "    for j in range(c):\n",
        "      print(mat[i][j],end='\\t')\n",
        "    print()\n",
        "matA=[[]]\n",
        "matB=[[]]       \n",
        "matSum=[[]]\n",
        "rows=int(input(\"Enter row size of the matrix: \"))\n",
        "cols=int(input(\"Enter column size of the matrix: \"))\n",
        "if rows==cols:\n",
        "  print(\"Enter Matrix-A elements: \")\n",
        "  matA=matRead(rows,cols)\n",
        " \n",
        "  print(\"Enter Matrix-B elements: \")\n",
        "  matB=matRead(rows,cols)\n",
        " \n",
        "  print(\"Matrix-A is: \")\n",
        "  matDisp(matA,rows,cols)\n",
        " \n",
        "  print(\"Matrix-B is: \")\n",
        "  matDisp(matB,rows,cols)\n",
        "  matSum=[[matA[i][j]+matB[i][j]for j in range(cols)]for i in range(rows)]\n",
        "  print(\"sum of matrices is: \")\n",
        "  matDisp(matSum,rows,cols)\n",
        "else:\n",
        "  print(\"Matrices addition is not possible\")"
      ],
      "execution_count": null,
      "outputs": []
    },
    {
      "cell_type": "markdown",
      "metadata": {
        "id": "r0u2f8vtrlxp"
      },
      "source": [
        "\n",
        "outyput:\n",
        "\n",
        "Enter row size of the matrix: 3\n",
        "Enter column size of the matrix: 3\n",
        "Enter Matrix-A elements: \n",
        "[0,0]value:1\n",
        "[0,1]value:2\n",
        "[0,2]value:3\n",
        "[1,0]value:4\n",
        "[1,1]value:5\n",
        "[1,2]value:6\n",
        "[2,0]value:7\n",
        "[2,1]value:8\n",
        "[2,2]value:9\n",
        "Enter Matrix-B elements: \n",
        "[0,0]value:0\n",
        "[0,1]value:1\n",
        "[0,2]value:12\n",
        "[1,0]value:13\n",
        "[1,1]value:14\n",
        "[1,2]value:15\n",
        "[2,0]value:15\n",
        "[2,1]value:23\n",
        "[2,2]value:12\n",
        "Matrix-A is: \n",
        "1\t2\t3\t\n",
        "4\t5\t6\t\n",
        "7\t8\t9\t\n",
        "Matrix-B is: \n",
        "0\t1\t12\t\n",
        "13\t14\t15\t\n",
        "15\t23\t12\t\n",
        "sum of matrices is: \n",
        "1\t3\t15\t\n",
        "17\t19\t21\t\n",
        "22\t31\t21"
      ]
    },
    {
      "cell_type": "markdown",
      "metadata": {
        "id": "FUUA7x3Arsxf"
      },
      "source": [
        "#**11C)Write a program to perform multiplication of two square matrices?**\n"
      ]
    },
    {
      "cell_type": "markdown",
      "metadata": {
        "id": "F_rxmD_erzVC"
      },
      "source": [
        "\n",
        "AIM:to Write a program to perform multiplication of two square matrices\n",
        "\n",
        "DESCRIPTION:matrix multiplication is possible when the number of columns in the first matrix is equal to the number of rows in the second matrix."
      ]
    },
    {
      "cell_type": "code",
      "metadata": {
        "id": "RcZnFA2Srz9-"
      },
      "source": [
        "def  matRead(r,c):  \n",
        "  return[[int(input(\"[%d,%d]value: \"%(i,j)))for j in range(c)]for i in range(r)]\n",
        "def matDisp(mat,r,c):\n",
        "  for i in range(r):\n",
        "    for j in range(c):\n",
        "      print(mat[i][j],end=' ')\n",
        "matA=[[]]\n",
        "matB=[[]]\n",
        "matMul=[[]]\n",
        "rows=int(input(\"Enter row size of the Matrix: \"))\n",
        "cols=int(input(\"Enter column size of the Matrix: \"))\n",
        " \n",
        "if rows==cols:\n",
        "  print(\"Enter Matrix-A:\")\n",
        "  matA=matRead(rows,cols)\n",
        "  print(\"Enter Matrix-B:\")\n",
        "  matB=matRead(rows,cols)\n",
        " \n",
        "  matMul=[[0 for j in range(cols)]for i in range(rows)]\n",
        "  for i in range(rows):\n",
        "    for j in range(cols):\n",
        "      for k in range(cols):\n",
        "        matMul[i][j]+=matA[i][k]*matB[k][j]\n",
        "  print(\"Matrix-A is:\")\n",
        "  matDisp(matA,rows,cols)\n",
        " \n",
        "  print(\"\\nMatrix-B is:\")\n",
        "  matDisp(matB,rows,cols)\n",
        " \n",
        "  print(\"\\nMultiplication of matrices is:\")\n",
        "  matDisp(matMul,rows,cols)\n",
        "else:\n",
        "  print(\"\\nMatrices Multiplication is not possible\")"
      ],
      "execution_count": null,
      "outputs": []
    },
    {
      "cell_type": "markdown",
      "metadata": {
        "id": "bq1BtrPir3cR"
      },
      "source": [
        "output:Enter row size of the Matrix: 3\n",
        "Enter column size of the Matrix: 4\n",
        "\n",
        "Matrices Multiplication is not possible"
      ]
    },
    {
      "cell_type": "markdown",
      "metadata": {
        "id": "WCR0OY6usGL8"
      },
      "source": [
        "#**12B)Write a script that imports requests and fetch content from the page?**\n",
        "\n"
      ]
    },
    {
      "cell_type": "markdown",
      "metadata": {
        "id": "CTDLL7a1sKI5"
      },
      "source": [
        "AIM:To Write a script that imports requests and fetch content from the page.\n",
        "\n",
        "DESCRITION:script is the total format that how a process is going on in the system."
      ]
    },
    {
      "cell_type": "code",
      "metadata": {
        "id": "ynfaIKCFsLAQ"
      },
      "source": [
        "import requests\n",
        "r=requests.get('https://www.google.com')\n",
        "print(\"status code:\",r.status_code)\n",
        "print(\"header content:\",r.headers['content-type'])\n",
        "print(r.text)"
      ],
      "execution_count": null,
      "outputs": []
    },
    {
      "cell_type": "markdown",
      "metadata": {
        "id": "t1efCw7xsQ7j"
      },
      "source": [
        "status code: 200\n",
        "header content: text/html; charset=ISO-8859-1\n",
        "<!doctype html><html itemscope=\"\" itemtype=\"http://schema.org/WebPage\" lang=\"en\"><head><meta content=\"Search the world's information, including webpages, images, videos and more. Google has many special features to help you find exactly what you're looking for.\" name=\"description\"><meta content=\"noodp\" name=\"robots\"><meta content=\"text/html; charset=UTF-8\" http-equiv=\"Content-Type\"><meta content=\"/logos/doodles/2021/doodle-champion-island-games-september-05-6753651837109292-l.png\" itemprop=\"image\"><meta content=\"Doodle Champion Island Games!\" property=\"twitter:title\"><meta content=\"Feline up for a challenge? Help Lucky claim victory in the Doodle Champion Island Games! #GoogleDoodle \" property=\"twitter:description\"><meta content=\"Feline up for a challenge? Help Lucky claim victory in the Doodle Champion Island Games! #GoogleDoodle \" property=\"og:description\"><meta content=\"summary_large_image\" property=\"twitter:card\"><meta content=\"@GoogleDoodles\" property=\"twitter:site\"><meta content=\"https://www.google.com/logos/doodles/2021/doodle-champion-island-games-september-05-6753651837109292-2xa.gif\" property=\"twitter:image\"><meta content=\"https://www.google.com/logos/doodles/2021/doodle-champion-island-games-september-05-6753651837109292-2xa.gif\" property=\"og:image\"><meta content=\"668\" property=\"og:image:width\"><meta content=\"392\" property=\"og:image:height\"><meta content=\"https://www.google.com/logos/doodles/2021/doodle-champion-island-games-september-05-6753651837109292-2xa.gif\" property=\"og:url\"><meta content=\"video.other\" property=\"og:type\"><title>Google</title><script nonce=\"uPCvxqs+eaZ16Kisx3TAmQ==\">(function(){window.google={kEI:'dJ00Yf2RDq6S0PEPm8CxOA',kEXPI:'0,772215,1,530320,56873,954,755,4350,206,4804,926,1390,383,246,5,1354,4936,314,1122516,1197721,562,118,328866,51223,16115,28684,17572,4859,1361,9291,3023,17585,4020,978,13228,3847,4192,6430,1142,6290,11615,2775,920,5080,1593,1279,2212,531,148,1103,840,1983,4,209,4101,109,3405,606,2023,1777,520,14670,3227,2845,7,5599,6755,5096,14396,1924,908,2,941,2614,3784,8926,432,3,1590,1,5445,148,10045,1278,2652,4,1253,275,2304,1236,5226,577,74,1983,2627,2014,11501,2110,1714,3050,2658,4242,3113,32,13628,2305,638,37,1457,5586,3772,5993,1435,651,5152,2554,4094,20,3118,6,908,3,3541,1,5349,9361,1,1813,283,38,874,5992,14678,769,8,1,1272,1344,371,2,3057,6155,11,634,4,14,4,5387,4,683,442,342,255,55,4,434,2377,123,1557,128,615,2350,3503,1576,3,472,8412,1160,1269,5139,291,2381,2718,3709,2,835,3,125,16,3905,1427,360,4275,1213,2409,1,8,173,2,2745,498,4318,1932,190,2446,1596,981,78,2709,888,4577,797,1264,85,1,811,1661,49,590,668,3,792,1602,1461,1167,510,1536,205,331,200,93,231,198,35,675,1,510,393,390,673,419,434,2,23,250,102,485,585,253,967,138,276,849,1251,472,111,256,38,33,5,1198,363,31,84,1249,2,194,654,2,2272,7,5578342,3905,226,220,73,208,2,5995414,1171,2800697,882,444,1,2,80,1,1796,1,9,2553,1,748,141,795,563,1,4265,1,1,2,1331,4142,2609,155,17,13,72,139,4,2,20,2,169,13,19,46,5,39,96,548,29,2,2,1,2,1,2,2,7,4,1,2,2,2,2,2,2,353,513,186,1,1,158,3,2,2,2,2,2,4,2,3,3,269,291,53,66,39,37,15,4,21,23654331,299866,2862026,1179325,338,3,2862,2,463,172,406,9,4775,993',kBL:'Wtym'};google.sn='webhp';google.kHL='en';})();(function(){\n",
        "var f=this||self;var h,k=[];function l(a){for(var b;a&&(!a.getAttribute||!(b=a.getAttribute(\"eid\")));)a=a.parentNode;return b||h}function m(a){for(var b=null;a&&(!a.getAttribute||!(b=a.getAttribute(\"leid\")));)a=a.parentNode;return b}\n",
        "function n(a,b,c,d,g){var e=\"\";c||-1!==b.search(\"&ei=\")||(e=\"&ei=\"+l(d),-1===b.search(\"&lei=\")&&(d=m(d))&&(e+=\"&lei=\"+d));d=\"\";!c&&f._cshid&&-1===b.search(\"&cshid=\")&&\"slh\"!==a&&(d=\"&cshid=\"+f._cshid);c=c||\"/\"+(g||\"gen_204\")+\"?atyp=i&ct=\"+a+\"&cad=\"+b+e+\"&zx=\"+Date.now()+d;/^http:/i.test(c)&&\"https:\"===window.location.protocol&&(google.ml&&google.ml(Error(\"a\"),!1,{src:c,glmm:1}),c=\"\");return c};h=google.kEI;google.getEI=l;google.getLEI=m;google.ml=function(){return null};google.log=function(a,b,c,d,g){if(c=n(a,b,c,d,g)){a=new Image;var e=k.length;k[e]=a;a.onerror=a.onload=a.onabort=function(){delete k[e]};a.src=c}};google.logUrl=n;}).call(this);(function(){\n",
        "google.y={};google.sy=[];google.x=function(a,b){if(a)var c=a.id;else{do c=Math.random();while(google.y[c])}google.y[c]=[a,b];return!1};google.sx=function(a){google.sy.push(a)};google.lm=[];google.plm=function(a){google.lm.push.apply(google.lm,a)};google.lq=[];google.load=function(a,b,c){google.lq.push([[a],b,c])};google.loadAll=function(a,b){google.lq.push([a,b])};google.bx=!1;google.lx=function(){};}).call(this);google.f={};(function(){\n",
        "document.documentElement.addEventListener(\"submit\",function(b){var a;if(a=b.target){var c=a.getAttribute(\"data-submitfalse\");a=\"1\"==c||\"q\"==c&&!a.elements.q.value?!0:!1}else a=!1;a&&(b.preventDefault(),b.stopPropagation())},!0);document.documentElement.addEventListener(\"click\",function(b){var a;a:{for(a=b.target;a&&a!=document.documentElement;a=a.parentElement)if(\"A\"==a.tagName){a=\"1\"==a.getAttribute(\"data-nohref\");break a}a=!1}a&&b.preventDefault()},!0);}).call(this);</script><style>#gbar,#guser{font-size:13px;padding-top:1px !important;}#gbar{height:22px}#guser{padding-bottom:7px !important;text-align:right}.gbh,.gbd{border-top:1px solid #c9d7f1;font-size:1px}.gbh{height:0;position:absolute;top:24px;width:100%}@media all{.gb1{height:22px;margin-right:.5em;vertical-align:top}#gbar{float:left}}a.gb1,a.gb4{text-decoration:underline !important}a.gb1,a.gb4{color:#00c !important}.gbi .gb4{color:#dd8e27 !important}.gbf .gb4{color:#900 !important}\n",
        "</style><style>body,td,a,p,.h{font-family:arial,sans-serif}body{margin:0;overflow-y:scroll}#gog{padding:3px 8px 0}td{line-height:.8em}.gac_m td{line-height:17px}form{margin-bottom:20px}.h{color:#1558d6}em{font-weight:bold;font-style:normal}.lst{height:25px;width:496px}.gsfi,.lst{font:18px arial,sans-serif}.gsfs{font:17px arial,sans-serif}.ds{display:inline-box;display:inline-block;margin:3px 0 4px;margin-left:4px}input{font-family:inherit}body{background:#fff;color:#000}a{color:#4b11a8;text-decoration:none}a:hover,a:active{text-decoration:underline}.fl a{color:#1558d6}a:visited{color:#4b11a8}.sblc{padding-top:5px}.sblc a{display:block;margin:2px 0;margin-left:13px;font-size:11px}.lsbb{background:#f8f9fa;border:solid 1px;border-color:#dadce0 #70757a #70757a #dadce0;height:30px}.lsbb{display:block}#WqQANb a{display:inline-block;margin:0 12px}.lsb{background:url(/images/nav_logo229.png) 0 -261px repeat-x;border:none;color:#000;cursor:pointer;height:30px;margin:0;outline:0;font:15px arial,sans-serif;vertical-align:top}.lsb:active{background:#dadce0}.lst:focus{outline:none}</style><script nonce=\"uPCvxqs+eaZ16Kisx3TAmQ==\"></script></head><body bgcolor=\"#fff\"><script nonce=\"uPCvxqs+eaZ16Kisx3TAmQ==\">(function(){var src='/images/nav_logo229.png';var iesg=false;document.body.onload = function(){window.n && window.n();if (document.images){new Image().src=src;}\n",
        "if (!iesg){document.f&&document.f.q.focus();document.gbqf&&document.gbqf.q.focus();}\n",
        "}\n",
        "})();</script><div id=\"mngb\"><div id=gbar><nobr><b class=gb1>Search</b> <a class=gb1 href=\"https://www.google.com/imghp?hl=en&tab=wi\">Images</a> <a class=gb1 href=\"https://maps.google.com/maps?hl=en&tab=wl\">Maps</a> <a class=gb1 href=\"https://play.google.com/?hl=en&tab=w8\">Play</a> <a class=gb1 href=\"https://www.youtube.com/?gl=US&tab=w1\">YouTube</a> <a class=gb1 href=\"https://news.google.com/?tab=wn\">News</a> <a class=gb1 href=\"https://mail.google.com/mail/?tab=wm\">Gmail</a> <a class=gb1 href=\"https://drive.google.com/?tab=wo\">Drive</a> <a class=gb1 style=\"text-decoration:none\" href=\"https://www.google.com/intl/en/about/products?tab=wh\"><u>More</u> &raquo;</a></nobr></div><div id=guser width=100%><nobr><span id=gbn class=gbi></span><span id=gbf class=gbf></span><span id=gbe></span><a href=\"http://www.google.com/history/optout?hl=en\" class=gb4>Web History</a> | <a  href=\"/preferences?hl=en\" class=gb4>Settings</a> | <a target=_top id=gb_70 href=\"https://accounts.google.com/ServiceLogin?hl=en&passive=true&continue=https://www.google.com/&ec=GAZAAQ\" class=gb4>Sign in</a></nobr></div><div class=gbh style=left:0></div><div class=gbh style=right:0></div></div><center><br clear=\"all\" id=\"lgpd\"><div id=\"lga\"><a href=\"/search?ie=UTF-8&amp;q=Paralympics&amp;oi=ddle&amp;ct=192414335&amp;hl=en&amp;si=AHuW2sT-QI6yLdyEfUBJHlK3UbYl5IMFaEVy5cpr0uPqDA9_otVXb9ripiHnz-EX5hXZ_jIa8ESKopokBeQtHfj9KzxO6Dw9kGEpQWJxyyGVK2B-ksVRRB0%3D&amp;sa=X&amp;ved=0ahUKEwj9m7u80efyAhUuCTQIHRtgDAcQPQgD\"><img alt=\"Doodle Champion Island Games!\" border=\"0\" height=\"196\" src=\"/logos/doodles/2021/doodle-champion-island-games-september-05-6753651837109292-l.png\" title=\"Doodle Champion Island Games!\" width=\"334\" id=\"hplogo\"><br></a><br></div><form action=\"/search\" name=\"f\"><table cellpadding=\"0\" cellspacing=\"0\"><tr valign=\"top\"><td width=\"25%\">&nbsp;</td><td align=\"center\" nowrap=\"\"><input name=\"ie\" value=\"ISO-8859-1\" type=\"hidden\"><input value=\"en\" name=\"hl\" type=\"hidden\"><input name=\"source\" type=\"hidden\" value=\"hp\"><input name=\"biw\" type=\"hidden\"><input name=\"bih\" type=\"hidden\"><div class=\"ds\" style=\"height:32px;margin:4px 0\"><input class=\"lst\" style=\"margin:0;padding:5px 8px 0 6px;vertical-align:top;color:#000\" autocomplete=\"off\" value=\"\" title=\"Google Search\" maxlength=\"2048\" name=\"q\" size=\"57\"></div><br style=\"line-height:0\"><span class=\"ds\"><span class=\"lsbb\"><input class=\"lsb\" value=\"Google Search\" name=\"btnG\" type=\"submit\"></span></span><span class=\"ds\"><span class=\"lsbb\"><input class=\"lsb\" id=\"tsuid1\" value=\"I'm Feeling Lucky\" name=\"btnI\" type=\"submit\"><script nonce=\"uPCvxqs+eaZ16Kisx3TAmQ==\">(function(){var id='tsuid1';document.getElementById(id).onclick = function(){if (this.form.q.value){this.checked = 1;if (this.form.iflsig)this.form.iflsig.disabled = false;}\n"
      ]
    },
    {
      "cell_type": "markdown",
      "metadata": {
        "id": "w0pW39B6sXqU"
      },
      "source": [
        "#**12C)Write a simple script that serves a simple HTTP response and a simple HTMLpage?**\n",
        "\n"
      ]
    },
    {
      "cell_type": "markdown",
      "metadata": {
        "id": "Gvk0fNYLsd5Y"
      },
      "source": [
        "AIM:to Write a simple script that serves a simple HTTP response and a simple HTMLpage\n",
        "\n",
        "DESCRIPTION:script is the total format that how a process is going on in the system."
      ]
    },
    {
      "cell_type": "code",
      "metadata": {
        "id": "Lg4DTR_9sewU"
      },
      "source": [
        "\n",
        "from flask import Flask,render_template\n",
        "app=Flask(__name__)\n",
        "print(app)\n",
        "@app.route(\"/\")\n",
        "def main():\n",
        "  return render_template('login.html')\n",
        "\n",
        "if __name__==\"__main__\":\n",
        "  app.run(host=\"127.0.0.1\",port=2500)\n"
      ],
      "execution_count": null,
      "outputs": []
    },
    {
      "cell_type": "markdown",
      "metadata": {
        "id": "91DdfpuusjGA"
      },
      "source": [
        "\n",
        "from flask import Flask,render_template\n",
        "app=Flask(__name__)\n",
        "print(app)\n",
        "@app.route(\"/\")\n",
        "def main():\n",
        "  return render_template('login.html')\n",
        "\n",
        "if __name__==\"__main__\":\n",
        "  app.run(host=\"127.0.0.1\",port=2500)\n"
      ]
    },
    {
      "cell_type": "markdown",
      "metadata": {
        "id": "D8E61WBOsmcT"
      },
      "source": [
        "#**13A)Class variables and instance variable and illustration of the self variable?1.ROBOT 2.ATM MACHINE**\n",
        "\n"
      ]
    },
    {
      "cell_type": "markdown",
      "metadata": {
        "id": "48idfV8RstXq"
      },
      "source": [
        "AIM: to explain about the class and instance variables and illustrate about the self variable.\n",
        "\n",
        "DESCRIPTON:Class variable:variable that is declared with the static modifier of which a single copy exists.it is a specific attribute or a property of a class and may be reffered as static or member variable.\n",
        "\n",
        "Instance variable:variable that is defined in a class.it has the similarities as same as class variable bit it is non static.\n",
        "\n",
        "Selfvariable:it represents the instance of the class which is often used in OOP."
      ]
    },
    {
      "cell_type": "code",
      "metadata": {
        "id": "VtaK8K0MsuF_"
      },
      "source": [
        "class Robot:\n",
        "    what=\"Machine\"\n",
        "    name=\"Chitti\"\n",
        "    version=1.0\n",
        "    speed=\"1THz\"\n",
        "    memory=\"1ZB\"\n",
        " \n",
        "    def update(upd):\n",
        "        upd.version=2.0\n",
        "        upd.speed=\"2THz\"\n",
        "        upd.memory=\"2ZB\"\n",
        " \n",
        "    def disp(self):\n",
        "        print(\"Myself is a\",robj.what)\n",
        "        print(\"MyName is\",robj.name)\n",
        "        print(\"Version :\",robj.version)\n",
        "        print(\"Speed : \",robj.speed)\n",
        "        print(\"Memory: \",robj.memory)\n",
        " \n",
        "robj=Robot()\n",
        "robj.disp()\n",
        " \n",
        "print(\"###---------------UPDATED VERSION----------------###\")\n",
        "robj.update()\n",
        "robj.disp()"
      ],
      "execution_count": null,
      "outputs": []
    },
    {
      "cell_type": "markdown",
      "metadata": {
        "id": "oltN30jqsyRt"
      },
      "source": [
        "\n",
        "Myself is a Machine\n",
        "MyName is Chitti\n",
        "Version : 1.0\n",
        "Speed :  1THz\n",
        "Memory:  1ZB\n",
        "###---------------UPDATED VERSION----------------###\n",
        "Myself is a Machine\n",
        "MyName is Chitti\n",
        "Version : 2.0\n",
        "Speed :  2THz\n",
        "Memory:  2ZB"
      ]
    },
    {
      "cell_type": "code",
      "metadata": {
        "id": "ymihVQQqtRVx"
      },
      "source": [
        "##2.ATM MACHINE##\n",
        "class ATM:\n",
        "    def __init__(self):\n",
        "        self.balance=0\n",
        "        print(\"New Account\")        \n",
        "    def enquire(self):\n",
        "        print(\"Balance: \",self.balance)       \n",
        "    def deposit(self):\n",
        "        amount=int(input(\"Enter the Deposit Amount:\"))\n",
        "        self.balance+=amount\n",
        "        self.enquire()\n",
        "    def withdraw(self):\n",
        "        amount=int(input(\"Enter the Withdraw Amount: \"))\n",
        "        if self.balance<amount:\n",
        "            print(\"Insufficient Balance.......!\")\n",
        "        else:\n",
        "            self.balance-=amount\n",
        "            self.enquire()\n",
        "aobj=ATM()\n",
        "while(True):\n",
        "    print(\"*****Menu****\")\n",
        "    print(\"1.Deposit\")\n",
        "    print(\"2.Withdraw\")\n",
        "    print(\"3.Balance\")\n",
        "    print(\"0.Exit\")\n",
        "    ch=int(input(\"Enter Your Choice: \"))\n",
        "    if ch==0:\n",
        "        break\n",
        "    elif ch==1:\n",
        "        aobj.deposit()\n",
        "    elif ch==2:\n",
        "        aobj.withdraw()\n",
        "    elif ch==3:\n",
        "        aobj.enquire()\n",
        "    else:\n",
        "        print(\"Invalid choice:\")\n",
        "        pass"
      ],
      "execution_count": null,
      "outputs": []
    },
    {
      "cell_type": "markdown",
      "metadata": {
        "id": "FHFqq7e-tSHe"
      },
      "source": [
        "New Account\n",
        "*****Menu****\n",
        "1.Deposit\n",
        "2.Withdraw\n",
        "3.Balance\n",
        "0.Exit\n",
        "Enter Your Choice: 1\n",
        "Enter the Deposit Amount:5000\n",
        "Balance:  5000\n",
        "*****Menu****\n",
        "1.Deposit\n",
        "2.Withdraw\n",
        "3.Balance\n",
        "0.Exit\n",
        "Enter Your Choice: 2\n",
        "Enter the Withdraw Amount: 400\n",
        "Balance:  4600\n",
        "*****Menu****\n",
        "1.Deposit\n",
        "2.Withdraw\n",
        "3.Balance\n",
        "0.Exit\n",
        "Enter Your Choice: 0"
      ]
    },
    {
      "cell_type": "markdown",
      "metadata": {
        "id": "2Zd5SQjVtbyz"
      },
      "source": [
        "#**14A)write a GUI program for an expression calculator using tk**\n",
        "\n"
      ]
    },
    {
      "cell_type": "markdown",
      "metadata": {
        "id": "oe-rCj3Mti4j"
      },
      "source": [
        "AIM:To write a GUI program for an expression calculator using tk\n",
        "\n",
        "DESCRIPTION:GUI means graphical user interface used for graphical representations like calculator,etc"
      ]
    },
    {
      "cell_type": "code",
      "metadata": {
        "id": "OB7y-HmetkBQ"
      },
      "source": [
        "##PROGRAM##\n",
        "\n",
        "from tkinter import *\n",
        "\n",
        "win=Tk() \n",
        "win.geometry(\"312x324\")   \n",
        "win.resizable(0, 0)   \n",
        "win.title(\"Calculator\")\n",
        "\n",
        " \n",
        "\n",
        "def btn_click(item):    \n",
        "    global expression\n",
        "    expression = expression + str(item)\n",
        "    input_text.set(expression)\n",
        "\n",
        " \n",
        "def bt_clear(): \n",
        "    global expression \n",
        "    expression = \"\" \n",
        "    input_text.set(\"\")\n",
        " \n",
        " \n",
        "def bt_equal():\n",
        "    global expression\n",
        "    result = str(eval(expression))  \n",
        "    input_text.set(result)\n",
        "    expression = \"\"\n",
        " \n",
        "expression = \"\"\n",
        " \n",
        " \n",
        " \n",
        "input_text = StringVar()\n",
        " \n",
        " \n",
        "input_frame = Frame(win, width=312, height=50, bd=0, highlightbackground=\"black\", highlightcolor=\"black\", highlightthickness=2)\n",
        " \n",
        "input_frame.pack(side=TOP)\n",
        "  \n",
        " \n",
        "input_field = Entry(input_frame, font=('arial', 18, 'bold'), textvariable=input_text, width=50, bg=\"#eee\", bd=0, justify=RIGHT)\n",
        " \n",
        "input_field.grid(row=0, column=0)\n",
        "input_field.pack(ipady=10)  \n",
        " \n",
        "btns_frame = Frame(win, width=312, height=272.5, bg=\"grey\")\n",
        " \n",
        "btns_frame.pack()\n",
        " \n",
        " \n",
        " \n",
        "clear = Button(btns_frame, text = \"C\", fg = \"black\", width = 32, height = 3, bd = 0, bg = \"#eee\", cursor = \"hand2\", command = lambda: bt_clear()).grid(row = 0, column = 0, columnspan = 3, padx = 1, pady = 1)\n",
        " \n",
        "divide = Button(btns_frame, text = \"/\", fg = \"black\", width = 10, height = 3, bd = 0, bg = \"#eee\", cursor = \"hand2\", command = lambda: btn_click(\"/\")).grid(row = 0, column = 3, padx = 1, pady = 1)\n",
        " \n",
        " \n",
        "seven = Button(btns_frame, text = \"7\", fg = \"black\", width = 10, height = 3, bd = 0, bg = \"#fff\", cursor = \"hand2\", command = lambda: btn_click(7)).grid(row = 1, column = 0, padx = 1, pady = 1)\n",
        " \n",
        "eight = Button(btns_frame, text = \"8\", fg = \"black\", width = 10, height = 3, bd = 0, bg = \"#fff\", cursor = \"hand2\", command = lambda: btn_click(8)).grid(row = 1, column = 1, padx = 1, pady = 1)\n",
        " \n",
        "nine = Button(btns_frame, text = \"9\", fg = \"black\", width = 10, height = 3, bd = 0, bg = \"#fff\", cursor = \"hand2\", command = lambda: btn_click(9)).grid(row = 1, column = 2, padx = 1, pady = 1)\n",
        " \n",
        "multiply = Button(btns_frame, text = \"*\", fg = \"black\", width = 10, height = 3, bd = 0, bg = \"#eee\", cursor = \"hand2\", command = lambda: btn_click(\"*\")).grid(row = 1, column = 3, padx = 1, pady = 1)\n",
        " \n",
        " \n",
        " \n",
        "four = Button(btns_frame, text = \"4\", fg = \"black\", width = 10, height = 3, bd = 0, bg = \"#fff\", cursor = \"hand2\", command = lambda: btn_click(4)).grid(row = 2, column = 0, padx = 1, pady = 1)\n",
        " \n",
        "five = Button(btns_frame, text = \"5\", fg = \"black\", width = 10, height = 3, bd = 0, bg = \"#fff\", cursor = \"hand2\", command = lambda: btn_click(5)).grid(row = 2, column = 1, padx = 1, pady = 1)\n",
        "six = Button(btns_frame, text = \"6\", fg = \"black\", width = 10, height = 3, bd = 0, bg = \"#fff\", cursor = \"hand2\", command = lambda: btn_click(6)).grid(row = 2, column = 2, padx = 1, pady = 1)\n",
        " \n",
        "minus = Button(btns_frame, text = \"-\", fg = \"black\", width = 10, height = 3, bd = 0, bg = \"#eee\", cursor = \"hand2\", command = lambda: btn_click(\"-\")).grid(row = 2, column = 3, padx = 1, pady = 1)\n",
        "  \n",
        " \n",
        "one = Button(btns_frame, text = \"1\", fg = \"black\", width = 10, height = 3, bd = 0, bg = \"#fff\", cursor = \"hand2\", command = lambda: btn_click(1)).grid(row = 3, column = 0, padx = 1, pady = 1)\n",
        " \n",
        "two = Button(btns_frame, text = \"2\", fg = \"black\", width = 10, height = 3, bd = 0, bg = \"#fff\", cursor = \"hand2\", command = lambda: btn_click(2)).grid(row = 3, column = 1, padx = 1, pady = 1)\n",
        " \n",
        "three = Button(btns_frame, text = \"3\", fg = \"black\", width = 10, height = 3, bd = 0, bg = \"#fff\", cursor = \"hand2\", command = lambda: btn_click(3)).grid(row = 3, column = 2, padx = 1, pady = 1)\n",
        " \n",
        "plus = Button(btns_frame, text = \"+\", fg = \"black\", width = 10, height = 3, bd = 0, bg = \"#eee\", cursor = \"hand2\", command = lambda: btn_click(\"+\")).grid(row = 3, column = 3, padx = 1, pady = 1)\n",
        " \n",
        " \n",
        " \n",
        "zero = Button(btns_frame, text = \"0\", fg = \"black\", width = 21, height = 3, bd = 0, bg = \"#fff\", cursor = \"hand2\", command = lambda: btn_click(0)).grid(row = 4, column = 0, columnspan = 2, padx = 1, pady = 1)\n",
        " \n",
        "point = Button(btns_frame, text = \".\", fg = \"black\", width = 10, height = 3, bd = 0, bg = \"#eee\", cursor = \"hand2\", command = lambda: btn_click(\".\")).grid(row = 4, column = 2, padx = 1, pady = 1)\n",
        " \n",
        "equals = Button(btns_frame, text = \"=\", fg = \"black\", width = 10, height = 3, bd = 0, bg = \"#eee\", cursor = \"hand2\", command = lambda: bt_equal()).grid(row = 4, column = 3, padx = 1, pady = 1)\n",
        " \n",
        "win.mainloop()"
      ],
      "execution_count": null,
      "outputs": []
    },
    {
      "cell_type": "markdown",
      "metadata": {
        "id": "ZjnHMYRttufz"
      },
      "source": [
        "#**14B)write a program to implement the following figures**\n",
        "\n"
      ]
    },
    {
      "cell_type": "markdown",
      "metadata": {
        "id": "M9IFiGuUt2Ty"
      },
      "source": [
        "AIM:to write a program to implement the following figures DESCRIPTION:here turtles are used to implement the figures by giving some measures like angles."
      ]
    },
    {
      "cell_type": "code",
      "metadata": {
        "id": "sJ9zn0s4t3-q"
      },
      "source": [
        "\n",
        "import turtle\n",
        "turtle.pensize(3)\n",
        " \n",
        "for i in range(36):\n",
        "    for j in [4] :\n",
        "     turtle.forward(70)   \n",
        "     turtle.left(55)\n",
        "     turtle.left(30)\n"
      ],
      "execution_count": null,
      "outputs": []
    },
    {
      "cell_type": "markdown",
      "metadata": {
        "id": "bNb5X3Blt6Yo"
      },
      "source": [
        "#**14B)2**"
      ]
    },
    {
      "cell_type": "code",
      "metadata": {
        "id": "uPr6d06Mt_kk"
      },
      "source": [
        "import turtle\n",
        "c=[\"red\",\"green\",\"blue\"]\n",
        "i=o\n",
        "turtle.pensize(3)\n",
        " \n",
        "for angle in range(0,30,60):\n",
        "  if i>2:\n",
        "    i=0\n",
        "     turtle.color(c[i])   \n",
        "     turtle.seth(angle)\n",
        "     turtle.circle(30)\n",
        "     i+=1"
      ],
      "execution_count": null,
      "outputs": []
    },
    {
      "cell_type": "markdown",
      "metadata": {
        "id": "5QNcmQKMuCqX"
      },
      "source": [
        "#**15A)write a test case to check the function even numbers which return true on passing a list of all even numbers**\n"
      ]
    },
    {
      "cell_type": "markdown",
      "metadata": {
        "id": "KwfgQ_i9uJ-6"
      },
      "source": [
        "\n",
        "AIM: To write a test case to check the function even numbers which return true on passing a list of even numbers.\n",
        "\n",
        "DESCRIPTION:function in python is a set of programs.we have to define the function and call when it required.\n",
        "\n",
        "SYNTAX:def function_name():"
      ]
    },
    {
      "cell_type": "code",
      "metadata": {
        "id": "ZkwvHVp0uK0i"
      },
      "source": [
        "def checklistiseven(elements):\n",
        "    p=True\n",
        "    for i in elements:\n",
        "        if i%2==1:\n",
        "            p=False\n",
        "            break\n",
        "    return p         \n",
        "elements=[]\n",
        "n=int(input(\"enter limit of input: \"))\n",
        "for i in range(n):\n",
        "    elements.append(int(input(\"element-\"+str(i+1)+\" : \")))\n",
        "print(checklistiseven(elements))"
      ],
      "execution_count": null,
      "outputs": []
    },
    {
      "cell_type": "markdown",
      "metadata": {
        "id": "-1_r_7D1uNeA"
      },
      "source": [
        "enter limit of input: 2\n",
        "element-1 : 4\n",
        "element-2 : 6\n",
        "True"
      ]
    },
    {
      "cell_type": "markdown",
      "metadata": {
        "id": "ligSsH8IuQ5e"
      },
      "source": [
        "#**15B)write a test case to check the function reverse string which returns the reversed string**\n",
        "\n",
        "\n",
        "\n"
      ]
    },
    {
      "cell_type": "markdown",
      "metadata": {
        "id": "-T1C8lzwuVgt"
      },
      "source": [
        "AIM:to write a test case to check the function reverse string which returns the reversed string.\n",
        "\n",
        "DESCRIPTION:string is a collection of characters and denoted within \" \".here reverse of a string is the reverse form of the given string.\n",
        "\n",
        "EXAMPLE:character:'T','E','J','U' whereas string:\"TEJU\""
      ]
    },
    {
      "cell_type": "code",
      "metadata": {
        "id": "5-AghKlUuWXG"
      },
      "source": [
        "\n",
        "def rev_string(name):\n",
        "    return name[::-1]\n",
        "\n",
        "\n",
        "name=input(\"enter any String: \")\n",
        "\n",
        "print(\"Reverse of the given String = \"+rev_string(name))"
      ],
      "execution_count": null,
      "outputs": []
    },
    {
      "cell_type": "markdown",
      "metadata": {
        "id": "vQFelCoSuZtf"
      },
      "source": [
        "enter any String: tejasri\n",
        "Reverse of the given String = irsajet"
      ]
    },
    {
      "cell_type": "markdown",
      "metadata": {
        "id": "ZvY8MCa0uabD"
      },
      "source": [
        "#**16A)Build any one classical data structure**"
      ]
    },
    {
      "cell_type": "markdown",
      "metadata": {
        "id": "IArGKzJ2uoEK"
      },
      "source": [
        "\n",
        "AIM:Build any one classical data structure\n",
        "\n",
        "DESCRIPTION:in this program we are using stack datastructure and its operations. like push,pop,display."
      ]
    },
    {
      "cell_type": "code",
      "metadata": {
        "id": "sBH4Co1xuuis"
      },
      "source": [
        "stack=[]\n",
        "\n",
        "while True:\n",
        "    print(\"1.Push\\n2.Pop\\n3.Display\\n4.Exit\")\n",
        "    c=int(input(\"enter your choice: \"))\n",
        "    \n",
        "    if c==1:\n",
        "        e=int(input(\"enter element: \"))\n",
        "        stack.append(e)\n",
        "        print(\"element is Pushed\")\n",
        "    elif c==2:\n",
        "        if len(stack)==0:\n",
        "            print(\"stack is empty\")\n",
        "        else:\n",
        "            print(\"element \"+str(stack[len(stack)-1])+\" is Poped\")\n",
        "            stack.remove(stack[len(stack)-1])\n",
        "    elif c==3:\n",
        "        if len(stack)==0:\n",
        "            print(\"stack is empty\")\n",
        "        else:\n",
        "            print(\"elements in the stack : \"+str(stack))    \n",
        "    elif c==4:\n",
        "        break\n",
        "    else:\n",
        "        print(\"invalid choice......\")"
      ],
      "execution_count": null,
      "outputs": []
    },
    {
      "cell_type": "markdown",
      "metadata": {
        "id": "fbTCguk4uxbN"
      },
      "source": [
        "1.Push\n",
        "2.Pop\n",
        "3.Display\n",
        "4.Exit\n",
        "enter your choice: 1\n",
        "enter element: 45\n",
        "element is Pushed\n",
        "1.Push\n",
        "2.Pop\n",
        "3.Display\n",
        "4.Exit\n",
        "enter your choice: 1\n",
        "enter element: 254\n",
        "element is Pushed\n",
        "1.Push\n",
        "2.Pop\n",
        "3.Display\n",
        "4.Exit\n",
        "enter your choice: 2\n",
        "element 254 is Poped\n",
        "1.Push\n",
        "2.Pop\n",
        "3.Display\n",
        "4.Exit\n",
        "enter your choice: 3\n",
        "elements in the stack : [45]\n",
        "1.Push\n",
        "2.Pop\n",
        "3.Display\n",
        "4.Exit\n",
        "enter your choice: 4"
      ]
    },
    {
      "cell_type": "markdown",
      "metadata": {
        "id": "xQaHoJJqu5jt"
      },
      "source": [
        "#**16B)write a program to solve knapsack problem**"
      ]
    },
    {
      "cell_type": "markdown",
      "metadata": {
        "id": "UkEGhMOcvA9b"
      },
      "source": [
        "AIM:write a program to solve knapsack problem.\n",
        "\n",
        "DESCRIPTION:knapsack is one of the problem in algorithms.in this profits,weights and capacity of bag will be given we have to fill the bag with maximum profit without exceeding its cpacity."
      ]
    },
    {
      "cell_type": "code",
      "metadata": {
        "id": "sbiZN0cMu816"
      },
      "source": [
        "\n",
        "def knapSack(W, wt, val, n):\n",
        "\tK = [[0 for x in range(W + 1)] for x in range(n + 1)]\n",
        "\n",
        "\t \n",
        "\tfor i in range(n + 1):\n",
        "\t\tfor w in range(W + 1):\n",
        "\t\t\tif i == 0 or w == 0:\n",
        "\t\t\t\tK[i][w] = 0\n",
        "\t\t\telif wt[i-1] <= w:\n",
        "\t\t\t\tK[i][w] = max(val[i-1] + K[i-1][w-wt[i-1]], K[i-1][w])\n",
        "\t\t\telse:\n",
        "\t\t\t\tK[i][w] = K[i-1][w]\n",
        "\n",
        "\treturn K[n][W]\n",
        "\n",
        " \n",
        "val = [5,3,4]\n",
        "wt = [3,2,1]\n",
        "W = 5\n",
        "n = len(val)\n",
        "print(knapSack(W, wt, val, n))"
      ],
      "execution_count": null,
      "outputs": []
    },
    {
      "cell_type": "markdown",
      "metadata": {
        "id": "RJMY71OqvIit"
      },
      "source": [
        "9"
      ]
    },
    {
      "cell_type": "markdown",
      "metadata": {
        "id": "0vNH0eWdvJmO"
      },
      "source": [
        "#EXERCISE-17&18 DATA ANALYSIS"
      ]
    },
    {
      "cell_type": "markdown",
      "metadata": {
        "id": "57s5InKxvPQc"
      },
      "source": [
        "**Data analysis or manipulation using the following packages\n",
        "a.NUMPY b.PANDAS c.SCIPY d.MATPLOTLIB\n",
        "\n",
        "DESCRIPTION:Data analysis or manipulation using the following packages a) Numpy b) Pandas a) Scipy b) matplotlib DESCRIPTION: Learn how to analyze data using Python..... It includes following parts: Data Analysis libraries: will learn to use Pandas, Numpy and Scipy libraries to work with a sample dataset. We will introduce you to pandas, an open-source library, and we will use it to load, manipulate, analyze, and visualize cool datasets. SciPy is a free and open-source Python library used for scientific computing and technical computing. It is a collection of mathematical algorithms and convenience functions built on the NumPy extension of Python NumPy is the fundamental package for scientific computing in Python. .... NumPy arrays facilitate advanced mathematical and other types of operations on large numbers of data. Matplotlib is a plotting library for the Python programming language and its numerical mathematics extension NumPy. It provides an object-oriented API for embedding plots into applications using general-purpose GUI toolkits like Tkinter, wxPython, Qt, or GTK Pandas is an open source Python package that is most widely used for data science/data analysis and machine learning tasks. It is built on top of another package named Numpy, which provides support for multi-dimensional arrays. Scikit-learn is probably the most useful library for machine learning in Python. The sklearn library contains a lot of eficient tools for machine learning and statistical modeling including classification, regression, clustering and dimensionality reduction. Seaborn is a library in Python predominantly used for making statistical graphics. Seaborn is a data visualization library built on top of matplotlib and closely integrated with pandas data structures in Python"
      ]
    },
    {
      "cell_type": "code",
      "metadata": {
        "id": "FjFNglO2vSXl"
      },
      "source": [
        "import sys\n",
        "print('python:{}'.format(sys.version))\n",
        "\n",
        "#scipy\n",
        "import scipy\n",
        "print('scipy:{}'.format(scipy.__version__))\n",
        "\n",
        "#numpy\n",
        "import  numpy\n",
        "print('numpy:{}'.format(numpy.__version__))\n",
        "\n",
        "#matplotlib\n",
        "import  matplotlib\n",
        "print('matplotlib:{}'.format(matplotlib.__version__))\n",
        "\n",
        "import   pandas\n",
        "print('pandas:{}'.format(pandas.__version__))\n",
        "\n",
        "import  sklearn\n",
        "print('sklearn:{}'.format(sklearn.__version__))\n",
        "\n",
        "import  seaborn\n",
        "print('seaborn:{}'.format(seaborn.__version__))\n",
        "\n",
        "import  urllib\n",
        "print('urllib:{}'.format(urllib.__name__))\n",
        "\n",
        "\n",
        "import  csv\n",
        "print('csv:{}'.format(csv.__version__))"
      ],
      "execution_count": null,
      "outputs": []
    },
    {
      "cell_type": "markdown",
      "metadata": {
        "id": "6sgUKxEtvVez"
      },
      "source": [
        "python:3.7.11 (default, Jul  3 2021, 18:01:19) \n",
        "[GCC 7.5.0]\n",
        "scipy:1.4.1\n",
        "numpy:1.19.5\n",
        "matplotlib:3.2.2\n",
        "pandas:1.1.5\n",
        "sklearn:0.22.2.post1\n",
        "seaborn:0.11.1\n",
        "urllib:urllib\n",
        "csv:1.0"
      ]
    },
    {
      "cell_type": "markdown",
      "metadata": {
        "id": "E3tGMw7ZvYRj"
      },
      "source": [
        ""
      ]
    }
  ]
}