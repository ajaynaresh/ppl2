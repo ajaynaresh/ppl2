{
  "nbformat": 4,
  "nbformat_minor": 0,
  "metadata": {
    "colab": {
      "name": "Untitled2.ipynb",
      "provenance": [],
      "collapsed_sections": [],
      "authorship_tag": "ABX9TyP/tgQ675MTISbereYGs81h",
      "include_colab_link": true
    },
    "kernelspec": {
      "name": "python3",
      "display_name": "Python 3"
    },
    "language_info": {
      "name": "python"
    }
  },
  "cells": [
    {
      "cell_type": "markdown",
      "metadata": {
        "id": "view-in-github",
        "colab_type": "text"
      },
      "source": [
        "<a href=\"https://colab.research.google.com/github/ajaynaresh/ppl2/blob/main/Untitled2.ipynb\" target=\"_parent\"><img src=\"https://colab.research.google.com/assets/colab-badge.svg\" alt=\"Open In Colab\"/></a>"
      ]
    },
    {
      "cell_type": "markdown",
      "metadata": {
        "id": "VBZS3tsecs7l"
      },
      "source": [
        "# b) Write a program to purposefully raise Indentation Error and Corret it"
      ]
    },
    {
      "cell_type": "code",
      "metadata": {
        "id": "yhQsNUTHcueN"
      },
      "source": [
        "if i range(10):\n",
        " print(i)"
      ],
      "execution_count": null,
      "outputs": []
    }
  ]
}