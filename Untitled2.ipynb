{
  "nbformat": 4,
  "nbformat_minor": 0,
  "metadata": {
    "colab": {
      "name": "Untitled2.ipynb",
      "provenance": [],
      "collapsed_sections": [],
      "include_colab_link": true
    },
    "kernelspec": {
      "name": "python3",
      "display_name": "Python 3"
    },
    "language_info": {
      "name": "python"
    }
  },
  "cells": [
    {
      "cell_type": "markdown",
      "metadata": {
        "id": "view-in-github",
        "colab_type": "text"
      },
      "source": [
        "<a href=\"https://colab.research.google.com/github/ajaynaresh/ppl2/blob/main/Untitled2.ipynb\" target=\"_parent\"><img src=\"https://colab.research.google.com/assets/colab-badge.svg\" alt=\"Open In Colab\"/></a>"
      ]
    },
    {
      "cell_type": "markdown",
      "metadata": {
        "id": "u32o0PTFToAe"
      },
      "source": [
        "**Name:Y.A.V.R Naresh**\n",
        "\n",
        "**class:CSE-A**\n",
        "\n",
        "**Roll no: 1921A0564**\n",
        "\n",
        "**LAB-python lab**\n",
        "\n",
        "\n",
        "\n"
      ]
    },
    {
      "cell_type": "markdown",
      "metadata": {
        "id": "M2rFXwGegZvk"
      },
      "source": [
        "#Exercise-1 - Basics\n",
        "AIM: a)Running instructions in interactive interpreter and a python script DESCRIPTION: Python is a high-level, interpreted, interactive and object-oriented scripting language. Python is designed to be highly readable. It uses English keywords frequently where as other languages use punctuation, and it has fewer syntactical constructions than other languages. Python is Interpreted\n",
        "\n",
        "Python is Interactive Python is Object-Oriented Python is a Beginner's Language Python Programming Running Python Scripts Running Python in THREE ways: a) Running Python Interpreter b) Running Python Scripts in IDLE c) Running python scripts in Command Prompt a) Running Python Interpreter: Python comes with an interactive interpreter. When you type python in your shell or command prompt, the python interpreter becomes active with a >>> prompt and waits for your commands b) Running Python Scripts in IDLE: . Go to File menu click on New File (CTRL+N) and write the code and save first.py c) Running python scripts in Command Prompt: ** **bold text · Before going to run we have to check the PATH in environment variables."
      ]
    },
    {
      "cell_type": "markdown",
      "metadata": {
        "id": "sRJCXCtpdyVe"
      },
      "source": [
        "\n",
        "## **a)running instruction in interactive interperter and a python script**"
      ]
    },
    {
      "cell_type": "markdown",
      "metadata": {
        "id": "Ieqr6Np0gh-t"
      },
      "source": [
        "AIM:To write a sample program of python\n",
        "\n",
        "DESCRIPTION:python is an intepreted high level general purpose programming language.it aims to help programmers to write clear,logical code for small and large scale projects."
      ]
    },
    {
      "cell_type": "code",
      "metadata": {
        "id": "XKXSjxP6d8_f",
        "colab": {
          "base_uri": "https://localhost:8080/"
        },
        "outputId": "2d716f73-e7df-440a-f0bf-1d7cab912e41"
      },
      "source": [
        "## a) Running instructions in Interactive interpreter and a Python Script \n",
        "print(\"Hello, Ajay\")\n"
      ],
      "execution_count": null,
      "outputs": [
        {
          "output_type": "stream",
          "name": "stdout",
          "text": [
            "Hello, Ajay\n"
          ]
        }
      ]
    },
    {
      "cell_type": "markdown",
      "metadata": {
        "id": "VBZS3tsecs7l"
      },
      "source": [
        "# **b) Write a program to purposefully raise Indentation Error and Corret it**"
      ]
    },
    {
      "cell_type": "code",
      "metadata": {
        "id": "yhQsNUTHcueN"
      },
      "source": [
        "if True :\n",
        "  print (\"true\")\n",
        "  else:\n",
        "    print(\"false\")"
      ],
      "execution_count": null,
      "outputs": []
    },
    {
      "cell_type": "code",
      "metadata": {
        "id": "JGGJren3WeSE"
      },
      "source": [
        "if True :\n",
        "  print (\"true\")\n",
        "    print (\"true 2\")\n",
        "    else:\n",
        "      print(\"false\")"
      ],
      "execution_count": null,
      "outputs": []
    },
    {
      "cell_type": "markdown",
      "metadata": {
        "id": "YG-iLUAHemrS"
      },
      "source": [
        "#Exercise 2-Operations\n",
        "\n",
        "# **a)Write a program to compute distance between two points taking input from the user** "
      ]
    },
    {
      "cell_type": "markdown",
      "metadata": {
        "id": "MqeQUWXbgxF1"
      },
      "source": [
        "AIM:to Write a program to compute distance between two points taking input from the user(pythagorean theorem)\n",
        "\n",
        "DESCRIPTION:input() is used to take the inputs from the user \n",
        "\n",
        "distance between 2 points is given by pythagorean theorem as d=sqrt((x2-x1)**2+(y2-y1)**2"
      ]
    },
    {
      "cell_type": "code",
      "metadata": {
        "id": "kG3mImp_eyB8",
        "colab": {
          "base_uri": "https://localhost:8080/"
        },
        "outputId": "8060094a-3f47-42a6-dc19-4f460f5759a1"
      },
      "source": [
        "import math\n",
        "x1=int(input(\"enter x1 value : \"))\n",
        "x2=int(input(\"enter x2 value : \"))\n",
        "\n",
        "y1=int(input(\"enter y1 value : \"))\n",
        "y2=int(input(\"enter y2 value : \"))\n",
        "d=math.sqrt((x2-x1)**2+(y2-y1)**2)\n",
        "print(\"Distance between given two points(x1,x2)(y1,y2) :\",d)\n"
      ],
      "execution_count": null,
      "outputs": [
        {
          "output_type": "stream",
          "name": "stdout",
          "text": [
            "enter x1 value : 10\n",
            "enter x2 value : 20\n",
            "enter y1 value : 30\n",
            "enter y2 value : 40\n",
            "Distance between given two points(x1,x2)(y1,y2) : 14.142135623730951\n"
          ]
        }
      ]
    },
    {
      "cell_type": "markdown",
      "metadata": {
        "id": "QKvqFR2se62N"
      },
      "source": [
        "# **b) Write a program add.py that takes 2 numbers as command line arguments and prints its sum.**"
      ]
    },
    {
      "cell_type": "markdown",
      "metadata": {
        "id": "Zpuy_6TTg5jB"
      },
      "source": [
        "AIM:to Write a program add.py that takes 2 numbers as command line argumaments and prints the sum\n",
        "\n",
        "DESCRIPTION:python command line arguments are input parameters passed to the script when executing them."
      ]
    },
    {
      "cell_type": "code",
      "metadata": {
        "id": "9YhhZOPQe8HA"
      },
      "source": [
        "import sys\n",
        "\n",
        "a=int(sys.argv[1])\n",
        "b=int(sys.argv[2])\n",
        " \n",
        "print(\"Sum = \",(a+b))"
      ],
      "execution_count": null,
      "outputs": []
    },
    {
      "cell_type": "markdown",
      "metadata": {
        "id": "YNIXQAWVfAod"
      },
      "source": [
        "# Exercise-3 Control Flow\n",
        "# **a) Write a Program for checking whether the given number is an even number or not.**"
      ]
    },
    {
      "cell_type": "markdown",
      "metadata": {
        "id": "4spWxkv7g_Bw"
      },
      "source": [
        "AIM:to Write a program for checking whether the given number is an even number or not\n",
        "\n",
        "DESCRIPTION:even number is the number which is divisible by 2 i.e; n%2==0\n",
        "\n",
        "here if else statement is used for checking the number even or not"
      ]
    },
    {
      "cell_type": "code",
      "metadata": {
        "id": "iFINRtbVfEPG",
        "colab": {
          "base_uri": "https://localhost:8080/"
        },
        "outputId": "77837e1c-0c07-44ee-8c4f-6f930afc3af3"
      },
      "source": [
        "n=int(input(\"enter a number to check even/odd : \"))\n",
        "\n",
        "if (n%2==0):\n",
        "    print(\"Given numver \",n,\" is Even\")\n",
        "else:\n",
        "   print(\"Given numver \",n,\" is Odd\")"
      ],
      "execution_count": null,
      "outputs": [
        {
          "output_type": "stream",
          "name": "stdout",
          "text": [
            "enter a number to check even/odd : 22\n",
            "Given numver  22  is Even\n"
          ]
        }
      ]
    },
    {
      "cell_type": "markdown",
      "metadata": {
        "id": "d_oVnbQtfJzx"
      },
      "source": [
        "#**b)Using a for loop, write a program that prints out the decimal equivalents of 1/2, 1/3, 1/4,. .1/10**"
      ]
    },
    {
      "cell_type": "markdown",
      "metadata": {
        "id": "6Y-LidQ5hEMA"
      },
      "source": [
        "AIM:to Using a for loop write a program to print out the decimal equivalents of 1/2,1/3,1/4,.....,1/(n-1)\n",
        "\n",
        "DESCRIPTION:a loop statement allows us to execite the statement or group of statements multiple times\n",
        "\n",
        "SYNTAX:for variable in sequence:"
      ]
    },
    {
      "cell_type": "code",
      "metadata": {
        "id": "1sd9l6V4fKsf",
        "colab": {
          "base_uri": "https://localhost:8080/"
        },
        "outputId": "1d84c9c7-87b1-4463-c567-a9b7a6a70c19"
      },
      "source": [
        "n=int(input(\"enter limit for decimal equivalents of (1/2, 1/3, 1/4,. .1/10) : \"))\n",
        "\n",
        "for i in range(2,n):\n",
        "    print(\"1/\",i,\" = \",(1/i))"
      ],
      "execution_count": null,
      "outputs": [
        {
          "output_type": "stream",
          "name": "stdout",
          "text": [
            "enter limit for decimal equivalents of (1/2, 1/3, 1/4,. .1/10) : 10\n",
            "1/ 2  =  0.5\n",
            "1/ 3  =  0.3333333333333333\n",
            "1/ 4  =  0.25\n",
            "1/ 5  =  0.2\n",
            "1/ 6  =  0.16666666666666666\n",
            "1/ 7  =  0.14285714285714285\n",
            "1/ 8  =  0.125\n",
            "1/ 9  =  0.1111111111111111\n"
          ]
        }
      ]
    },
    {
      "cell_type": "markdown",
      "metadata": {
        "id": "IiwW1Vv1fOJd"
      },
      "source": [
        "#**c)Write a program using a for loop that loops over a sequence. What is sequence?**"
      ]
    },
    {
      "cell_type": "markdown",
      "metadata": {
        "id": "tCi08_VEhKGq"
      },
      "source": [
        "AIM:to Write a program using for loop that loops over a sequence\n",
        "\n",
        "DESCRIPTION:a loop statement allows us to execite the statement or group of statements multiple times\n",
        "\n",
        "SYNTAX:for variable in sequence:"
      ]
    },
    {
      "cell_type": "code",
      "metadata": {
        "id": "lTjnDz6dfRO1",
        "colab": {
          "base_uri": "https://localhost:8080/"
        },
        "outputId": "01e321e6-1ac6-445f-fc60-afddce2677b3"
      },
      "source": [
        "sem4_subjects=[\"python\",\"DAA\",\"OS\",\"DBMS\",\"P&S\",\"SE\"]\n",
        "\n",
        "print(\"-------Sem four Subjects--------\")\n",
        "for i in sem4_subjects:\n",
        "    print(i)"
      ],
      "execution_count": null,
      "outputs": [
        {
          "output_type": "stream",
          "name": "stdout",
          "text": [
            "-------Sem four Subjects--------\n",
            "python\n",
            "DAA\n",
            "OS\n",
            "DBMS\n",
            "P&S\n",
            "SE\n"
          ]
        }
      ]
    },
    {
      "cell_type": "markdown",
      "metadata": {
        "id": "wGNYpdF1fYW6"
      },
      "source": [
        "# **d)Write a program using a while loop that asks the user for a number, and prints a countdown from that number to zero.**"
      ]
    },
    {
      "cell_type": "markdown",
      "metadata": {
        "id": "mF1Ra2DHhN9T"
      },
      "source": [
        "AIM:to Write a program using a while loop that asks the user for a number,and prints a countdown from that number to zero\n",
        "\n",
        "DESCRIPTION:a loop statement allows us to execite the statement or group of statements multiple times\n",
        "\n",
        "SYNTAX:while condition:"
      ]
    },
    {
      "cell_type": "code",
      "metadata": {
        "id": "higDCk-4fZZ8",
        "colab": {
          "base_uri": "https://localhost:8080/"
        },
        "outputId": "0bca9f99-3dee-4903-84f4-59858c57d933"
      },
      "source": [
        "n=int(input(\"enter starting point of Countdown: \"))\n",
        "\n",
        "print(\"Countdown Starts:-\")\n",
        "while n>=0:\n",
        "    print(n)\n",
        "    n-=1"
      ],
      "execution_count": null,
      "outputs": [
        {
          "output_type": "stream",
          "name": "stdout",
          "text": [
            "enter starting point of Countdown: 10\n",
            "Countdown Starts:-\n",
            "10\n",
            "9\n",
            "8\n",
            "7\n",
            "6\n",
            "5\n",
            "4\n",
            "3\n",
            "2\n",
            "1\n",
            "0\n"
          ]
        }
      ]
    },
    {
      "cell_type": "markdown",
      "metadata": {
        "id": "oAb68DlqfdUA"
      },
      "source": [
        "#Exercise-4-Control Flow - Continued\n",
        "                   \n",
        "#**a)Find the sum of all the primes below two million.** "
      ]
    },
    {
      "cell_type": "markdown",
      "metadata": {
        "id": "gRMcKuDHhUjM"
      },
      "source": [
        "AIM:to Find the sum of all the prims below 2 million\n",
        "\n",
        "DESCRIPTION:prmie number is a number which is divisible by one and itself\n",
        "\n",
        "here we are using for loop"
      ]
    },
    {
      "cell_type": "code",
      "metadata": {
        "id": "RvkUl8aefgfP",
        "colab": {
          "base_uri": "https://localhost:8080/"
        },
        "outputId": "8290be99-f49a-4cc4-865a-34c518b85ee3"
      },
      "source": [
        "n=int(input(\"enter Limit for sum of primes : \"))\n",
        "psum=0\n",
        "for i in range(2,n+1):\n",
        "    c=0\n",
        "    for j in range(2,i+1):\n",
        "        if i%j==0:\n",
        "            c+=1\n",
        "    if(c==1):\n",
        "        print(i,end=' ')    \n",
        "        psum+=i\n",
        "\n",
        "print(\"\") \n",
        "print(\"Sum of sum number : \",psum)"
      ],
      "execution_count": null,
      "outputs": [
        {
          "output_type": "stream",
          "name": "stdout",
          "text": [
            "enter Limit for sum of primes : 50\n",
            "2 3 5 7 11 13 17 19 23 29 31 37 41 43 47 \n",
            "Sum of sum number :  328\n"
          ]
        }
      ]
    },
    {
      "cell_type": "markdown",
      "metadata": {
        "id": "sFE3A0KdftpA"
      },
      "source": [
        "# **b)each new term in the fibonacci sequence is generated by adding the previous two terms by starting with 1 and 2 the first 10 terms willl be:1,2,3,5,8...89**"
      ]
    },
    {
      "cell_type": "markdown",
      "metadata": {
        "id": "W7X-Bt1UhZ8t"
      },
      "source": [
        "\n",
        "AIM:to Each new term in the fibonacci sequence is generated by adding the previous two terms by starting with 1&2,the first 10 terms will be:1,2,3,5,8,13,21,34,55,89,......\n",
        "\n",
        "DESCRIPTION:fibonacci sequence is series of numbers where a number is formed by the ddition of previous 2 numbers starting with 0 and 1\n",
        "\n",
        "fibonacci sequence is:0,1,1,2,3,5,8,13,21,......"
      ]
    },
    {
      "cell_type": "code",
      "metadata": {
        "id": "DxgBCVaUfvxL",
        "colab": {
          "base_uri": "https://localhost:8080/"
        },
        "outputId": "334752d1-546a-403d-f9d0-e5d62dff136d"
      },
      "source": [
        "n=int(input(\"enter Limit for Fibonacci sequence : \"))\n",
        "\n",
        "a=0\n",
        "b=1\n",
        "c=a+b\n",
        "while c<n:\n",
        "    print(c,end=' ')\n",
        "    a=b\n",
        "    b=c\n",
        "    c=a+b"
      ],
      "execution_count": null,
      "outputs": [
        {
          "output_type": "stream",
          "name": "stdout",
          "text": [
            "enter Limit for Fibonacci sequence : 40\n",
            "1 2 3 5 8 13 21 34 "
          ]
        }
      ]
    },
    {
      "cell_type": "markdown",
      "metadata": {
        "id": "Or8uT0BOgLDL"
      },
      "source": [
        "# **c)By considering the terms in the Fibonacci sequence whose values do not exceed four million, find the sum of the even-valued terms.**"
      ]
    },
    {
      "cell_type": "markdown",
      "metadata": {
        "id": "XnCEqp5qhg0-"
      },
      "source": [
        "AIM:to By considering the terms in the fibonacci sequence whose values do not exceed 4 million find the sum of the even valued terms\n",
        "\n",
        "DESCRIPTION:fibonacci sequence is series of numbers where a number is formed by the ddition of previous 2 numbers starting with 0 and 1\n",
        "\n",
        "fibonacci sequence is:0,1,1,2,3,5,8,13,21,......"
      ]
    },
    {
      "cell_type": "code",
      "metadata": {
        "id": "5fbmXcTVgML8",
        "colab": {
          "base_uri": "https://localhost:8080/"
        },
        "outputId": "87593618-7496-4534-8d37-98745a4e5724"
      },
      "source": [
        "n=int(input(\"enter Limit for Fibonacci sequence : \"))\n",
        "\n",
        "a=0\n",
        "b=1\n",
        "c=a+b\n",
        "fsum=0\n",
        "while c<n:\n",
        "    a=b\n",
        "    b=c\n",
        "    c=a+b\n",
        "    if c%2==0:\n",
        "        print(c,end=' ')\n",
        "        fsum+=c\n",
        "print(\"\")        \n",
        "print(\"sum of even valued termed fibonacci numbers = \",fsum)"
      ],
      "execution_count": null,
      "outputs": [
        {
          "output_type": "stream",
          "name": "stdout",
          "text": [
            "enter Limit for Fibonacci sequence : 50\n",
            "2 8 34 \n",
            "sum of even valued termed fibonacci numbers =  44\n"
          ]
        }
      ]
    },
    {
      "cell_type": "markdown",
      "metadata": {
        "id": "cZlHa_yegPZq"
      },
      "source": [
        "#Exercise 5- DATA STRUCTURE\n",
        "#**1)Write a program to count the numbers of characters in the string and store them in a dictionary data structure**"
      ]
    },
    {
      "cell_type": "markdown",
      "metadata": {
        "id": "GPRI1UPlhs2n"
      },
      "source": [
        "AIM:to Write a program to count the number of characters in the string and store them in a dictionary data structure\n",
        "\n",
        "DESCRIPTION:a dictionary represents a group of elements arranged in the form of key-value pairs the first element is considered as key and the immediate next element is taken as value.kay and value is separated by a colon(:)inserted in curly braces{}"
      ]
    },
    {
      "cell_type": "code",
      "metadata": {
        "id": "qOn0cIzFgSKa",
        "colab": {
          "base_uri": "https://localhost:8080/"
        },
        "outputId": "dba74e74-8cb4-4d90-ff56-c12c5d7e597f"
      },
      "source": [
        "text=input(\"enter you name : \")\n",
        "dic={}\n",
        "for ch in text:\n",
        "  keys=dic.keys()\n",
        "\n",
        "  if ch in keys:\n",
        "    dic[ch]=dic[ch]+1\n",
        "  else:\n",
        "    dic[ch]=1\n",
        "print(\"Dictionary is : \",dic)"
      ],
      "execution_count": null,
      "outputs": [
        {
          "output_type": "stream",
          "name": "stdout",
          "text": [
            "enter you name : ajay\n",
            "Dictionary is :  {'a': 2, 'j': 1, 'y': 1}\n"
          ]
        }
      ]
    },
    {
      "cell_type": "markdown",
      "metadata": {
        "id": "-xjAo9bFgU1K"
      },
      "source": [
        "#**2)Write a program to use split and join methods in the string and trace a birthday with adictionary data structure.**\n"
      ]
    },
    {
      "cell_type": "markdown",
      "metadata": {
        "id": "P5erZyENhxrD"
      },
      "source": [
        "AIM:to Write a program to use split and join methods in the string and trace a birthday with a dictionary data structure\n",
        "\n",
        "DESCRIPTION:a dictionary represents a group of elements arranged in the form of key-value pairs the first element is considered as key and the immediate next element is taken as value.kay and value is separated by a colon(:)inserted in curly braces{}\n",
        "\n",
        "split() splits a string into a list\n",
        "\n",
        "join() takes all items in an iterable and joins them into one string."
      ]
    },
    {
      "cell_type": "code",
      "metadata": {
        "id": "ORAR-r1KgXqh",
        "colab": {
          "base_uri": "https://localhost:8080/"
        },
        "outputId": "363bbb18-434d-4bf3-c73d-5c6eba6a673a"
      },
      "source": [
        "text={\"ajay\":\"02-june-2000\",\"ganesh\":\"23-may-2001\"}\n",
        "\n",
        "name=input(\"which person Dob you want : \")\n",
        "l=name.split()\n",
        " \n",
        "for i in l:\n",
        "  if i in text.keys():\n",
        "    print(\" \".join([i,\"birthday is \",text[i]]))"
      ],
      "execution_count": null,
      "outputs": [
        {
          "output_type": "stream",
          "name": "stdout",
          "text": [
            "which person Dob you want : ajay\n",
            "ajay birthday is  02-june-2000\n"
          ]
        }
      ]
    },
    {
      "cell_type": "markdown",
      "metadata": {
        "id": "7XYyRKl3gakq"
      },
      "source": [
        "#Exercise-6 DS - Continued\n",
        "#**a)Write a program combine lists that combines these lists into a dictionary.**"
      ]
    },
    {
      "cell_type": "markdown",
      "metadata": {
        "id": "wVi_3-pZh4wO"
      },
      "source": [
        "AIM:to Write a program combine lists that combines these lists into a dictionary\n",
        "\n",
        "DESCRIPTION:a dictionary represents a group of elements arranged in the form of key-value pairs the first element is considered as key and the immediate next element is taken as value.kay and value is separated by a colon(:)inserted in curly braces{}\n",
        "\n",
        "list is similar to an array consists of group of elements or items"
      ]
    },
    {
      "cell_type": "code",
      "metadata": {
        "id": "fWx8bGQDgc6F",
        "colab": {
          "base_uri": "https://localhost:8080/"
        },
        "outputId": "40120d6c-79fa-4b87-ebf6-05ba8ea73443"
      },
      "source": [
        "Regno=[\"534\",\"558\",\"546\",\"564\",\"565\",\"530\"]\n",
        "Student_names=[\"pavaneswar\",\"haneef\",\"ganesh\",\"ajay\",\"karthik\",\"somu\"]\n",
        "\n",
        "print(\"Given List are :\")\n",
        "print(\"Student Names: \",Student_names)\n",
        "print(\"Register no Values: \",Regno)\n",
        "\n",
        "dic=dict(zip(Regno,Student_names))\n",
        "print(\"\\n Dictionary: \",dic)"
      ],
      "execution_count": null,
      "outputs": [
        {
          "output_type": "stream",
          "name": "stdout",
          "text": [
            "Given List are :\n",
            "Student Names:  ['pavaneswar', 'haneef', 'ganesh', 'ajay', 'karthik', 'somu']\n",
            "Register no Values:  ['534', '558', '546', '564', '565', '530']\n",
            "\n",
            " Dictionary:  {'534': 'pavaneswar', '558': 'haneef', '546': 'ganesh', '564': 'ajay', '565': 'karthik', '530': 'somu'}\n"
          ]
        }
      ]
    },
    {
      "cell_type": "markdown",
      "metadata": {
        "id": "tcoNUdFMgiu8"
      },
      "source": [
        "#**b)Write a program to count frequency of characters in a given file. Can you use character frequency to tell whether the given file is a Python program file, C program file or a text file?**\n"
      ]
    },
    {
      "cell_type": "markdown",
      "metadata": {
        "id": "ok1qvTi9h7_M"
      },
      "source": [
        "AIM:to Write a program to count frequency of characters in a given file can you use character frequency to fall whether the given file is a python program file,c program file or a text file\n",
        "\n",
        "DESCRIPTION:python has several functions for creating,updating and deleting files. the key function for working with files in python is open()."
      ]
    },
    {
      "cell_type": "code",
      "metadata": {
        "id": "MKkt-fdSgjrk"
      },
      "source": [
        "filetype=['.py','.c','.txt']\n",
        "fn=input(\"enter the file name : \")\n",
        "f=open(fn,'r')\n",
        "count=dict()\n",
        "\n",
        "print(\"Given file is \",end=\"\")\n",
        "for ft in filetype:\n",
        "  if (ft in fn):\n",
        "    if(ft=='.py'):\n",
        "      print(\"python file\")\n",
        "    elif(ft=='.c'):\n",
        "      print(\"c file\")\n",
        "    elif(ft=='.txt'):\n",
        "      print(\"Text file\")    \n",
        "for line in f:\n",
        "  for ch in line:\n",
        "    if ch in count:\n",
        "      count[ch]=count[ch]+1\n",
        "    else:\n",
        "      count[ch]=1\n",
        "\n",
        "print(count)\n",
        "f.close()"
      ],
      "execution_count": null,
      "outputs": []
    },
    {
      "cell_type": "markdown",
      "metadata": {
        "id": "SmjdpHFgkXYf"
      },
      "source": [
        "output:\n",
        "enter the file name :mydata.txt\n",
        "given file is text file\n",
        "{'A':2,'j':1,'y':1}\n",
        "enter the file name:add.py\n",
        "Given file is python file\n",
        "{'i':2,'y':8,'o':4}\n"
      ]
    },
    {
      "cell_type": "markdown",
      "metadata": {
        "id": "Lma6ZoyHgrSY"
      },
      "source": [
        "#Exercise 7 Files\n",
        "                             \n",
        "#**a)Write a program to print each line of a file in reverse order.**"
      ]
    },
    {
      "cell_type": "markdown",
      "metadata": {
        "id": "QHmQiZFliHEF"
      },
      "source": [
        "AIM:to )Write a program to print the line of a file in reverse order\n",
        "\n",
        "DESCRIPTION:python has several functions for creating,updating and deleting files. the key function for working with files in python is open()."
      ]
    },
    {
      "cell_type": "code",
      "metadata": {
        "id": "GP42jh67gsMf"
      },
      "source": [
        "file=open(\"code.txt\",\"r\")\n",
        "if file:\n",
        "  st=file.read()\n",
        "  print(\"File content is: \\n\",st)\n",
        "file.close()\n",
        "\n",
        "print()\n",
        "lines=st.split(\"\\n\")\n",
        "\n",
        "for ln in lines:\n",
        "  i=len(ln)-1\n",
        "  while(i>=0):\n",
        "    print(ln[i],end=\"\")\n",
        "    i=i-1\n",
        "  print()"
      ],
      "execution_count": null,
      "outputs": []
    },
    {
      "cell_type": "markdown",
      "metadata": {
        "id": "a0KUSEW2k5OI"
      },
      "source": [
        "output:\n",
        "File content is \n",
        "my name is ajay\n",
        "yaja si eman ym"
      ]
    },
    {
      "cell_type": "markdown",
      "metadata": {
        "id": "pyv_lGYugvSi"
      },
      "source": [
        "#**2)Write a program to compute the number of characters, words and lines in a file.**"
      ]
    },
    {
      "cell_type": "markdown",
      "metadata": {
        "id": "NHTTxI2viL2U"
      },
      "source": [
        "\n",
        "AIM:to Write a program to compute the number of characters,words and lines in a file\n",
        "\n",
        "DESCRIPTION:python has several functions for creating,updating and deleting files. the key function for working with files in python is open()."
      ]
    },
    {
      "cell_type": "code",
      "metadata": {
        "id": "H_CYl8EEgyel"
      },
      "source": [
        "no_char=no_words=no_lines=0\n",
        "file=open(\"abc.txt\",\"r\")\n",
        "\n",
        "print(\"File Content : \\n\")\n",
        "for line in file:\n",
        "  ln=line.split(\"\\n\")\n",
        "  print(ln)\n",
        "  words=ln.split()\n",
        "  no_lines+=1\n",
        "  no_words+=len(words)\n",
        "  no_char+=len(line)\n",
        "\n",
        "file.close()\n",
        "print(\"\\n No of Lines : \",no_lines,\" Words:\",no_words,\" Characters:\",no_char)"
      ],
      "execution_count": null,
      "outputs": []
    },
    {
      "cell_type": "markdown",
      "metadata": {
        "id": "RXEa2ep8mcC8"
      },
      "source": [
        "output:\n",
        "file content:\n",
        "hii\n",
        "hello\n",
        "good morning\n",
        "bye\n",
        "NO.of lines: 4 words; 4charactors:22 "
      ]
    },
    {
      "cell_type": "markdown",
      "metadata": {
        "id": "wyccEMihg1MN"
      },
      "source": [
        "#Exercise-8 Functions\n",
        "\n",
        "#**a)Write a function ball collide that takes two balls as parameters and computes if they arecolliding. Your function should return a Boolean representing whether or not the balls are colliding. Hint: Represent a ball on a plane as a tuple of (x, y, r), r being the radius If (distance between two balls centres)= (sum of their radii) then (they are colliding)**\n",
        "\n"
      ]
    },
    {
      "cell_type": "markdown",
      "metadata": {
        "id": "GENaVgGbiUBz"
      },
      "source": [
        "\n",
        "AIM:to Write a function ball collide that takes two balls as parameters &compute if they are colliding.your function should return a boolean representing whether or not the balls are colliding\n",
        "\n",
        "DESCRIPTION:firstly we have to calculate the distance between two balls as d=sqrt((x2-x1)2+(y2-y1)2 and then it is compared with the radius of 2 balls (r1+r2) if the distance is less than or equal to the sum of radii then the balls willnot collide otherwise they will collide."
      ]
    },
    {
      "cell_type": "code",
      "metadata": {
        "id": "Fu55mqtzg4b5",
        "colab": {
          "base_uri": "https://localhost:8080/"
        },
        "outputId": "083ce87e-4fa4-49c4-952a-02c6799be583"
      },
      "source": [
        "import math\n",
        "\n",
        "def collide(ball1,ball2):\n",
        "   x1,y1,r1=ball1\n",
        "   x2,y2,r2=ball2\n",
        "\n",
        "   print(\"Ball-1: \",ball1)\n",
        "   print(\"Ball-2: \",ball2)\n",
        "\n",
        "   d=math.sqrt((x2-x1)**2+(y2-y1)**2)\n",
        "   print(\"Centroid Distance of two balls: \",d)\n",
        "   print(\"sum of radius ball-1 and ball-2 is {}+{}={}\".format(r1,r2,r1+r2))\n",
        "\n",
        "   if(d<=r1+r2):\n",
        "     return True\n",
        "   else:\n",
        "     return False\n",
        "\n",
        "b1=(-2,-4,3)\n",
        "b2=(4,6,3)\n",
        "if collide(b1,b2):\n",
        "  print(\"BAll are Colliode...!\")\n",
        "else:\n",
        "  print(\"BAll are not Collide...!\")"
      ],
      "execution_count": null,
      "outputs": [
        {
          "output_type": "stream",
          "name": "stdout",
          "text": [
            "Ball-1:  (-2, -4, 3)\n",
            "Ball-2:  (4, 6, 3)\n",
            "Centroid Distance of two balls:  11.661903789690601\n",
            "sum of radius ball-1 and ball-2 is 3+3=6\n",
            "BAll are not Collide...!\n"
          ]
        }
      ]
    },
    {
      "cell_type": "markdown",
      "metadata": {
        "id": "-_ubzDIXg9QX"
      },
      "source": [
        "#**b)Find mean, median, mode for the given set of numbers in a list.** "
      ]
    },
    {
      "cell_type": "markdown",
      "metadata": {
        "id": "yJhV7N8tiY9h"
      },
      "source": [
        "\n",
        "AIM:To find the mean,median and mode for a given set of numbers in a list\n",
        "\n",
        "DESCRIPTION:mean is calculated as sum of observations/number of observations.\n",
        "\n",
        "median is the middle value in the given list of elements.\n",
        "\n",
        "mode is the mostly occured number in the given list if elements."
      ]
    },
    {
      "cell_type": "code",
      "metadata": {
        "id": "a1qtzNtNhAlF",
        "colab": {
          "base_uri": "https://localhost:8080/"
        },
        "outputId": "8d90876b-f00e-4e38-8fb9-e9411be5faea"
      },
      "source": [
        "def mean(n_list):\n",
        "  return sum(n_list)/len(n_list)\n",
        "def median(n_list):\n",
        "  n_list.sort()\n",
        "  n=len(n_list)\n",
        "  mid=n/2\n",
        "  if(n%2==1):\n",
        "     return n_list[int(mid)]\n",
        "  else:\n",
        "     \n",
        "    return (n_list[mid-1]+n_list[mid])/2\n",
        "\n",
        "def mode(n_list):\n",
        "  n_list.sort()\n",
        "  temp=[]\n",
        "  i=0    \n",
        "  while i<len(n_list):\n",
        "    temp.append(n_list.count(n_list[i]))\n",
        "    i+=1\n",
        "\n",
        "  dic=dict(zip(n_list,temp))\n",
        "  mode={k for(k,v) in dic.items() if v==max(temp)}\n",
        "  return mode\n",
        "\n",
        "n_list1=[10,10,20,20,20,30,40,50,30]\n",
        "\n",
        "print(\"Given list is : \",n_list1)\n",
        "print(\"Mean of the given list: \",mean(n_list1))\n",
        "print(\"Median of the given list: \",median(n_list1))\n",
        "print(\"Mode of the given list: \",mode(n_list1))"
      ],
      "execution_count": null,
      "outputs": [
        {
          "output_type": "stream",
          "name": "stdout",
          "text": [
            "Given list is :  [10, 10, 20, 20, 20, 30, 40, 50, 30]\n",
            "Mean of the given list:  25.555555555555557\n",
            "Median of the given list:  20\n",
            "Mode of the given list:  {20}\n"
          ]
        }
      ]
    },
    {
      "cell_type": "markdown",
      "metadata": {
        "id": "EtNVV0RThFJG"
      },
      "source": [
        "#Exercise-9 Functions-Continued\n",
        "\n",
        "#**a)Write a function nealy equal to test whether two strings are nearly equal. Two strings a and bare nearly equal when a can be generated by a single mutation on b.**\n"
      ]
    },
    {
      "cell_type": "markdown",
      "metadata": {
        "id": "QdaDpW1OieeX"
      },
      "source": [
        "\n",
        "AIM: To Write a function nearly equal to test whether two strings are nearly equal.2 strings a and b are nearly equal when a can be generated by a single mutation on\n",
        "\n",
        "DESCRIPTION:A function in python is a group of code.to run the code we have to call the function after defining the function."
      ]
    },
    {
      "cell_type": "code",
      "metadata": {
        "id": "m5Ojt9t0hIW7",
        "colab": {
          "base_uri": "https://localhost:8080/"
        },
        "outputId": "a4444dcf-d6b9-4e47-bb3f-70346e7077ae"
      },
      "source": [
        "def nearly_equal(str1,str2):\n",
        "  count=0\n",
        "  i=j=0\n",
        "  while(i<len(str1) and j<len(str2)):\n",
        "    if (str1[i]!=str2[j]):\n",
        "      count+=1\n",
        "      if (len(str1)>len(str2)):\n",
        "        i+=1\n",
        "      elif (len(str1)==len(str2)):\n",
        "        pass\n",
        "      else:\n",
        "        i-=1\n",
        "    if(count>1):\n",
        "      return False\n",
        "    i+=1\n",
        "    j+=1\n",
        "  if (count<2):\n",
        "    return True\n",
        "\n",
        "s=input(\"enter string-1:\")\n",
        "s1=input(\"enter string-2:\")\n",
        "blen=nearly_equal(s,s1)\n",
        "if (blen):\n",
        "  print(\"String are nearly equal\")\n",
        "else:\n",
        "    print(\"String are NOT equal\")"
      ],
      "execution_count": 1,
      "outputs": [
        {
          "output_type": "stream",
          "name": "stdout",
          "text": [
            "enter string-1:ajay\n",
            "enter string-2:ajay1\n",
            "String are nearly equal\n"
          ]
        }
      ]
    },
    {
      "cell_type": "markdown",
      "metadata": {
        "id": "pBmIZOJShNoP"
      },
      "source": [
        "#**b) Write a function dup to find all duplicates in the list**"
      ]
    },
    {
      "cell_type": "markdown",
      "metadata": {
        "id": "T3JxBV4oiito"
      },
      "source": [
        "AIM:To Write a function dup to find all the duplicates in the list\n",
        "\n",
        "DESCRIPTION:A function in python is a group of code.to run the code we have to call the function after defining the function.here the function name is dup."
      ]
    },
    {
      "cell_type": "code",
      "metadata": {
        "id": "53l1TYIXhRhT",
        "colab": {
          "base_uri": "https://localhost:8080/"
        },
        "outputId": "60334c15-565f-4142-b345-bd70614a5af9"
      },
      "source": [
        "def duplicates(n_list):\n",
        "  temp=[]\n",
        "  for i in n_list:\n",
        "    coun=n_list.count(i)\n",
        "    if (coun>1 and (i not in temp)):\n",
        "      temp.append(i)\n",
        "  print(\"Duplicates in the list:\",temp) \n",
        "\n",
        "ls=[10,20,10,5,6,87,5]\n",
        "print(\"Given elements in the list:\",ls)\n",
        "duplicates(ls)"
      ],
      "execution_count": 2,
      "outputs": [
        {
          "output_type": "stream",
          "name": "stdout",
          "text": [
            "Given elements in the list: [10, 20, 10, 5, 6, 87, 5]\n",
            "Duplicates in the list: [10, 5]\n"
          ]
        }
      ]
    },
    {
      "cell_type": "markdown",
      "metadata": {
        "id": "Sh3X7nSBhW-9"
      },
      "source": [
        "#**c) Write a function unique to find all the unique elements of a list.**"
      ]
    },
    {
      "cell_type": "markdown",
      "metadata": {
        "id": "cfVWqCpEimGH"
      },
      "source": [
        "AIM:to Write a function unique to find all the unique elements of a list\n",
        "\n",
        "DESCRIPTION:A function in python is a group of code.to run the code we have to call the function after defining the function.here the function name is unique"
      ]
    },
    {
      "cell_type": "code",
      "metadata": {
        "id": "s0pNVuJ-hYH9",
        "colab": {
          "base_uri": "https://localhost:8080/"
        },
        "outputId": "1c316cbd-0c24-409b-ae3d-223fc15d4ad3"
      },
      "source": [
        "def unique(n_list):\n",
        "  print(\"Unique Elements in the list: \",end=\"\")\n",
        "  for i in n_list:\n",
        "    cnt=n_list.count(i)\n",
        "    if cnt==1:\n",
        "       print(i,end=\" \")\n",
        "  \n",
        "\n",
        "ls=[1,2,3,1,2,3,534,546,558]\n",
        "print(\"Given elements in the list:\",ls)\n",
        "unique(ls)"
      ],
      "execution_count": 3,
      "outputs": [
        {
          "output_type": "stream",
          "name": "stdout",
          "text": [
            "Given elements in the list: [1, 2, 3, 1, 2, 3, 534, 546, 558]\n",
            "Unique Elements in the list: 534 546 558 "
          ]
        }
      ]
    },
    {
      "cell_type": "markdown",
      "metadata": {
        "id": "ojknYd4Ohbai"
      },
      "source": [
        "#Exercise-10- Functions - Problem Solving\n",
        "\n",
        "#**a)Write a function cumulative product to compute cumulative product of a list of numbers.**"
      ]
    },
    {
      "cell_type": "markdown",
      "metadata": {
        "id": "p5I0PC7eiqgc"
      },
      "source": [
        "AIM:To Write a function cumulative product to compute product of a list of numbers\n",
        "\n",
        "DESCRIPTION:cumulative product is the sequence of partial products of a given sequence."
      ]
    },
    {
      "cell_type": "code",
      "metadata": {
        "id": "n3Cr6hYuheXN",
        "colab": {
          "base_uri": "https://localhost:8080/"
        },
        "outputId": "1302c78d-b45a-417d-9aab-bf118b7d7e32"
      },
      "source": [
        "def c_product(n_list):\n",
        "  pro=1\n",
        "  temp=[]\n",
        "  for i in n_list:\n",
        "    pro*=i\n",
        "    temp.append(pro)\n",
        "  return temp  \n",
        "\n",
        "ls=[1,2,4,3,5]\n",
        "print(\"Given list is: \",ls)\n",
        "print(\"Cumulative Producet list is: \",c_product(ls))"
      ],
      "execution_count": 4,
      "outputs": [
        {
          "output_type": "stream",
          "name": "stdout",
          "text": [
            "Given list is:  [1, 2, 4, 3, 5]\n",
            "Cumulative Producet list is:  [1, 2, 8, 24, 120]\n"
          ]
        }
      ]
    },
    {
      "cell_type": "markdown",
      "metadata": {
        "id": "RR1CVko2hrR_"
      },
      "source": [
        "#**b) Write a function reverse to reverse a list. Without using the reverse function.**"
      ]
    },
    {
      "cell_type": "markdown",
      "metadata": {
        "id": "NvVjCoQWiuTC"
      },
      "source": [
        "\n",
        "AIM:to Write a function reverse to reverse a list without using reverse function\n",
        "\n",
        "DESCRIPTION:the reverse function accepts the character expression as its argument and returns a string of the same length."
      ]
    },
    {
      "cell_type": "code",
      "metadata": {
        "id": "CiqJLZiQht3E",
        "colab": {
          "base_uri": "https://localhost:8080/"
        },
        "outputId": "fa840052-cf93-4beb-ea1c-524c9e0354ba"
      },
      "source": [
        "def reverse_list(n_list):\n",
        "  i=0\n",
        "  j=len(n_list)-1\n",
        "  while (i<=j):\n",
        "    temp=n_list[i]\n",
        "    n_list[i]=n_list[j]\n",
        "    n_list[j]=temp\n",
        "    j-=1\n",
        "    i+=1\n",
        "  return n_list\n",
        "\n",
        "ls=[10,20,30,40,50]\n",
        "print(\"Given List is: \",ls)\n",
        "reverse_list(ls)\n",
        "print(\"Reverse of the List is:\",ls)"
      ],
      "execution_count": 5,
      "outputs": [
        {
          "output_type": "stream",
          "name": "stdout",
          "text": [
            "Given List is:  [10, 20, 30, 40, 50]\n",
            "Reverse of the List is: [50, 40, 30, 20, 10]\n"
          ]
        }
      ]
    },
    {
      "cell_type": "markdown",
      "metadata": {
        "id": "RSvB-qwbh0lh"
      },
      "source": [
        "#**c) Write function to compute ged, lem of two numbers. Each function shouldn't exceed one line.** "
      ]
    },
    {
      "cell_type": "markdown",
      "metadata": {
        "id": "3euFMN4di15U"
      },
      "source": [
        "AIM:to Write a function to compute gcd,lcm of 2 numbers each function shouldnot exceed one line\n",
        "\n",
        "DESCRIPTION:GCD is the greatest common divisor of two integers .it is the greatest positive integer that divides the 2 integers.\n",
        "\n",
        "LCM is the least common multiple .it is the smalest number that is divisible by 2 integers"
      ]
    },
    {
      "cell_type": "code",
      "metadata": {
        "id": "XX78StZkh1RJ",
        "colab": {
          "base_uri": "https://localhost:8080/"
        },
        "outputId": "9efd935a-ab9a-449c-e076-73d467d3e04e"
      },
      "source": [
        "gcd=lambda a,b: a if b==0 else gcd(a,a%b)\n",
        "lcm=lambda a,b: (a*b)/gcd(a,b)\n",
        "\n",
        "x=2\n",
        "y=4\n",
        "print(\"Given Number: \",x,y)\n",
        "print(\"GCD is: \",gcd(x,y))\n",
        "print(\"LCM is: \",lcm(x,y))"
      ],
      "execution_count": 6,
      "outputs": [
        {
          "output_type": "stream",
          "name": "stdout",
          "text": [
            "Given Number:  2 4\n",
            "GCD is:  2\n",
            "LCM is:  4.0\n"
          ]
        }
      ]
    },
    {
      "cell_type": "markdown",
      "metadata": {
        "id": "KmBMe-pXSFxJ"
      },
      "source": [
        "#Exercise- 11 Multi-D List"
      ]
    },
    {
      "cell_type": "markdown",
      "metadata": {
        "id": "ZF2why3cq64q"
      },
      "source": [
        "#**A)write a program that defines a matrix and print?**\n"
      ]
    },
    {
      "cell_type": "markdown",
      "metadata": {
        "id": "7wFE9xflrXhl"
      },
      "source": [
        "AIM:to write a program that defines a matrix and print\n",
        "\n",
        "DESCRIPTION:matrix is a set of numbers arranged in rows and columns.it is represented within []."
      ]
    },
    {
      "cell_type": "code",
      "metadata": {
        "id": "XlOwj9hbrM7y",
        "colab": {
          "base_uri": "https://localhost:8080/"
        },
        "outputId": "98791b7d-4ac1-4172-cfe5-8544809f79d2"
      },
      "source": [
        "matA=[[]]\n",
        "rows=int(input(\"Enter row size of matrix: \"))\n",
        "cols=int(input(\"Enter column size of matrix: \"))\n",
        "matA=[[int(input(\"Enter[%d,%d] value: \"%(i,j)))for j in range(cols)]for i in range(rows)]\n",
        "print(\"OBTAINED MATRIX IS: \")\n",
        "for i in range(rows):\n",
        "  for j in range(cols):\n",
        "    print(matA[i][j],end='\\t')\n",
        "  print()"
      ],
      "execution_count": 7,
      "outputs": [
        {
          "output_type": "stream",
          "name": "stdout",
          "text": [
            "Enter row size of matrix: 2\n",
            "Enter column size of matrix: 2\n",
            "Enter[0,0] value: 10\n",
            "Enter[0,1] value: 20\n",
            "Enter[1,0] value: 30\n",
            "Enter[1,1] value: 401\n",
            "OBTAINED MATRIX IS: \n",
            "10\t20\t\n",
            "30\t401\t\n"
          ]
        }
      ]
    },
    {
      "cell_type": "markdown",
      "metadata": {
        "id": "25tf96RDrZiu"
      },
      "source": [
        "#**B)Write a program to perform addition of two square matrices?**\n",
        "\n"
      ]
    },
    {
      "cell_type": "markdown",
      "metadata": {
        "id": "aZxWh4KOrfwI"
      },
      "source": [
        "AIM:to Write a program to perform addition of two square matrices\n",
        "\n",
        "DESCRIPTION:Addition of matrix is possible when number of rows are equal to number of columns."
      ]
    },
    {
      "cell_type": "code",
      "metadata": {
        "id": "hCtB-J-Crg2e",
        "colab": {
          "base_uri": "https://localhost:8080/"
        },
        "outputId": "7b10c4c5-d319-462c-f2ac-e95377f134f8"
      },
      "source": [
        "def matRead(r,c):\n",
        "  return[[int(input(\"[%d,%d]value:\"%(i,j)))for j in range(c)]for i in range(r)]\n",
        "def matDisp(mat,r,c):\n",
        "  for i in range(r):\n",
        "    for j in range(c):\n",
        "      print(mat[i][j],end='\\t')\n",
        "    print()\n",
        "matA=[[]]\n",
        "matB=[[]]       \n",
        "matSum=[[]]\n",
        "rows=int(input(\"Enter row size of the matrix: \"))\n",
        "cols=int(input(\"Enter column size of the matrix: \"))\n",
        "if rows==cols:\n",
        "  print(\"Enter Matrix-A elements: \")\n",
        "  matA=matRead(rows,cols)\n",
        " \n",
        "  print(\"Enter Matrix-B elements: \")\n",
        "  matB=matRead(rows,cols)\n",
        " \n",
        "  print(\"Matrix-A is: \")\n",
        "  matDisp(matA,rows,cols)\n",
        " \n",
        "  print(\"Matrix-B is: \")\n",
        "  matDisp(matB,rows,cols)\n",
        "  matSum=[[matA[i][j]+matB[i][j]for j in range(cols)]for i in range(rows)]\n",
        "  print(\"sum of matrices is: \")\n",
        "  matDisp(matSum,rows,cols)\n",
        "else:\n",
        "  print(\"Matrices addition is not possible\")"
      ],
      "execution_count": 8,
      "outputs": [
        {
          "output_type": "stream",
          "name": "stdout",
          "text": [
            "Enter row size of the matrix: 2\n",
            "Enter column size of the matrix: 2\n",
            "Enter Matrix-A elements: \n",
            "[0,0]value:10\n",
            "[0,1]value:20\n",
            "[1,0]value:30\n",
            "[1,1]value:40\n",
            "Enter Matrix-B elements: \n",
            "[0,0]value:20\n",
            "[0,1]value:50\n",
            "[1,0]value:60\n",
            "[1,1]value:98\n",
            "Matrix-A is: \n",
            "10\t20\t\n",
            "30\t40\t\n",
            "Matrix-B is: \n",
            "20\t50\t\n",
            "60\t98\t\n",
            "sum of matrices is: \n",
            "30\t70\t\n",
            "90\t138\t\n"
          ]
        }
      ]
    },
    {
      "cell_type": "markdown",
      "metadata": {
        "id": "FUUA7x3Arsxf"
      },
      "source": [
        "#**C)Write a program to perform multiplication of two square matrices?**\n"
      ]
    },
    {
      "cell_type": "markdown",
      "metadata": {
        "id": "F_rxmD_erzVC"
      },
      "source": [
        "\n",
        "AIM:to Write a program to perform multiplication of two square matrices\n",
        "\n",
        "DESCRIPTION:matrix multiplication is possible when the number of columns in the first matrix is equal to the number of rows in the second matrix."
      ]
    },
    {
      "cell_type": "code",
      "metadata": {
        "id": "RcZnFA2Srz9-",
        "colab": {
          "base_uri": "https://localhost:8080/"
        },
        "outputId": "afb60d0e-a534-4d09-d27b-8131f031c4bf"
      },
      "source": [
        "def  matRead(r,c):  \n",
        "  return[[int(input(\"[%d,%d]value: \"%(i,j)))for j in range(c)]for i in range(r)]\n",
        "def matDisp(mat,r,c):\n",
        "  for i in range(r):\n",
        "    for j in range(c):\n",
        "      print(mat[i][j],end=' ')\n",
        "matA=[[]]\n",
        "matB=[[]]\n",
        "matMul=[[]]\n",
        "rows=int(input(\"Enter row size of the Matrix: \"))\n",
        "cols=int(input(\"Enter column size of the Matrix: \"))\n",
        " \n",
        "if rows==cols:\n",
        "  print(\"Enter Matrix-A:\")\n",
        "  matA=matRead(rows,cols)\n",
        "  print(\"Enter Matrix-B:\")\n",
        "  matB=matRead(rows,cols)\n",
        " \n",
        "  matMul=[[0 for j in range(cols)]for i in range(rows)]\n",
        "  for i in range(rows):\n",
        "    for j in range(cols):\n",
        "      for k in range(cols):\n",
        "        matMul[i][j]+=matA[i][k]*matB[k][j]\n",
        "  print(\"Matrix-A is:\")\n",
        "  matDisp(matA,rows,cols)\n",
        " \n",
        "  print(\"\\nMatrix-B is:\")\n",
        "  matDisp(matB,rows,cols)\n",
        " \n",
        "  print(\"\\nMultiplication of matrices is:\")\n",
        "  matDisp(matMul,rows,cols)\n",
        "else:\n",
        "  print(\"\\nMatrices Multiplication is not possible\")"
      ],
      "execution_count": 9,
      "outputs": [
        {
          "output_type": "stream",
          "name": "stdout",
          "text": [
            "Enter row size of the Matrix: 2\n",
            "Enter column size of the Matrix: 2\n",
            "Enter Matrix-A:\n",
            "[0,0]value: 10\n",
            "[0,1]value: 52\n",
            "[1,0]value: 48\n",
            "[1,1]value: 84\n",
            "Enter Matrix-B:\n",
            "[0,0]value: 48\n",
            "[0,1]value: 35\n",
            "[1,0]value: 021\n",
            "[1,1]value: 45\n",
            "Matrix-A is:\n",
            "10 52 48 84 \n",
            "Matrix-B is:\n",
            "48 35 21 45 \n",
            "Multiplication of matrices is:\n",
            "1572 2690 4068 5460 "
          ]
        }
      ]
    },
    {
      "cell_type": "markdown",
      "metadata": {
        "id": "4Hzm-p1WT651"
      },
      "source": [
        "#Exercise-12 Modules"
      ]
    },
    {
      "cell_type": "markdown",
      "metadata": {
        "id": "WCR0OY6usGL8"
      },
      "source": [
        "#**B)Write a script that imports requests and fetch content from the page?**\n",
        "\n"
      ]
    },
    {
      "cell_type": "markdown",
      "metadata": {
        "id": "CTDLL7a1sKI5"
      },
      "source": [
        "AIM:To Write a script that imports requests and fetch content from the page.\n",
        "\n",
        "DESCRITION:script is the total format that how a process is going on in the system."
      ]
    },
    {
      "cell_type": "code",
      "metadata": {
        "id": "ynfaIKCFsLAQ",
        "colab": {
          "base_uri": "https://localhost:8080/"
        },
        "outputId": "309a75aa-ba81-4ff1-f265-90b8976a9b0a"
      },
      "source": [
        "import requests\n",
        "r=requests.get('https://www.google.com')\n",
        "print(\"status code:\",r.status_code)\n",
        "print(\"header content:\",r.headers['content-type'])\n",
        "print(r.text)"
      ],
      "execution_count": 10,
      "outputs": [
        {
          "output_type": "stream",
          "name": "stdout",
          "text": [
            "status code: 200\n",
            "header content: text/html; charset=ISO-8859-1\n",
            "<!doctype html><html itemscope=\"\" itemtype=\"http://schema.org/WebPage\" lang=\"en\"><head><meta content=\"Search the world's information, including webpages, images, videos and more. Google has many special features to help you find exactly what you're looking for.\" name=\"description\"><meta content=\"noodp\" name=\"robots\"><meta content=\"text/html; charset=UTF-8\" http-equiv=\"Content-Type\"><meta content=\"/images/branding/googleg/1x/googleg_standard_color_128dp.png\" itemprop=\"image\"><title>Google</title><script nonce=\"IHqv9xn52wCmLYcdmn1QmQ==\">(function(){window.google={kEI:'dDVQYaD3EvGq5NoP86qRsA4',kEXPI:'0,1302536,56873,6059,206,4804,2316,383,246,5,1354,4936,315,1122515,1197725,676,328866,51223,16115,28684,17572,4858,1362,9291,3028,17580,4020,978,13226,3849,4192,6430,1142,13621,4282,2778,918,5081,1593,1279,2212,241,289,149,1943,1983,3,4311,3514,606,2023,2297,14670,603,1670,1,953,2845,8,4773,825,6755,5096,7539,6857,1924,908,2,941,6514,8810,432,3,346,1244,1,5445,148,11325,2650,4,1528,2304,1242,5220,577,74,1983,2627,2014,11501,3824,3050,2658,7357,30,3877,9751,2305,639,37,16807,1435,652,1870,3305,2530,4094,3138,6,908,3,3541,1,5349,9361,1,1813,283,912,5992,12347,2331,769,8,1,1272,1715,2,9212,627,4,32,4,5387,4,683,442,342,255,55,4,2811,123,1557,743,5853,2051,6652,171,1589,1160,1269,7811,2719,3708,2,321,2,512,3,148,3898,1427,4635,3640,1,8,351,5194,2172,1933,2636,2577,10,1755,1371,539,2075,1919,3,583,794,1264,91,1,174,630,2250,719,3,1384,130,2,879,1256,4,1,145,4,7,1210,2875,27,86,118,197,3554,50,2074,2355,242,1020,60,1824,40,504,1121,373,179,2,145,108,1045,485,486,7,142,105,216,963,137,1,301,224,436,321,60,158,381,199,4,1549,2041,355,325,1,2,3,266,2,311,15,2,286,64,9,665,274,375,32,1034,1380,779,15,402,4,11,2,5564499,1873,2032,446,73,88,188,1802540,96,4193884,2800696,882,444,1,2,80,1,1796,1,9,2553,1,748,141,795,563,1,4265,1,1,2,1331,4142,2609,155,17,13,72,139,4,2,20,2,169,13,19,46,5,39,96,548,29,2,2,1,2,1,2,2,7,4,1,2,2,2,2,2,2,353,513,186,1,1,158,3,2,2,2,2,2,4,2,3,3,269,461,2,45,3,40,12,5,2,3,17,12,28,10,33,3,7,10,2,35,1,2,5,2,17,25,1,1,1,1,13,23654059,299864,2772895,1268457,338,3,2414,448,2,557,484,9,3243,1534,887,811,40,239,5',kBL:'lszj'};google.sn='webhp';google.kHL='en';})();(function(){\n",
            "var f=this||self;var h,k=[];function l(a){for(var b;a&&(!a.getAttribute||!(b=a.getAttribute(\"eid\")));)a=a.parentNode;return b||h}function m(a){for(var b=null;a&&(!a.getAttribute||!(b=a.getAttribute(\"leid\")));)a=a.parentNode;return b}\n",
            "function n(a,b,c,d,g){var e=\"\";c||-1!==b.search(\"&ei=\")||(e=\"&ei=\"+l(d),-1===b.search(\"&lei=\")&&(d=m(d))&&(e+=\"&lei=\"+d));d=\"\";!c&&f._cshid&&-1===b.search(\"&cshid=\")&&\"slh\"!==a&&(d=\"&cshid=\"+f._cshid);c=c||\"/\"+(g||\"gen_204\")+\"?atyp=i&ct=\"+a+\"&cad=\"+b+e+\"&zx=\"+Date.now()+d;/^http:/i.test(c)&&\"https:\"===window.location.protocol&&(google.ml&&google.ml(Error(\"a\"),!1,{src:c,glmm:1}),c=\"\");return c};h=google.kEI;google.getEI=l;google.getLEI=m;google.ml=function(){return null};google.log=function(a,b,c,d,g){if(c=n(a,b,c,d,g)){a=new Image;var e=k.length;k[e]=a;a.onerror=a.onload=a.onabort=function(){delete k[e]};a.src=c}};google.logUrl=n;}).call(this);(function(){\n",
            "google.y={};google.sy=[];google.x=function(a,b){if(a)var c=a.id;else{do c=Math.random();while(google.y[c])}google.y[c]=[a,b];return!1};google.sx=function(a){google.sy.push(a)};google.lm=[];google.plm=function(a){google.lm.push.apply(google.lm,a)};google.lq=[];google.load=function(a,b,c){google.lq.push([[a],b,c])};google.loadAll=function(a,b){google.lq.push([a,b])};google.bx=!1;google.lx=function(){};}).call(this);google.f={};(function(){\n",
            "document.documentElement.addEventListener(\"submit\",function(b){var a;if(a=b.target){var c=a.getAttribute(\"data-submitfalse\");a=\"1\"===c||\"q\"===c&&!a.elements.q.value?!0:!1}else a=!1;a&&(b.preventDefault(),b.stopPropagation())},!0);document.documentElement.addEventListener(\"click\",function(b){var a;a:{for(a=b.target;a&&a!==document.documentElement;a=a.parentElement)if(\"A\"===a.tagName){a=\"1\"===a.getAttribute(\"data-nohref\");break a}a=!1}a&&b.preventDefault()},!0);}).call(this);</script><style>#gbar,#guser{font-size:13px;padding-top:1px !important;}#gbar{height:22px}#guser{padding-bottom:7px !important;text-align:right}.gbh,.gbd{border-top:1px solid #c9d7f1;font-size:1px}.gbh{height:0;position:absolute;top:24px;width:100%}@media all{.gb1{height:22px;margin-right:.5em;vertical-align:top}#gbar{float:left}}a.gb1,a.gb4{text-decoration:underline !important}a.gb1,a.gb4{color:#00c !important}.gbi .gb4{color:#dd8e27 !important}.gbf .gb4{color:#900 !important}\n",
            "</style><style>body,td,a,p,.h{font-family:arial,sans-serif}body{margin:0;overflow-y:scroll}#gog{padding:3px 8px 0}td{line-height:.8em}.gac_m td{line-height:17px}form{margin-bottom:20px}.h{color:#1558d6}em{font-weight:bold;font-style:normal}.lst{height:25px;width:496px}.gsfi,.lst{font:18px arial,sans-serif}.gsfs{font:17px arial,sans-serif}.ds{display:inline-box;display:inline-block;margin:3px 0 4px;margin-left:4px}input{font-family:inherit}body{background:#fff;color:#000}a{color:#4b11a8;text-decoration:none}a:hover,a:active{text-decoration:underline}.fl a{color:#1558d6}a:visited{color:#4b11a8}.sblc{padding-top:5px}.sblc a{display:block;margin:2px 0;margin-left:13px;font-size:11px}.lsbb{background:#f8f9fa;border:solid 1px;border-color:#dadce0 #70757a #70757a #dadce0;height:30px}.lsbb{display:block}#WqQANb a{display:inline-block;margin:0 12px}.lsb{background:url(/images/nav_logo229.png) 0 -261px repeat-x;border:none;color:#000;cursor:pointer;height:30px;margin:0;outline:0;font:15px arial,sans-serif;vertical-align:top}.lsb:active{background:#dadce0}.lst:focus{outline:none}</style><script nonce=\"IHqv9xn52wCmLYcdmn1QmQ==\">(function(){window.google.erd={sp:'hp',jsr:0,bv:46};\n",
            "var f=this||self;var g,h,k=null!==(g=f.mei)&&void 0!==g?g:1,l=null!==(h=f.sdo)&&void 0!==h?h:!0,n=0,p,q=google.erd,t=q.jsr;google.ml=function(a,b,e,m,d){d=void 0===d?2:d;b&&(p=a&&a.message);if(google.dl)return google.dl(a,d,e),null;if(0>t){window.console&&console.error(a,e);if(-2===t)throw a;b=!1}else b=!a||!a.message||\"Error loading script\"===a.message||n>=k&&!m?!1:!0;if(!b)return null;n++;e=e||{};b=encodeURIComponent;var c=\"/gen_204?atyp=i&ei=\"+b(google.kEI);google.kEXPI&&(c+=\"&jexpid=\"+b(google.kEXPI));c+=\"&srcpg=\"+b(q.sp)+\"&jsr=\"+b(q.jsr)+\"&bver=\"+b(q.bv)+(\"&jsel=\"+d);c+=\"&sn=\"+b(google.sn);for(var r in e)c+=\"&\",c+=b(r),c+=\"=\",c+=b(e[r]);c=c+\"&emsg=\"+b(a.name+\": \"+a.message);c=c+\"&jsst=\"+b(a.stack||\"N/A\");12288<=c.length&&(c=c.substr(0,12288));a=c;m||google.log(0,\"\",a);return a};window.onerror=function(a,b,e,m,d){p!==a&&google.ml(d instanceof Error?d:Error(a),!1,void 0,!1,google.dl?0:2);p=null;l&&n>=k&&(window.onerror=null)};})();</script></head><body bgcolor=\"#fff\"><script nonce=\"IHqv9xn52wCmLYcdmn1QmQ==\">(function(){var src='/images/nav_logo229.png';var iesg=false;document.body.onload = function(){window.n && window.n();if (document.images){new Image().src=src;}\n",
            "if (!iesg){document.f&&document.f.q.focus();document.gbqf&&document.gbqf.q.focus();}\n",
            "}\n",
            "})();</script><div id=\"mngb\"><div id=gbar><nobr><b class=gb1>Search</b> <a class=gb1 href=\"https://www.google.com/imghp?hl=en&tab=wi\">Images</a> <a class=gb1 href=\"https://maps.google.com/maps?hl=en&tab=wl\">Maps</a> <a class=gb1 href=\"https://play.google.com/?hl=en&tab=w8\">Play</a> <a class=gb1 href=\"https://www.youtube.com/?gl=US&tab=w1\">YouTube</a> <a class=gb1 href=\"https://news.google.com/?tab=wn\">News</a> <a class=gb1 href=\"https://mail.google.com/mail/?tab=wm\">Gmail</a> <a class=gb1 href=\"https://drive.google.com/?tab=wo\">Drive</a> <a class=gb1 style=\"text-decoration:none\" href=\"https://www.google.com/intl/en/about/products?tab=wh\"><u>More</u> &raquo;</a></nobr></div><div id=guser width=100%><nobr><span id=gbn class=gbi></span><span id=gbf class=gbf></span><span id=gbe></span><a href=\"http://www.google.com/history/optout?hl=en\" class=gb4>Web History</a> | <a  href=\"/preferences?hl=en\" class=gb4>Settings</a> | <a target=_top id=gb_70 href=\"https://accounts.google.com/ServiceLogin?hl=en&passive=true&continue=https://www.google.com/&ec=GAZAAQ\" class=gb4>Sign in</a></nobr></div><div class=gbh style=left:0></div><div class=gbh style=right:0></div></div><center><br clear=\"all\" id=\"lgpd\"><div id=\"lga\"><img alt=\"Google\" height=\"92\" src=\"/images/branding/googlelogo/1x/googlelogo_white_background_color_272x92dp.png\" style=\"padding:28px 0 14px\" width=\"272\" id=\"hplogo\"><br><br></div><form action=\"/search\" name=\"f\"><table cellpadding=\"0\" cellspacing=\"0\"><tr valign=\"top\"><td width=\"25%\">&nbsp;</td><td align=\"center\" nowrap=\"\"><input name=\"ie\" value=\"ISO-8859-1\" type=\"hidden\"><input value=\"en\" name=\"hl\" type=\"hidden\"><input name=\"source\" type=\"hidden\" value=\"hp\"><input name=\"biw\" type=\"hidden\"><input name=\"bih\" type=\"hidden\"><div class=\"ds\" style=\"height:32px;margin:4px 0\"><input class=\"lst\" style=\"margin:0;padding:5px 8px 0 6px;vertical-align:top;color:#000\" autocomplete=\"off\" value=\"\" title=\"Google Search\" maxlength=\"2048\" name=\"q\" size=\"57\"></div><br style=\"line-height:0\"><span class=\"ds\"><span class=\"lsbb\"><input class=\"lsb\" value=\"Google Search\" name=\"btnG\" type=\"submit\"></span></span><span class=\"ds\"><span class=\"lsbb\"><input class=\"lsb\" id=\"tsuid1\" value=\"I'm Feeling Lucky\" name=\"btnI\" type=\"submit\"><script nonce=\"IHqv9xn52wCmLYcdmn1QmQ==\">(function(){var id='tsuid1';document.getElementById(id).onclick = function(){if (this.form.q.value){this.checked = 1;if (this.form.iflsig)this.form.iflsig.disabled = false;}\n",
            "else top.location='/doodles/';};})();</script><input value=\"ALs-wAMAAAAAYVBDhG4VxvFBGDKChokKfMl2dJhV_WlN\" name=\"iflsig\" type=\"hidden\"></span></span></td><td class=\"fl sblc\" align=\"left\" nowrap=\"\" width=\"25%\"><a href=\"/advanced_search?hl=en&amp;authuser=0\">Advanced search</a></td></tr></table><input id=\"gbv\" name=\"gbv\" type=\"hidden\" value=\"1\"><script nonce=\"IHqv9xn52wCmLYcdmn1QmQ==\">(function(){\n",
            "var a,b=\"1\";if(document&&document.getElementById)if(\"undefined\"!=typeof XMLHttpRequest)b=\"2\";else if(\"undefined\"!=typeof ActiveXObject){var c,d,e=[\"MSXML2.XMLHTTP.6.0\",\"MSXML2.XMLHTTP.3.0\",\"MSXML2.XMLHTTP\",\"Microsoft.XMLHTTP\"];for(c=0;d=e[c++];)try{new ActiveXObject(d),b=\"2\"}catch(h){}}a=b;if(\"2\"==a&&-1==location.search.indexOf(\"&gbv=2\")){var f=google.gbvu,g=document.getElementById(\"gbv\");g&&(g.value=a);f&&window.setTimeout(function(){location.href=f},0)};}).call(this);</script></form><div id=\"gac_scont\"></div><div style=\"font-size:83%;min-height:3.5em\"><br><div id=\"prm\"><style>.szppmdbYutt__middle-slot-promo{font-size:small;margin-bottom:32px}.szppmdbYutt__middle-slot-promo a.ZIeIlb{display:inline-block;text-decoration:none}.szppmdbYutt__middle-slot-promo img{border:none;margin-right:5px;vertical-align:middle}</style><div class=\"szppmdbYutt__middle-slot-promo\" data-ved=\"0ahUKEwiggZidopzzAhVxFVkFHXNVBOYQnIcBCAQ\"><img height=\"42\" src=\"https://www.google.com/images/hpp/YT_RedPlayButton_Icon_48x48.png\" width=\"48\"><a class=\"NKcBbd\" href=\"https://www.google.com/url?q=https://www.youtube.com/watch%3Fv%3DKEy0IdfKecE&amp;source=hpp&amp;id=19026080&amp;ct=3&amp;usg=AFQjCNGWQTMY7phnqE3cRA0xvOyrTkdFIg&amp;sa=X&amp;ved=0ahUKEwiggZidopzzAhVxFVkFHXNVBOYQ8IcBCAU\" rel=\"nofollow\">Watch the Global Citizen concert to help protect the planet and combat poverty</a></div></div></div><span id=\"footer\"><div style=\"font-size:10pt\"><div style=\"margin:19px auto;text-align:center\" id=\"WqQANb\"><a href=\"/intl/en/ads/\">Advertising Programs</a><a href=\"/services/\">Business Solutions</a><a href=\"/intl/en/about.html\">About Google</a></div></div><p style=\"font-size:8pt;color:#70757a\">&copy; 2021 - <a href=\"/intl/en/policies/privacy/\">Privacy</a> - <a href=\"/intl/en/policies/terms/\">Terms</a></p></span></center><script nonce=\"IHqv9xn52wCmLYcdmn1QmQ==\">(function(){window.google.cdo={height:757,width:1440};(function(){\n",
            "var a=window.innerWidth,b=window.innerHeight;if(!a||!b){var c=window.document,d=\"CSS1Compat\"==c.compatMode?c.documentElement:c.body;a=d.clientWidth;b=d.clientHeight}a&&b&&(a!=google.cdo.width||b!=google.cdo.height)&&google.log(\"\",\"\",\"/client_204?&atyp=i&biw=\"+a+\"&bih=\"+b+\"&ei=\"+google.kEI);}).call(this);})();</script> <script nonce=\"IHqv9xn52wCmLYcdmn1QmQ==\">(function(){google.xjs={ck:'',cs:'',excm:[]};})();</script>  <script nonce=\"IHqv9xn52wCmLYcdmn1QmQ==\">(function(){var u='/xjs/_/js/k\\x3dxjs.hp.en_US.3-3KfVctVSg.O/am\\x3dAPgEWA/d\\x3d1/ed\\x3d1/rs\\x3dACT90oEVLBVb0nfiaUgMQCUqA_Do1g6k-g/m\\x3dsb_he,d';\n",
            "var e=this||self,f=function(a){return a};var g;var l=function(a,b){this.g=b===h?a:\"\"};l.prototype.toString=function(){return this.g+\"\"};var h={};\n",
            "function m(){var a=u;google.lx=function(){n(a);google.lx=function(){}};google.bx||google.lx()}\n",
            "function n(a){google.timers&&google.timers.load&&google.tick&&google.tick(\"load\",\"xjsls\");var b=document;var c=\"SCRIPT\";\"application/xhtml+xml\"===b.contentType&&(c=c.toLowerCase());c=b.createElement(c);if(void 0===g){b=null;var k=e.trustedTypes;if(k&&k.createPolicy){try{b=k.createPolicy(\"goog#html\",{createHTML:f,createScript:f,createScriptURL:f})}catch(p){e.console&&e.console.error(p.message)}g=b}else g=b}a=(b=g)?b.createScriptURL(a):a;a=new l(a,h);c.src=a instanceof l&&a.constructor===l?a.g:\"type_error:TrustedResourceUrl\";var d;a=(c.ownerDocument&&c.ownerDocument.defaultView||window).document;(d=(b=null===(d=a.querySelector)||void 0===d?void 0:d.call(a,\"script[nonce]\"))?b.nonce||b.getAttribute(\"nonce\")||\"\":\"\")&&c.setAttribute(\"nonce\",d);document.body.appendChild(c);google.psa=!0};setTimeout(function(){m()},0);})();(function(){window.google.xjsu='/xjs/_/js/k\\x3dxjs.hp.en_US.3-3KfVctVSg.O/am\\x3dAPgEWA/d\\x3d1/ed\\x3d1/rs\\x3dACT90oEVLBVb0nfiaUgMQCUqA_Do1g6k-g/m\\x3dsb_he,d';})();function _DumpException(e){throw e;}\n",
            "function _F_installCss(c){}\n",
            "(function(){google.jl={attn:false,blt:'none',chnk:0,dw:false,dwu:true,emtn:0,end:0,ine:false,lls:'default',pdt:0,rep:0,snet:true,strt:0,ubm:false,uwp:true};})();(function(){var pmc='{\\x22d\\x22:{},\\x22sb_he\\x22:{\\x22agen\\x22:false,\\x22cgen\\x22:false,\\x22client\\x22:\\x22heirloom-hp\\x22,\\x22dh\\x22:true,\\x22dhqt\\x22:true,\\x22ds\\x22:\\x22\\x22,\\x22ffql\\x22:\\x22en\\x22,\\x22fl\\x22:true,\\x22host\\x22:\\x22google.com\\x22,\\x22isbh\\x22:28,\\x22jsonp\\x22:true,\\x22msgs\\x22:{\\x22cibl\\x22:\\x22Clear Search\\x22,\\x22dym\\x22:\\x22Did you mean:\\x22,\\x22lcky\\x22:\\x22I\\\\u0026#39;m Feeling Lucky\\x22,\\x22lml\\x22:\\x22Learn more\\x22,\\x22oskt\\x22:\\x22Input tools\\x22,\\x22psrc\\x22:\\x22This search was removed from your \\\\u003Ca href\\x3d\\\\\\x22/history\\\\\\x22\\\\u003EWeb History\\\\u003C/a\\\\u003E\\x22,\\x22psrl\\x22:\\x22Remove\\x22,\\x22sbit\\x22:\\x22Search by image\\x22,\\x22srch\\x22:\\x22Google Search\\x22},\\x22ovr\\x22:{},\\x22pq\\x22:\\x22\\x22,\\x22refpd\\x22:true,\\x22rfs\\x22:[],\\x22sbas\\x22:\\x220 3px 8px 0 rgba(0,0,0,0.2),0 0 0 1px rgba(0,0,0,0.08)\\x22,\\x22sbpl\\x22:16,\\x22sbpr\\x22:16,\\x22scd\\x22:10,\\x22stok\\x22:\\x22DktQGP0vxLArbqF11fHi7t_WQmM\\x22,\\x22uhde\\x22:false}}';google.pmc=JSON.parse(pmc);})();</script>        </body></html>\n"
          ]
        }
      ]
    },
    {
      "cell_type": "markdown",
      "metadata": {
        "id": "w0pW39B6sXqU"
      },
      "source": [
        "#**C)Write a simple script that serves a simple HTTP response and a simple HTMLpage?**\n",
        "\n"
      ]
    },
    {
      "cell_type": "markdown",
      "metadata": {
        "id": "Gvk0fNYLsd5Y"
      },
      "source": [
        "AIM:to Write a simple script that serves a simple HTTP response and a simple HTMLpage\n",
        "\n",
        "DESCRIPTION:script is the total format that how a process is going on in the system."
      ]
    },
    {
      "cell_type": "code",
      "metadata": {
        "id": "Lg4DTR_9sewU",
        "colab": {
          "base_uri": "https://localhost:8080/"
        },
        "outputId": "cc7cef24-6533-4034-c188-e55041fbe4e6"
      },
      "source": [
        "\n",
        "from flask import Flask,render_template\n",
        "app=Flask(__name__)\n",
        "print(app)\n",
        "@app.route(\"/\")\n",
        "def main():\n",
        "  return render_template('login.html')\n",
        "\n",
        "if __name__==\"__main__\":\n",
        "  app.run(host=\"127.0.0.1\",port=2500)\n"
      ],
      "execution_count": 11,
      "outputs": [
        {
          "output_type": "stream",
          "name": "stdout",
          "text": [
            "<Flask '__main__'>\n",
            " * Serving Flask app \"__main__\" (lazy loading)\n",
            " * Environment: production\n",
            "\u001b[31m   WARNING: This is a development server. Do not use it in a production deployment.\u001b[0m\n",
            "\u001b[2m   Use a production WSGI server instead.\u001b[0m\n",
            " * Debug mode: off\n"
          ]
        },
        {
          "output_type": "stream",
          "name": "stderr",
          "text": [
            " * Running on http://127.0.0.1:2500/ (Press CTRL+C to quit)\n"
          ]
        }
      ]
    },
    {
      "cell_type": "markdown",
      "metadata": {
        "id": "tUreaH46UqHN"
      },
      "source": [
        "#Exercise-13 oop"
      ]
    },
    {
      "cell_type": "markdown",
      "metadata": {
        "id": "D8E61WBOsmcT"
      },
      "source": [
        "#**A)Class variables and instance variable and illustration of the self variable?1.ROBOT 2.ATM MACHINE**\n",
        "\n"
      ]
    },
    {
      "cell_type": "markdown",
      "metadata": {
        "id": "48idfV8RstXq"
      },
      "source": [
        "AIM: to explain about the class and instance variables and illustrate about the self variable.\n",
        "\n",
        "DESCRIPTON:Class variable:variable that is declared with the static modifier of which a single copy exists.it is a specific attribute or a property of a class and may be reffered as static or member variable.\n",
        "\n",
        "Instance variable:variable that is defined in a class.it has the similarities as same as class variable bit it is non static.\n",
        "\n",
        "Selfvariable:it represents the instance of the class which is often used in OOP."
      ]
    },
    {
      "cell_type": "code",
      "metadata": {
        "id": "VtaK8K0MsuF_",
        "colab": {
          "base_uri": "https://localhost:8080/"
        },
        "outputId": "ceffcfec-8b9b-42d9-c57e-7616fb1c1fbb"
      },
      "source": [
        "class Robot:\n",
        "    what=\"Machine\"\n",
        "    name=\"Chitti\"\n",
        "    version=1.0\n",
        "    speed=\"1THz\"\n",
        "    memory=\"1ZB\"\n",
        " \n",
        "    def update(upd):\n",
        "        upd.version=2.0\n",
        "        upd.speed=\"2THz\"\n",
        "        upd.memory=\"2ZB\"\n",
        " \n",
        "    def disp(self):\n",
        "        print(\"Myself is a\",robj.what)\n",
        "        print(\"MyName is\",robj.name)\n",
        "        print(\"Version :\",robj.version)\n",
        "        print(\"Speed : \",robj.speed)\n",
        "        print(\"Memory: \",robj.memory)\n",
        " \n",
        "robj=Robot()\n",
        "robj.disp()\n",
        " \n",
        "print(\"###---------------UPDATED VERSION----------------###\")\n",
        "robj.update()\n",
        "robj.disp()"
      ],
      "execution_count": 12,
      "outputs": [
        {
          "output_type": "stream",
          "name": "stdout",
          "text": [
            "Myself is a Machine\n",
            "MyName is Chitti\n",
            "Version : 1.0\n",
            "Speed :  1THz\n",
            "Memory:  1ZB\n",
            "###---------------UPDATED VERSION----------------###\n",
            "Myself is a Machine\n",
            "MyName is Chitti\n",
            "Version : 2.0\n",
            "Speed :  2THz\n",
            "Memory:  2ZB\n"
          ]
        }
      ]
    },
    {
      "cell_type": "code",
      "metadata": {
        "id": "ymihVQQqtRVx",
        "colab": {
          "base_uri": "https://localhost:8080/"
        },
        "outputId": "d92ec5f3-fb2a-41b8-d593-14d16e75ff1c"
      },
      "source": [
        "##2.ATM MACHINE##\n",
        "class ATM:\n",
        "    def __init__(self):\n",
        "        self.balance=0\n",
        "        print(\"New Account\")        \n",
        "    def enquire(self):\n",
        "        print(\"Balance: \",self.balance)       \n",
        "    def deposit(self):\n",
        "        amount=int(input(\"Enter the Deposit Amount:\"))\n",
        "        self.balance+=amount\n",
        "        self.enquire()\n",
        "    def withdraw(self):\n",
        "        amount=int(input(\"Enter the Withdraw Amount: \"))\n",
        "        if self.balance<amount:\n",
        "            print(\"Insufficient Balance.......!\")\n",
        "        else:\n",
        "            self.balance-=amount\n",
        "            self.enquire()\n",
        "aobj=ATM()\n",
        "while(True):\n",
        "    print(\"*****Menu****\")\n",
        "    print(\"1.Deposit\")\n",
        "    print(\"2.Withdraw\")\n",
        "    print(\"3.Balance\")\n",
        "    print(\"0.Exit\")\n",
        "    ch=int(input(\"Enter Your Choice: \"))\n",
        "    if ch==0:\n",
        "        break\n",
        "    elif ch==1:\n",
        "        aobj.deposit()\n",
        "    elif ch==2:\n",
        "        aobj.withdraw()\n",
        "    elif ch==3:\n",
        "        aobj.enquire()\n",
        "    else:\n",
        "        print(\"Invalid choice:\")\n",
        "        pass"
      ],
      "execution_count": 13,
      "outputs": [
        {
          "name": "stdout",
          "output_type": "stream",
          "text": [
            "New Account\n",
            "*****Menu****\n",
            "1.Deposit\n",
            "2.Withdraw\n",
            "3.Balance\n",
            "0.Exit\n",
            "Enter Your Choice: 1\n",
            "Enter the Deposit Amount:250000\n",
            "Balance:  250000\n",
            "*****Menu****\n",
            "1.Deposit\n",
            "2.Withdraw\n",
            "3.Balance\n",
            "0.Exit\n",
            "Enter Your Choice: 3\n",
            "Balance:  250000\n",
            "*****Menu****\n",
            "1.Deposit\n",
            "2.Withdraw\n",
            "3.Balance\n",
            "0.Exit\n",
            "Enter Your Choice: 0\n"
          ]
        }
      ]
    },
    {
      "cell_type": "markdown",
      "metadata": {
        "id": "CXkSADzfVvFS"
      },
      "source": [
        "#Exercise-14 GUI,Graphics"
      ]
    },
    {
      "cell_type": "markdown",
      "metadata": {
        "id": "2Zd5SQjVtbyz"
      },
      "source": [
        "#**A)write a GUI program for an expression calculator using tk**\n",
        "\n"
      ]
    },
    {
      "cell_type": "markdown",
      "metadata": {
        "id": "oe-rCj3Mti4j"
      },
      "source": [
        "AIM:To write a GUI program for an expression calculator using tk\n",
        "\n",
        "DESCRIPTION:GUI means graphical user interface used for graphical representations like calculator,etc"
      ]
    },
    {
      "cell_type": "code",
      "metadata": {
        "id": "OB7y-HmetkBQ",
        "colab": {
          "base_uri": "https://localhost:8080/",
          "height": 346
        },
        "outputId": "80f424bb-45cf-4cc3-fd1f-c94f7960621b"
      },
      "source": [
        "##PROGRAM##\n",
        "\n",
        "from tkinter import *\n",
        "\n",
        "win=Tk() \n",
        "win.geometry(\"312x324\")   \n",
        "win.resizable(0, 0)   \n",
        "win.title(\"Calculator\")\n",
        "\n",
        " \n",
        "\n",
        "def btn_click(item):    \n",
        "    global expression\n",
        "    expression = expression + str(item)\n",
        "    input_text.set(expression)\n",
        "\n",
        " \n",
        "def bt_clear(): \n",
        "    global expression \n",
        "    expression = \"\" \n",
        "    input_text.set(\"\")\n",
        " \n",
        " \n",
        "def bt_equal():\n",
        "    global expression\n",
        "    result = str(eval(expression))  \n",
        "    input_text.set(result)\n",
        "    expression = \"\"\n",
        " \n",
        "expression = \"\"\n",
        " \n",
        " \n",
        " \n",
        "input_text = StringVar()\n",
        " \n",
        " \n",
        "input_frame = Frame(win, width=312, height=50, bd=0, highlightbackground=\"black\", highlightcolor=\"black\", highlightthickness=2)\n",
        " \n",
        "input_frame.pack(side=TOP)\n",
        "  \n",
        " \n",
        "input_field = Entry(input_frame, font=('arial', 18, 'bold'), textvariable=input_text, width=50, bg=\"#eee\", bd=0, justify=RIGHT)\n",
        " \n",
        "input_field.grid(row=0, column=0)\n",
        "input_field.pack(ipady=10)  \n",
        " \n",
        "btns_frame = Frame(win, width=312, height=272.5, bg=\"grey\")\n",
        " \n",
        "btns_frame.pack()\n",
        " \n",
        " \n",
        " \n",
        "clear = Button(btns_frame, text = \"C\", fg = \"black\", width = 32, height = 3, bd = 0, bg = \"#eee\", cursor = \"hand2\", command = lambda: bt_clear()).grid(row = 0, column = 0, columnspan = 3, padx = 1, pady = 1)\n",
        " \n",
        "divide = Button(btns_frame, text = \"/\", fg = \"black\", width = 10, height = 3, bd = 0, bg = \"#eee\", cursor = \"hand2\", command = lambda: btn_click(\"/\")).grid(row = 0, column = 3, padx = 1, pady = 1)\n",
        " \n",
        " \n",
        "seven = Button(btns_frame, text = \"7\", fg = \"black\", width = 10, height = 3, bd = 0, bg = \"#fff\", cursor = \"hand2\", command = lambda: btn_click(7)).grid(row = 1, column = 0, padx = 1, pady = 1)\n",
        " \n",
        "eight = Button(btns_frame, text = \"8\", fg = \"black\", width = 10, height = 3, bd = 0, bg = \"#fff\", cursor = \"hand2\", command = lambda: btn_click(8)).grid(row = 1, column = 1, padx = 1, pady = 1)\n",
        " \n",
        "nine = Button(btns_frame, text = \"9\", fg = \"black\", width = 10, height = 3, bd = 0, bg = \"#fff\", cursor = \"hand2\", command = lambda: btn_click(9)).grid(row = 1, column = 2, padx = 1, pady = 1)\n",
        " \n",
        "multiply = Button(btns_frame, text = \"*\", fg = \"black\", width = 10, height = 3, bd = 0, bg = \"#eee\", cursor = \"hand2\", command = lambda: btn_click(\"*\")).grid(row = 1, column = 3, padx = 1, pady = 1)\n",
        " \n",
        " \n",
        " \n",
        "four = Button(btns_frame, text = \"4\", fg = \"black\", width = 10, height = 3, bd = 0, bg = \"#fff\", cursor = \"hand2\", command = lambda: btn_click(4)).grid(row = 2, column = 0, padx = 1, pady = 1)\n",
        " \n",
        "five = Button(btns_frame, text = \"5\", fg = \"black\", width = 10, height = 3, bd = 0, bg = \"#fff\", cursor = \"hand2\", command = lambda: btn_click(5)).grid(row = 2, column = 1, padx = 1, pady = 1)\n",
        "six = Button(btns_frame, text = \"6\", fg = \"black\", width = 10, height = 3, bd = 0, bg = \"#fff\", cursor = \"hand2\", command = lambda: btn_click(6)).grid(row = 2, column = 2, padx = 1, pady = 1)\n",
        " \n",
        "minus = Button(btns_frame, text = \"-\", fg = \"black\", width = 10, height = 3, bd = 0, bg = \"#eee\", cursor = \"hand2\", command = lambda: btn_click(\"-\")).grid(row = 2, column = 3, padx = 1, pady = 1)\n",
        "  \n",
        " \n",
        "one = Button(btns_frame, text = \"1\", fg = \"black\", width = 10, height = 3, bd = 0, bg = \"#fff\", cursor = \"hand2\", command = lambda: btn_click(1)).grid(row = 3, column = 0, padx = 1, pady = 1)\n",
        " \n",
        "two = Button(btns_frame, text = \"2\", fg = \"black\", width = 10, height = 3, bd = 0, bg = \"#fff\", cursor = \"hand2\", command = lambda: btn_click(2)).grid(row = 3, column = 1, padx = 1, pady = 1)\n",
        " \n",
        "three = Button(btns_frame, text = \"3\", fg = \"black\", width = 10, height = 3, bd = 0, bg = \"#fff\", cursor = \"hand2\", command = lambda: btn_click(3)).grid(row = 3, column = 2, padx = 1, pady = 1)\n",
        " \n",
        "plus = Button(btns_frame, text = \"+\", fg = \"black\", width = 10, height = 3, bd = 0, bg = \"#eee\", cursor = \"hand2\", command = lambda: btn_click(\"+\")).grid(row = 3, column = 3, padx = 1, pady = 1)\n",
        " \n",
        " \n",
        " \n",
        "zero = Button(btns_frame, text = \"0\", fg = \"black\", width = 21, height = 3, bd = 0, bg = \"#fff\", cursor = \"hand2\", command = lambda: btn_click(0)).grid(row = 4, column = 0, columnspan = 2, padx = 1, pady = 1)\n",
        " \n",
        "point = Button(btns_frame, text = \".\", fg = \"black\", width = 10, height = 3, bd = 0, bg = \"#eee\", cursor = \"hand2\", command = lambda: btn_click(\".\")).grid(row = 4, column = 2, padx = 1, pady = 1)\n",
        " \n",
        "equals = Button(btns_frame, text = \"=\", fg = \"black\", width = 10, height = 3, bd = 0, bg = \"#eee\", cursor = \"hand2\", command = lambda: bt_equal()).grid(row = 4, column = 3, padx = 1, pady = 1)\n",
        " \n",
        "win.mainloop()"
      ],
      "execution_count": 14,
      "outputs": [
        {
          "output_type": "error",
          "ename": "TclError",
          "evalue": "ignored",
          "traceback": [
            "\u001b[0;31m---------------------------------------------------------------------------\u001b[0m",
            "\u001b[0;31mTclError\u001b[0m                                  Traceback (most recent call last)",
            "\u001b[0;32m<ipython-input-14-5d361e2f1783>\u001b[0m in \u001b[0;36m<module>\u001b[0;34m()\u001b[0m\n\u001b[1;32m      3\u001b[0m \u001b[0;32mfrom\u001b[0m \u001b[0mtkinter\u001b[0m \u001b[0;32mimport\u001b[0m \u001b[0;34m*\u001b[0m\u001b[0;34m\u001b[0m\u001b[0;34m\u001b[0m\u001b[0m\n\u001b[1;32m      4\u001b[0m \u001b[0;34m\u001b[0m\u001b[0m\n\u001b[0;32m----> 5\u001b[0;31m \u001b[0mwin\u001b[0m\u001b[0;34m=\u001b[0m\u001b[0mTk\u001b[0m\u001b[0;34m(\u001b[0m\u001b[0;34m)\u001b[0m\u001b[0;34m\u001b[0m\u001b[0;34m\u001b[0m\u001b[0m\n\u001b[0m\u001b[1;32m      6\u001b[0m \u001b[0mwin\u001b[0m\u001b[0;34m.\u001b[0m\u001b[0mgeometry\u001b[0m\u001b[0;34m(\u001b[0m\u001b[0;34m\"312x324\"\u001b[0m\u001b[0;34m)\u001b[0m\u001b[0;34m\u001b[0m\u001b[0;34m\u001b[0m\u001b[0m\n\u001b[1;32m      7\u001b[0m \u001b[0mwin\u001b[0m\u001b[0;34m.\u001b[0m\u001b[0mresizable\u001b[0m\u001b[0;34m(\u001b[0m\u001b[0;36m0\u001b[0m\u001b[0;34m,\u001b[0m \u001b[0;36m0\u001b[0m\u001b[0;34m)\u001b[0m\u001b[0;34m\u001b[0m\u001b[0;34m\u001b[0m\u001b[0m\n",
            "\u001b[0;32m/usr/lib/python3.7/tkinter/__init__.py\u001b[0m in \u001b[0;36m__init__\u001b[0;34m(self, screenName, baseName, className, useTk, sync, use)\u001b[0m\n\u001b[1;32m   2021\u001b[0m                 \u001b[0mbaseName\u001b[0m \u001b[0;34m=\u001b[0m \u001b[0mbaseName\u001b[0m \u001b[0;34m+\u001b[0m \u001b[0mext\u001b[0m\u001b[0;34m\u001b[0m\u001b[0;34m\u001b[0m\u001b[0m\n\u001b[1;32m   2022\u001b[0m         \u001b[0minteractive\u001b[0m \u001b[0;34m=\u001b[0m \u001b[0;36m0\u001b[0m\u001b[0;34m\u001b[0m\u001b[0;34m\u001b[0m\u001b[0m\n\u001b[0;32m-> 2023\u001b[0;31m         \u001b[0mself\u001b[0m\u001b[0;34m.\u001b[0m\u001b[0mtk\u001b[0m \u001b[0;34m=\u001b[0m \u001b[0m_tkinter\u001b[0m\u001b[0;34m.\u001b[0m\u001b[0mcreate\u001b[0m\u001b[0;34m(\u001b[0m\u001b[0mscreenName\u001b[0m\u001b[0;34m,\u001b[0m \u001b[0mbaseName\u001b[0m\u001b[0;34m,\u001b[0m \u001b[0mclassName\u001b[0m\u001b[0;34m,\u001b[0m \u001b[0minteractive\u001b[0m\u001b[0;34m,\u001b[0m \u001b[0mwantobjects\u001b[0m\u001b[0;34m,\u001b[0m \u001b[0museTk\u001b[0m\u001b[0;34m,\u001b[0m \u001b[0msync\u001b[0m\u001b[0;34m,\u001b[0m \u001b[0muse\u001b[0m\u001b[0;34m)\u001b[0m\u001b[0;34m\u001b[0m\u001b[0;34m\u001b[0m\u001b[0m\n\u001b[0m\u001b[1;32m   2024\u001b[0m         \u001b[0;32mif\u001b[0m \u001b[0museTk\u001b[0m\u001b[0;34m:\u001b[0m\u001b[0;34m\u001b[0m\u001b[0;34m\u001b[0m\u001b[0m\n\u001b[1;32m   2025\u001b[0m             \u001b[0mself\u001b[0m\u001b[0;34m.\u001b[0m\u001b[0m_loadtk\u001b[0m\u001b[0;34m(\u001b[0m\u001b[0;34m)\u001b[0m\u001b[0;34m\u001b[0m\u001b[0;34m\u001b[0m\u001b[0m\n",
            "\u001b[0;31mTclError\u001b[0m: no display name and no $DISPLAY environment variable"
          ]
        }
      ]
    },
    {
      "cell_type": "markdown",
      "metadata": {
        "id": "ZjnHMYRttufz"
      },
      "source": [
        "#**B) write a program to implement the following figures**\n",
        "\n"
      ]
    },
    {
      "cell_type": "markdown",
      "metadata": {
        "id": "M9IFiGuUt2Ty"
      },
      "source": [
        "AIM:to write a program to implement the following figures DESCRIPTION:here turtles are used to implement the figures by giving some measures like angles."
      ]
    },
    {
      "cell_type": "code",
      "metadata": {
        "id": "sJ9zn0s4t3-q",
        "colab": {
          "base_uri": "https://localhost:8080/",
          "height": 370
        },
        "outputId": "1e37093b-889e-4433-92fc-82ac6610aed8"
      },
      "source": [
        "\n",
        "import turtle\n",
        "turtle.pensize(3)\n",
        " \n",
        "for i in range(36):\n",
        "    for j in [4] :\n",
        "     turtle.forward(70)   \n",
        "     turtle.left(55)\n",
        "     turtle.left(30)\n"
      ],
      "execution_count": 15,
      "outputs": [
        {
          "output_type": "error",
          "ename": "TclError",
          "evalue": "ignored",
          "traceback": [
            "\u001b[0;31m---------------------------------------------------------------------------\u001b[0m",
            "\u001b[0;31mTclError\u001b[0m                                  Traceback (most recent call last)",
            "\u001b[0;32m<ipython-input-15-40cefeda1ee3>\u001b[0m in \u001b[0;36m<module>\u001b[0;34m()\u001b[0m\n\u001b[1;32m      1\u001b[0m \u001b[0;34m\u001b[0m\u001b[0m\n\u001b[1;32m      2\u001b[0m \u001b[0;32mimport\u001b[0m \u001b[0mturtle\u001b[0m\u001b[0;34m\u001b[0m\u001b[0;34m\u001b[0m\u001b[0m\n\u001b[0;32m----> 3\u001b[0;31m \u001b[0mturtle\u001b[0m\u001b[0;34m.\u001b[0m\u001b[0mpensize\u001b[0m\u001b[0;34m(\u001b[0m\u001b[0;36m3\u001b[0m\u001b[0;34m)\u001b[0m\u001b[0;34m\u001b[0m\u001b[0;34m\u001b[0m\u001b[0m\n\u001b[0m\u001b[1;32m      4\u001b[0m \u001b[0;34m\u001b[0m\u001b[0m\n\u001b[1;32m      5\u001b[0m \u001b[0;32mfor\u001b[0m \u001b[0mi\u001b[0m \u001b[0;32min\u001b[0m \u001b[0mrange\u001b[0m\u001b[0;34m(\u001b[0m\u001b[0;36m36\u001b[0m\u001b[0;34m)\u001b[0m\u001b[0;34m:\u001b[0m\u001b[0;34m\u001b[0m\u001b[0;34m\u001b[0m\u001b[0m\n",
            "\u001b[0;32m/usr/lib/python3.7/turtle.py\u001b[0m in \u001b[0;36mpensize\u001b[0;34m(width)\u001b[0m\n",
            "\u001b[0;32m/usr/lib/python3.7/turtle.py\u001b[0m in \u001b[0;36m__init__\u001b[0;34m(self, shape, undobuffersize, visible)\u001b[0m\n\u001b[1;32m   3810\u001b[0m                  visible=_CFG[\"visible\"]):\n\u001b[1;32m   3811\u001b[0m         \u001b[0;32mif\u001b[0m \u001b[0mTurtle\u001b[0m\u001b[0;34m.\u001b[0m\u001b[0m_screen\u001b[0m \u001b[0;32mis\u001b[0m \u001b[0;32mNone\u001b[0m\u001b[0;34m:\u001b[0m\u001b[0;34m\u001b[0m\u001b[0;34m\u001b[0m\u001b[0m\n\u001b[0;32m-> 3812\u001b[0;31m             \u001b[0mTurtle\u001b[0m\u001b[0;34m.\u001b[0m\u001b[0m_screen\u001b[0m \u001b[0;34m=\u001b[0m \u001b[0mScreen\u001b[0m\u001b[0;34m(\u001b[0m\u001b[0;34m)\u001b[0m\u001b[0;34m\u001b[0m\u001b[0;34m\u001b[0m\u001b[0m\n\u001b[0m\u001b[1;32m   3813\u001b[0m         RawTurtle.__init__(self, Turtle._screen,\n\u001b[1;32m   3814\u001b[0m                            \u001b[0mshape\u001b[0m\u001b[0;34m=\u001b[0m\u001b[0mshape\u001b[0m\u001b[0;34m,\u001b[0m\u001b[0;34m\u001b[0m\u001b[0;34m\u001b[0m\u001b[0m\n",
            "\u001b[0;32m/usr/lib/python3.7/turtle.py\u001b[0m in \u001b[0;36mScreen\u001b[0;34m()\u001b[0m\n\u001b[1;32m   3660\u001b[0m     else return the existing one.\"\"\"\n\u001b[1;32m   3661\u001b[0m     \u001b[0;32mif\u001b[0m \u001b[0mTurtle\u001b[0m\u001b[0;34m.\u001b[0m\u001b[0m_screen\u001b[0m \u001b[0;32mis\u001b[0m \u001b[0;32mNone\u001b[0m\u001b[0;34m:\u001b[0m\u001b[0;34m\u001b[0m\u001b[0;34m\u001b[0m\u001b[0m\n\u001b[0;32m-> 3662\u001b[0;31m         \u001b[0mTurtle\u001b[0m\u001b[0;34m.\u001b[0m\u001b[0m_screen\u001b[0m \u001b[0;34m=\u001b[0m \u001b[0m_Screen\u001b[0m\u001b[0;34m(\u001b[0m\u001b[0;34m)\u001b[0m\u001b[0;34m\u001b[0m\u001b[0;34m\u001b[0m\u001b[0m\n\u001b[0m\u001b[1;32m   3663\u001b[0m     \u001b[0;32mreturn\u001b[0m \u001b[0mTurtle\u001b[0m\u001b[0;34m.\u001b[0m\u001b[0m_screen\u001b[0m\u001b[0;34m\u001b[0m\u001b[0;34m\u001b[0m\u001b[0m\n\u001b[1;32m   3664\u001b[0m \u001b[0;34m\u001b[0m\u001b[0m\n",
            "\u001b[0;32m/usr/lib/python3.7/turtle.py\u001b[0m in \u001b[0;36m__init__\u001b[0;34m(self)\u001b[0m\n\u001b[1;32m   3676\u001b[0m         \u001b[0;31m# preserved (perhaps by passing it as an optional parameter)\u001b[0m\u001b[0;34m\u001b[0m\u001b[0;34m\u001b[0m\u001b[0;34m\u001b[0m\u001b[0m\n\u001b[1;32m   3677\u001b[0m         \u001b[0;32mif\u001b[0m \u001b[0m_Screen\u001b[0m\u001b[0;34m.\u001b[0m\u001b[0m_root\u001b[0m \u001b[0;32mis\u001b[0m \u001b[0;32mNone\u001b[0m\u001b[0;34m:\u001b[0m\u001b[0;34m\u001b[0m\u001b[0;34m\u001b[0m\u001b[0m\n\u001b[0;32m-> 3678\u001b[0;31m             \u001b[0m_Screen\u001b[0m\u001b[0;34m.\u001b[0m\u001b[0m_root\u001b[0m \u001b[0;34m=\u001b[0m \u001b[0mself\u001b[0m\u001b[0;34m.\u001b[0m\u001b[0m_root\u001b[0m \u001b[0;34m=\u001b[0m \u001b[0m_Root\u001b[0m\u001b[0;34m(\u001b[0m\u001b[0;34m)\u001b[0m\u001b[0;34m\u001b[0m\u001b[0;34m\u001b[0m\u001b[0m\n\u001b[0m\u001b[1;32m   3679\u001b[0m             \u001b[0mself\u001b[0m\u001b[0;34m.\u001b[0m\u001b[0m_root\u001b[0m\u001b[0;34m.\u001b[0m\u001b[0mtitle\u001b[0m\u001b[0;34m(\u001b[0m\u001b[0m_Screen\u001b[0m\u001b[0;34m.\u001b[0m\u001b[0m_title\u001b[0m\u001b[0;34m)\u001b[0m\u001b[0;34m\u001b[0m\u001b[0;34m\u001b[0m\u001b[0m\n\u001b[1;32m   3680\u001b[0m             \u001b[0mself\u001b[0m\u001b[0;34m.\u001b[0m\u001b[0m_root\u001b[0m\u001b[0;34m.\u001b[0m\u001b[0mondestroy\u001b[0m\u001b[0;34m(\u001b[0m\u001b[0mself\u001b[0m\u001b[0;34m.\u001b[0m\u001b[0m_destroy\u001b[0m\u001b[0;34m)\u001b[0m\u001b[0;34m\u001b[0m\u001b[0;34m\u001b[0m\u001b[0m\n",
            "\u001b[0;32m/usr/lib/python3.7/turtle.py\u001b[0m in \u001b[0;36m__init__\u001b[0;34m(self)\u001b[0m\n\u001b[1;32m    432\u001b[0m     \u001b[0;34m\"\"\"Root class for Screen based on Tkinter.\"\"\"\u001b[0m\u001b[0;34m\u001b[0m\u001b[0;34m\u001b[0m\u001b[0m\n\u001b[1;32m    433\u001b[0m     \u001b[0;32mdef\u001b[0m \u001b[0m__init__\u001b[0m\u001b[0;34m(\u001b[0m\u001b[0mself\u001b[0m\u001b[0;34m)\u001b[0m\u001b[0;34m:\u001b[0m\u001b[0;34m\u001b[0m\u001b[0;34m\u001b[0m\u001b[0m\n\u001b[0;32m--> 434\u001b[0;31m         \u001b[0mTK\u001b[0m\u001b[0;34m.\u001b[0m\u001b[0mTk\u001b[0m\u001b[0;34m.\u001b[0m\u001b[0m__init__\u001b[0m\u001b[0;34m(\u001b[0m\u001b[0mself\u001b[0m\u001b[0;34m)\u001b[0m\u001b[0;34m\u001b[0m\u001b[0;34m\u001b[0m\u001b[0m\n\u001b[0m\u001b[1;32m    435\u001b[0m \u001b[0;34m\u001b[0m\u001b[0m\n\u001b[1;32m    436\u001b[0m     \u001b[0;32mdef\u001b[0m \u001b[0msetupcanvas\u001b[0m\u001b[0;34m(\u001b[0m\u001b[0mself\u001b[0m\u001b[0;34m,\u001b[0m \u001b[0mwidth\u001b[0m\u001b[0;34m,\u001b[0m \u001b[0mheight\u001b[0m\u001b[0;34m,\u001b[0m \u001b[0mcwidth\u001b[0m\u001b[0;34m,\u001b[0m \u001b[0mcheight\u001b[0m\u001b[0;34m)\u001b[0m\u001b[0;34m:\u001b[0m\u001b[0;34m\u001b[0m\u001b[0;34m\u001b[0m\u001b[0m\n",
            "\u001b[0;32m/usr/lib/python3.7/tkinter/__init__.py\u001b[0m in \u001b[0;36m__init__\u001b[0;34m(self, screenName, baseName, className, useTk, sync, use)\u001b[0m\n\u001b[1;32m   2021\u001b[0m                 \u001b[0mbaseName\u001b[0m \u001b[0;34m=\u001b[0m \u001b[0mbaseName\u001b[0m \u001b[0;34m+\u001b[0m \u001b[0mext\u001b[0m\u001b[0;34m\u001b[0m\u001b[0;34m\u001b[0m\u001b[0m\n\u001b[1;32m   2022\u001b[0m         \u001b[0minteractive\u001b[0m \u001b[0;34m=\u001b[0m \u001b[0;36m0\u001b[0m\u001b[0;34m\u001b[0m\u001b[0;34m\u001b[0m\u001b[0m\n\u001b[0;32m-> 2023\u001b[0;31m         \u001b[0mself\u001b[0m\u001b[0;34m.\u001b[0m\u001b[0mtk\u001b[0m \u001b[0;34m=\u001b[0m \u001b[0m_tkinter\u001b[0m\u001b[0;34m.\u001b[0m\u001b[0mcreate\u001b[0m\u001b[0;34m(\u001b[0m\u001b[0mscreenName\u001b[0m\u001b[0;34m,\u001b[0m \u001b[0mbaseName\u001b[0m\u001b[0;34m,\u001b[0m \u001b[0mclassName\u001b[0m\u001b[0;34m,\u001b[0m \u001b[0minteractive\u001b[0m\u001b[0;34m,\u001b[0m \u001b[0mwantobjects\u001b[0m\u001b[0;34m,\u001b[0m \u001b[0museTk\u001b[0m\u001b[0;34m,\u001b[0m \u001b[0msync\u001b[0m\u001b[0;34m,\u001b[0m \u001b[0muse\u001b[0m\u001b[0;34m)\u001b[0m\u001b[0;34m\u001b[0m\u001b[0;34m\u001b[0m\u001b[0m\n\u001b[0m\u001b[1;32m   2024\u001b[0m         \u001b[0;32mif\u001b[0m \u001b[0museTk\u001b[0m\u001b[0;34m:\u001b[0m\u001b[0;34m\u001b[0m\u001b[0;34m\u001b[0m\u001b[0m\n\u001b[1;32m   2025\u001b[0m             \u001b[0mself\u001b[0m\u001b[0;34m.\u001b[0m\u001b[0m_loadtk\u001b[0m\u001b[0;34m(\u001b[0m\u001b[0;34m)\u001b[0m\u001b[0;34m\u001b[0m\u001b[0;34m\u001b[0m\u001b[0m\n",
            "\u001b[0;31mTclError\u001b[0m: no display name and no $DISPLAY environment variable"
          ]
        }
      ]
    },
    {
      "cell_type": "markdown",
      "metadata": {
        "id": "bNb5X3Blt6Yo"
      },
      "source": [
        "#**B)2**"
      ]
    },
    {
      "cell_type": "code",
      "metadata": {
        "id": "uPr6d06Mt_kk"
      },
      "source": [
        "import turtle\n",
        "c=[\"red\",\"green\",\"blue\"]\n",
        "i=o\n",
        "turtle.pensize(3)\n",
        " \n",
        "for angle in range(0,30,60):\n",
        "  if i>2:\n",
        "    i=0\n",
        "     turtle.color(c[i])   \n",
        "     turtle.seth(angle)\n",
        "     turtle.circle(30)\n",
        "     i+=1"
      ],
      "execution_count": null,
      "outputs": []
    },
    {
      "cell_type": "markdown",
      "metadata": {
        "id": "wPgow8y2W9-l"
      },
      "source": [
        "# EXercise-15 Testing"
      ]
    },
    {
      "cell_type": "markdown",
      "metadata": {
        "id": "5QNcmQKMuCqX"
      },
      "source": [
        "#**A)write a test case to check the function even numbers which return true on passing a list of all even numbers**\n"
      ]
    },
    {
      "cell_type": "markdown",
      "metadata": {
        "id": "KwfgQ_i9uJ-6"
      },
      "source": [
        "\n",
        "AIM: To write a test case to check the function even numbers which return true on passing a list of even numbers.\n",
        "\n",
        "DESCRIPTION:function in python is a set of programs.we have to define the function and call when it required.\n",
        "\n",
        "SYNTAX:def function_name():"
      ]
    },
    {
      "cell_type": "code",
      "metadata": {
        "id": "ZkwvHVp0uK0i",
        "colab": {
          "base_uri": "https://localhost:8080/"
        },
        "outputId": "c989c8b8-8600-4625-d284-02dd874f77ad"
      },
      "source": [
        "def checklistiseven(elements):\n",
        "    p=True\n",
        "    for i in elements:\n",
        "        if i%2==1:\n",
        "            p=False\n",
        "            break\n",
        "    return p         \n",
        "elements=[]\n",
        "n=int(input(\"enter limit of input: \"))\n",
        "for i in range(n):\n",
        "    elements.append(int(input(\"element-\"+str(i+1)+\" : \")))\n",
        "print(checklistiseven(elements))"
      ],
      "execution_count": 16,
      "outputs": [
        {
          "output_type": "stream",
          "name": "stdout",
          "text": [
            "enter limit of input: 2\n",
            "element-1 : 4\n",
            "element-2 : 6\n",
            "True\n"
          ]
        }
      ]
    },
    {
      "cell_type": "markdown",
      "metadata": {
        "id": "ligSsH8IuQ5e"
      },
      "source": [
        "#**B)write a test case to check the function reverse string which returns the reversed string**\n",
        "\n",
        "\n",
        "\n"
      ]
    },
    {
      "cell_type": "markdown",
      "metadata": {
        "id": "-T1C8lzwuVgt"
      },
      "source": [
        "AIM:to write a test case to check the function reverse string which returns the reversed string.\n",
        "\n",
        "DESCRIPTION:string is a collection of characters and denoted within \" \".here reverse of a string is the reverse form of the given string.\n",
        "\n",
        "EXAMPLE:character:'A','j','a','j' whereas string:\"Ajay\""
      ]
    },
    {
      "cell_type": "code",
      "metadata": {
        "id": "5-AghKlUuWXG",
        "colab": {
          "base_uri": "https://localhost:8080/"
        },
        "outputId": "371aa508-db77-4586-9c48-f20399763d2c"
      },
      "source": [
        "\n",
        "def rev_string(name):\n",
        "    return name[::-1]\n",
        "\n",
        "\n",
        "name=input(\"enter any String: \")\n",
        "\n",
        "print(\"Reverse of the given String = \"+rev_string(name))"
      ],
      "execution_count": 17,
      "outputs": [
        {
          "output_type": "stream",
          "name": "stdout",
          "text": [
            "enter any String: ajay\n",
            "Reverse of the given String = yaja\n"
          ]
        }
      ]
    },
    {
      "cell_type": "markdown",
      "metadata": {
        "id": "T_jPiOJzYKuB"
      },
      "source": [
        "#Exercise-16 Advanced"
      ]
    },
    {
      "cell_type": "markdown",
      "metadata": {
        "id": "ZvY8MCa0uabD"
      },
      "source": [
        "#**A)Build any one classical data structure**"
      ]
    },
    {
      "cell_type": "markdown",
      "metadata": {
        "id": "IArGKzJ2uoEK"
      },
      "source": [
        "\n",
        "AIM:Build any one classical data structure\n",
        "\n",
        "DESCRIPTION:in this program we are using stack datastructure and its operations. like push,pop,display."
      ]
    },
    {
      "cell_type": "code",
      "metadata": {
        "id": "sBH4Co1xuuis",
        "colab": {
          "base_uri": "https://localhost:8080/"
        },
        "outputId": "632e8cb2-3429-4f5d-af1d-7ec607fbbdcc"
      },
      "source": [
        "stack=[]\n",
        "\n",
        "while True:\n",
        "    print(\"1.Push\\n2.Pop\\n3.Display\\n4.Exit\")\n",
        "    c=int(input(\"enter your choice: \"))\n",
        "    \n",
        "    if c==1:\n",
        "        e=int(input(\"enter element: \"))\n",
        "        stack.append(e)\n",
        "        print(\"element is Pushed\")\n",
        "    elif c==2:\n",
        "        if len(stack)==0:\n",
        "            print(\"stack is empty\")\n",
        "        else:\n",
        "            print(\"element \"+str(stack[len(stack)-1])+\" is Poped\")\n",
        "            stack.remove(stack[len(stack)-1])\n",
        "    elif c==3:\n",
        "        if len(stack)==0:\n",
        "            print(\"stack is empty\")\n",
        "        else:\n",
        "            print(\"elements in the stack : \"+str(stack))    \n",
        "    elif c==4:\n",
        "        break\n",
        "    else:\n",
        "        print(\"invalid choice......\")"
      ],
      "execution_count": 18,
      "outputs": [
        {
          "name": "stdout",
          "output_type": "stream",
          "text": [
            "1.Push\n",
            "2.Pop\n",
            "3.Display\n",
            "4.Exit\n",
            "enter your choice: 1\n",
            "enter element: 10\n",
            "element is Pushed\n",
            "1.Push\n",
            "2.Pop\n",
            "3.Display\n",
            "4.Exit\n",
            "enter your choice: 3\n",
            "elements in the stack : [10]\n",
            "1.Push\n",
            "2.Pop\n",
            "3.Display\n",
            "4.Exit\n",
            "enter your choice: 4\n"
          ]
        }
      ]
    },
    {
      "cell_type": "markdown",
      "metadata": {
        "id": "xQaHoJJqu5jt"
      },
      "source": [
        "#**B)write a program to solve knapsack problem**"
      ]
    },
    {
      "cell_type": "markdown",
      "metadata": {
        "id": "UkEGhMOcvA9b"
      },
      "source": [
        "AIM:write a program to solve knapsack problem.\n",
        "\n",
        "DESCRIPTION:knapsack is one of the problem in algorithms.in this profits,weights and capacity of bag will be given we have to fill the bag with maximum profit without exceeding its cpacity."
      ]
    },
    {
      "cell_type": "code",
      "metadata": {
        "id": "sbiZN0cMu816",
        "colab": {
          "base_uri": "https://localhost:8080/"
        },
        "outputId": "c3c26d1a-61f0-435a-91c9-c6060c242eeb"
      },
      "source": [
        "\n",
        "def knapSack(W, wt, val, n):\n",
        "\tK = [[0 for x in range(W + 1)] for x in range(n + 1)]\n",
        "\n",
        "\t \n",
        "\tfor i in range(n + 1):\n",
        "\t\tfor w in range(W + 1):\n",
        "\t\t\tif i == 0 or w == 0:\n",
        "\t\t\t\tK[i][w] = 0\n",
        "\t\t\telif wt[i-1] <= w:\n",
        "\t\t\t\tK[i][w] = max(val[i-1] + K[i-1][w-wt[i-1]], K[i-1][w])\n",
        "\t\t\telse:\n",
        "\t\t\t\tK[i][w] = K[i-1][w]\n",
        "\n",
        "\treturn K[n][W]\n",
        "\n",
        " \n",
        "val = [5,3,4]\n",
        "wt = [3,2,1]\n",
        "W = 5\n",
        "n = len(val)\n",
        "print(knapSack(W, wt, val, n))"
      ],
      "execution_count": 19,
      "outputs": [
        {
          "output_type": "stream",
          "name": "stdout",
          "text": [
            "9\n"
          ]
        }
      ]
    },
    {
      "cell_type": "markdown",
      "metadata": {
        "id": "0vNH0eWdvJmO"
      },
      "source": [
        "#EXERCISE-17&18 DATA ANALYSIS"
      ]
    },
    {
      "cell_type": "markdown",
      "metadata": {
        "id": "57s5InKxvPQc"
      },
      "source": [
        "**Data analysis or manipulation using the following packages\n",
        "a.NUMPY b.PANDAS c.SCIPY d.MATPLOTLIB\n",
        "\n",
        "DESCRIPTION:Data analysis or manipulation using the following packages a) Numpy b) Pandas a) Scipy b) matplotlib DESCRIPTION: Learn how to analyze data using Python..... It includes following parts: Data Analysis libraries: will learn to use Pandas, Numpy and Scipy libraries to work with a sample dataset. We will introduce you to pandas, an open-source library, and we will use it to load, manipulate, analyze, and visualize cool datasets. SciPy is a free and open-source Python library used for scientific computing and technical computing. It is a collection of mathematical algorithms and convenience functions built on the NumPy extension of Python NumPy is the fundamental package for scientific computing in Python. .... NumPy arrays facilitate advanced mathematical and other types of operations on large numbers of data. Matplotlib is a plotting library for the Python programming language and its numerical mathematics extension NumPy. It provides an object-oriented API for embedding plots into applications using general-purpose GUI toolkits like Tkinter, wxPython, Qt, or GTK Pandas is an open source Python package that is most widely used for data science/data analysis and machine learning tasks. It is built on top of another package named Numpy, which provides support for multi-dimensional arrays. Scikit-learn is probably the most useful library for machine learning in Python. The sklearn library contains a lot of eficient tools for machine learning and statistical modeling including classification, regression, clustering and dimensionality reduction. Seaborn is a library in Python predominantly used for making statistical graphics. Seaborn is a data visualization library built on top of matplotlib and closely integrated with pandas data structures in Python"
      ]
    },
    {
      "cell_type": "code",
      "metadata": {
        "id": "FjFNglO2vSXl",
        "colab": {
          "base_uri": "https://localhost:8080/"
        },
        "outputId": "370425ca-f947-4f09-9767-3f2e08fec3dc"
      },
      "source": [
        "import sys\n",
        "print('python:{}'.format(sys.version))\n",
        "\n",
        "#scipy\n",
        "import scipy\n",
        "print('scipy:{}'.format(scipy.__version__))\n",
        "\n",
        "#numpy\n",
        "import  numpy\n",
        "print('numpy:{}'.format(numpy.__version__))\n",
        "\n",
        "#matplotlib\n",
        "import  matplotlib\n",
        "print('matplotlib:{}'.format(matplotlib.__version__))\n",
        "\n",
        "import   pandas\n",
        "print('pandas:{}'.format(pandas.__version__))\n",
        "\n",
        "import  sklearn\n",
        "print('sklearn:{}'.format(sklearn.__version__))\n",
        "\n",
        "import  seaborn\n",
        "print('seaborn:{}'.format(seaborn.__version__))\n",
        "\n",
        "import  urllib\n",
        "print('urllib:{}'.format(urllib.__name__))\n",
        "\n",
        "\n",
        "import  csv\n",
        "print('csv:{}'.format(csv.__version__))"
      ],
      "execution_count": 20,
      "outputs": [
        {
          "output_type": "stream",
          "name": "stdout",
          "text": [
            "python:3.7.12 (default, Sep 10 2021, 00:21:48) \n",
            "[GCC 7.5.0]\n",
            "scipy:1.4.1\n",
            "numpy:1.19.5\n",
            "matplotlib:3.2.2\n",
            "pandas:1.1.5\n",
            "sklearn:0.22.2.post1\n",
            "seaborn:0.11.2\n",
            "urllib:urllib\n",
            "csv:1.0\n"
          ]
        }
      ]
    },
    {
      "cell_type": "markdown",
      "metadata": {
        "id": "LsNoo_CMqN6f"
      },
      "source": [
        "#Numpy"
      ]
    },
    {
      "cell_type": "code",
      "metadata": {
        "id": "bDlLPDr0qRSc",
        "colab": {
          "base_uri": "https://localhost:8080/"
        },
        "outputId": "835eabb3-5675-4648-fee7-1e82dcd196e6"
      },
      "source": [
        "#example code for initializaing numpy array\n",
        "import numpy as np\n",
        "a=np.array([0,1,2])\n",
        "print(type(a))\n",
        "\n",
        "print(a.shape)\n",
        "print(a[0])\n",
        "print(a[1])\n",
        "print(a[2])\n",
        "\n",
        "a[0]=5\n",
        "print(a)"
      ],
      "execution_count": 23,
      "outputs": [
        {
          "output_type": "stream",
          "name": "stdout",
          "text": [
            "<class 'numpy.ndarray'>\n",
            "(3,)\n",
            "0\n",
            "1\n",
            "2\n",
            "[5 1 2]\n"
          ]
        }
      ]
    },
    {
      "cell_type": "code",
      "metadata": {
        "id": "NgGdjaVoqo2W",
        "colab": {
          "base_uri": "https://localhost:8080/"
        },
        "outputId": "dc2b00c8-c964-40e2-db62-16a836364631"
      },
      "source": [
        "#create a rank 2 array\n",
        "import numpy as np\n",
        "b=np.array([[0,1,2],[3,4,5]])\n",
        "print(b.shape)\n",
        "print(b)\n",
        "print(b[0,0],b[0,1],b[1,0])"
      ],
      "execution_count": 24,
      "outputs": [
        {
          "output_type": "stream",
          "name": "stdout",
          "text": [
            "(2, 3)\n",
            "[[0 1 2]\n",
            " [3 4 5]]\n",
            "0 1 3\n"
          ]
        }
      ]
    },
    {
      "cell_type": "code",
      "metadata": {
        "id": "KfXrVqvsqtm3",
        "colab": {
          "base_uri": "https://localhost:8080/"
        },
        "outputId": "0b67daf0-f503-4506-e717-dda70d456e45"
      },
      "source": [
        "#craete a 3x3 array of all zeros\n",
        "\n",
        "a=np.zeros((3,3))\n",
        "print(a)\n"
      ],
      "execution_count": 25,
      "outputs": [
        {
          "output_type": "stream",
          "name": "stdout",
          "text": [
            "[[0. 0. 0.]\n",
            " [0. 0. 0.]\n",
            " [0. 0. 0.]]\n"
          ]
        }
      ]
    },
    {
      "cell_type": "code",
      "metadata": {
        "id": "50Gf1gkVqw8w",
        "colab": {
          "base_uri": "https://localhost:8080/"
        },
        "outputId": "be7aec03-b13a-4a03-e149-8718fd3715bf"
      },
      "source": [
        "#craete a 2x2 array of all ones\n",
        "b=np.ones((2,2))\n",
        "print(b)"
      ],
      "execution_count": 26,
      "outputs": [
        {
          "output_type": "stream",
          "name": "stdout",
          "text": [
            "[[1. 1.]\n",
            " [1. 1.]]\n"
          ]
        }
      ]
    },
    {
      "cell_type": "markdown",
      "metadata": {
        "id": "GMO48-1Dq0JS"
      },
      "source": [
        "#create a 2x2 array of all ones\n"
      ]
    },
    {
      "cell_type": "code",
      "metadata": {
        "colab": {
          "base_uri": "https://localhost:8080/"
        },
        "id": "9zGWGRZxZkNs",
        "outputId": "13b9a2d9-ca44-412a-e354-40c4b31076f4"
      },
      "source": [
        "b=np.ones((2,2))\n",
        "print(b)"
      ],
      "execution_count": 27,
      "outputs": [
        {
          "output_type": "stream",
          "name": "stdout",
          "text": [
            "[[1. 1.]\n",
            " [1. 1.]]\n"
          ]
        }
      ]
    },
    {
      "cell_type": "code",
      "metadata": {
        "id": "gqygT6Qoq3T6",
        "colab": {
          "base_uri": "https://localhost:8080/"
        },
        "outputId": "0050d530-b4b7-44fa-eace-dabd6e00a018"
      },
      "source": [
        "#craete a 3x3 constant array\n",
        "c=np.full((3,3),7)\n",
        "print(c)"
      ],
      "execution_count": 28,
      "outputs": [
        {
          "output_type": "stream",
          "name": "stdout",
          "text": [
            "[[7 7 7]\n",
            " [7 7 7]\n",
            " [7 7 7]]\n"
          ]
        }
      ]
    },
    {
      "cell_type": "code",
      "metadata": {
        "id": "xXrR_T1Pq8Ny",
        "colab": {
          "base_uri": "https://localhost:8080/"
        },
        "outputId": "d3a0b1a3-3f2a-4964-ec13-7ea6d4b5a2f2"
      },
      "source": [
        "#create a 3x3 array filled with random values\n",
        "\n",
        "d=np.random.random((3,3))\n",
        "print(d)"
      ],
      "execution_count": 29,
      "outputs": [
        {
          "output_type": "stream",
          "name": "stdout",
          "text": [
            "[[0.32365259 0.80909402 0.75393288]\n",
            " [0.5496126  0.55971711 0.2182322 ]\n",
            " [0.30416089 0.40696972 0.89626647]]\n"
          ]
        }
      ]
    },
    {
      "cell_type": "code",
      "metadata": {
        "id": "noPhg6fHrA7R",
        "colab": {
          "base_uri": "https://localhost:8080/"
        },
        "outputId": "7cceb60f-1c45-448e-97ee-c6915b7d7010"
      },
      "source": [
        "#craete a 3x3 identity matrix\n",
        "e=np.eye(3)\n",
        "print(e)"
      ],
      "execution_count": 30,
      "outputs": [
        {
          "output_type": "stream",
          "name": "stdout",
          "text": [
            "[[1. 0. 0.]\n",
            " [0. 1. 0.]\n",
            " [0. 0. 1.]]\n"
          ]
        }
      ]
    },
    {
      "cell_type": "markdown",
      "metadata": {
        "id": "Isps89vvrC-t"
      },
      "source": [
        "#crate a 3x3 identity matrix\n"
      ]
    },
    {
      "cell_type": "code",
      "metadata": {
        "id": "9h8uldjsZ3YF"
      },
      "source": [
        "e=np.eye(3)\n",
        "print(e)\n",
        "[[1. 0. 0.]\n",
        " [0. 1. 0.]\n",
        " [0. 0. 1.]]"
      ],
      "execution_count": null,
      "outputs": []
    },
    {
      "cell_type": "code",
      "metadata": {
        "id": "Ffth0YblrOjg",
        "colab": {
          "base_uri": "https://localhost:8080/"
        },
        "outputId": "0baf9420-4046-40d3-936f-9fb53cc8241a"
      },
      "source": [
        "#convert list to array\n",
        "f=np.array([2,3,0,1])\n",
        "print(f)"
      ],
      "execution_count": 32,
      "outputs": [
        {
          "output_type": "stream",
          "name": "stdout",
          "text": [
            "[2 3 0 1]\n"
          ]
        }
      ]
    },
    {
      "cell_type": "code",
      "metadata": {
        "id": "IgOWVROrrWjR",
        "colab": {
          "base_uri": "https://localhost:8080/"
        },
        "outputId": "716c0af2-de3e-4e7d-de77-17929aaca56d"
      },
      "source": [
        "#arange() will create array with regularly incrementing values\n",
        "g=np.arange(2,10)\n",
        "print(g)"
      ],
      "execution_count": 33,
      "outputs": [
        {
          "output_type": "stream",
          "name": "stdout",
          "text": [
            "[2 3 4 5 6 7 8 9]\n"
          ]
        }
      ]
    },
    {
      "cell_type": "code",
      "metadata": {
        "id": "v5Tp72bjra_t",
        "colab": {
          "base_uri": "https://localhost:8080/"
        },
        "outputId": "acf9ddf9-8aa0-403a-9d4c-8c2b4ad22e87"
      },
      "source": [
        "#note  mix of tuple and lists\n",
        "\n",
        "h=np.array([[0,1,2.0],[0,0,0],(1+1j,3.,2.)])\n",
        "print(h)"
      ],
      "execution_count": 34,
      "outputs": [
        {
          "output_type": "stream",
          "name": "stdout",
          "text": [
            "[[0.+0.j 1.+0.j 2.+0.j]\n",
            " [0.+0.j 0.+0.j 0.+0.j]\n",
            " [1.+1.j 3.+0.j 2.+0.j]]\n"
          ]
        }
      ]
    },
    {
      "cell_type": "code",
      "metadata": {
        "id": "RHAYEAKGrlKi",
        "colab": {
          "base_uri": "https://localhost:8080/"
        },
        "outputId": "2e43e810-235a-4b7b-e91e-002431ee7fc4"
      },
      "source": [
        "#create an array of range with float data type\n",
        "i=np.arange(1,8,dtype=np.float)\n",
        "print(i)"
      ],
      "execution_count": 35,
      "outputs": [
        {
          "output_type": "stream",
          "name": "stdout",
          "text": [
            "[1. 2. 3. 4. 5. 6. 7.]\n"
          ]
        }
      ]
    },
    {
      "cell_type": "code",
      "metadata": {
        "id": "73qJxhHVrqGf",
        "colab": {
          "base_uri": "https://localhost:8080/"
        },
        "outputId": "b1cfd514-cfe5-4713-dcd6-c12dc98a24fd"
      },
      "source": [
        "#linespace\n",
        "j = np.linspace(2.,4.,5)\n",
        "print(j)"
      ],
      "execution_count": 36,
      "outputs": [
        {
          "output_type": "stream",
          "name": "stdout",
          "text": [
            "[2.  2.5 3.  3.5 4. ]\n"
          ]
        }
      ]
    },
    {
      "cell_type": "code",
      "metadata": {
        "id": "Q57ZUgbzrtmz",
        "colab": {
          "base_uri": "https://localhost:8080/"
        },
        "outputId": "daecb8ec-3efe-42df-911b-8a17134e1ac7"
      },
      "source": [
        "#indices()\n",
        "k=np.indices((3,3))\n",
        "print(k)"
      ],
      "execution_count": 37,
      "outputs": [
        {
          "output_type": "stream",
          "name": "stdout",
          "text": [
            "[[[0 0 0]\n",
            "  [1 1 1]\n",
            "  [2 2 2]]\n",
            "\n",
            " [[0 1 2]\n",
            "  [0 1 2]\n",
            "  [0 1 2]]]\n"
          ]
        }
      ]
    },
    {
      "cell_type": "code",
      "metadata": {
        "id": "jDYLBx1_rzkO",
        "colab": {
          "base_uri": "https://localhost:8080/"
        },
        "outputId": "4633a427-f6da-4577-fb8a-32883df75802"
      },
      "source": [
        "#numpy datatypes\n",
        "x=np.array([0,1])\n",
        "y=np.array([2.0,3.0])\n",
        "z=np.array([5,6],dtype=np.int64)\n",
        "print(x.dtype,y.dtype,z.dtype)"
      ],
      "execution_count": 38,
      "outputs": [
        {
          "output_type": "stream",
          "name": "stdout",
          "text": [
            "int64 float64 int64\n"
          ]
        }
      ]
    },
    {
      "cell_type": "code",
      "metadata": {
        "id": "5Er2eJfMr5_n",
        "colab": {
          "base_uri": "https://localhost:8080/"
        },
        "outputId": "5d13c783-133e-4979-d189-74bceffd197c"
      },
      "source": [
        "#basic slicing\n",
        "x=np.array([5,6,7,8,9])\n",
        "print(x[1:7:2])\n",
        "print(x[-2:5])\n",
        "print(x[-1:1:-1])"
      ],
      "execution_count": 39,
      "outputs": [
        {
          "output_type": "stream",
          "name": "stdout",
          "text": [
            "[6 8]\n",
            "[8 9]\n",
            "[9 8 7]\n"
          ]
        }
      ]
    },
    {
      "cell_type": "code",
      "metadata": {
        "id": "aJ45P0_ur-nq",
        "colab": {
          "base_uri": "https://localhost:8080/"
        },
        "outputId": "16cbb322-dbf9-4a96-b814-244d9c807f75"
      },
      "source": [
        "#boolean array indexing\n",
        "a=np.array(([1,2],[3,4],[5,6]))\n",
        "print(a>2)\n",
        "print(a[a>2])"
      ],
      "execution_count": 40,
      "outputs": [
        {
          "output_type": "stream",
          "name": "stdout",
          "text": [
            "[[False False]\n",
            " [ True  True]\n",
            " [ True  True]]\n",
            "[3 4 5 6]\n"
          ]
        }
      ]
    },
    {
      "cell_type": "code",
      "metadata": {
        "id": "j6IPOpmcsG4I"
      },
      "source": [
        "import numpy as np\n",
        "x=np.array([[1,2],[3,4][5,6]])\n",
        "y=np.array([[7,8],[9,10],[11,12]])\n",
        "print(x+y)\n",
        "print(np.add(x,y))\n",
        "print(x-y)\n",
        "print(np.subtract(x-y))"
      ],
      "execution_count": null,
      "outputs": []
    },
    {
      "cell_type": "code",
      "metadata": {
        "id": "Cnehk36vsJla"
      },
      "source": [
        "#products\n",
        "print(x*y)\n",
        "print(np.multiply(x,y))"
      ],
      "execution_count": null,
      "outputs": []
    },
    {
      "cell_type": "code",
      "metadata": {
        "id": "HN0zDIyTsMzH"
      },
      "source": [
        "#division\n",
        "print(x/y)\n",
        "print(np.divide(x,y))"
      ],
      "execution_count": null,
      "outputs": []
    },
    {
      "cell_type": "code",
      "metadata": {
        "id": "lROy0N66sPMd"
      },
      "source": [
        "print(np.sqrt(x))"
      ],
      "execution_count": null,
      "outputs": []
    },
    {
      "cell_type": "code",
      "metadata": {
        "id": "0tLzJv7hsRdn",
        "colab": {
          "base_uri": "https://localhost:8080/"
        },
        "outputId": "7b0a2af8-7edd-4f9c-b061-3beb3e5dd4c3"
      },
      "source": [
        "#vectors\n",
        "a=np.array([9,10])\n",
        "b=np.array([11,12])\n",
        "print(a.dot(b))\n",
        "print(np.dot(a,b))"
      ],
      "execution_count": 43,
      "outputs": [
        {
          "output_type": "stream",
          "name": "stdout",
          "text": [
            "219\n",
            "219\n"
          ]
        }
      ]
    },
    {
      "cell_type": "code",
      "metadata": {
        "id": "YCUU5qkesVig"
      },
      "source": [
        "#matrix/vector product bothproduce the rank 1 array\n",
        "x=np.array([1,2],[3,4])\n",
        "print(x.dot(a))\n",
        "print(np.dot(x,a))"
      ],
      "execution_count": null,
      "outputs": []
    },
    {
      "cell_type": "code",
      "metadata": {
        "id": "14Ie8NfcsbHG"
      },
      "source": [
        "#matrix product\n",
        "y=np.array([5,6],[7,8])\n",
        "print(x.dot(y))\n",
        "print(np.dot(x,y))"
      ],
      "execution_count": null,
      "outputs": []
    },
    {
      "cell_type": "code",
      "metadata": {
        "id": "K4j_PWfjsc64"
      },
      "source": [
        "#sum function\n",
        "x=np.array([[1,2],[3,4]])\n",
        "print(np.sum(x))\n",
        "print(np.sum(x,axis=0))\n",
        "print(np.sum(x,axis=1))"
      ],
      "execution_count": null,
      "outputs": []
    },
    {
      "cell_type": "code",
      "metadata": {
        "id": "BL7QwUdisgiz"
      },
      "source": [
        "#transpose function\n",
        "x=np.array([[1,2],[3,4])\n",
        "print(x)\n",
        "print(x,T)"
      ],
      "execution_count": null,
      "outputs": []
    },
    {
      "cell_type": "code",
      "metadata": {
        "id": "3ZHNl_aEsir2"
      },
      "source": [
        "#broadcasting using numpy\n",
        "a=np.array([[1,2,3],[4,5,6],[7,8,9])\n",
        "v=np.array([1,0,1])\n",
        "b=a+v\n",
        "print(b)"
      ],
      "execution_count": null,
      "outputs": []
    },
    {
      "cell_type": "code",
      "metadata": {
        "id": "YuEcoN7NskqW"
      },
      "source": [
        "x=np.array([[1,2,1],[3,4,1],[7,8,9])\n",
        "print(\"x.T:\\n\",x.T)\n",
        "w=np.array([[1,1])\n",
        "print(w:\\n\",w)\n",
        "print(\"final:\\n\",(x.T+w).T)"
      ],
      "execution_count": null,
      "outputs": []
    },
    {
      "cell_type": "code",
      "metadata": {
        "id": "TBek5kA0sn2u",
        "colab": {
          "base_uri": "https://localhost:8080/"
        },
        "outputId": "9b1a751c-644b-4301-fbad-01f8255ce6e0"
      },
      "source": [
        "#matrix multiplication by  constant\n",
        "print(x*2)"
      ],
      "execution_count": 22,
      "outputs": [
        {
          "output_type": "stream",
          "name": "stdout",
          "text": [
            "4\n"
          ]
        }
      ]
    },
    {
      "cell_type": "code",
      "metadata": {
        "id": "G-HsK9Smsqr7",
        "colab": {
          "base_uri": "https://localhost:8080/"
        },
        "outputId": "093cc39f-998e-4ff5-df65-a15a8a0f4f2f"
      },
      "source": [
        "import numpy as np\n",
        "np.random.rand(3,2)\n"
      ],
      "execution_count": 21,
      "outputs": [
        {
          "output_type": "execute_result",
          "data": {
            "text/plain": [
              "array([[0.20579112, 0.67207204],\n",
              "       [0.77910109, 0.63502271],\n",
              "       [0.40910008, 0.06124848]])"
            ]
          },
          "metadata": {},
          "execution_count": 21
        }
      ]
    },
    {
      "cell_type": "code",
      "metadata": {
        "id": "JwtXCdyKswqH",
        "colab": {
          "base_uri": "https://localhost:8080/"
        },
        "outputId": "eba164d1-d38b-48f3-805a-f4ad173cbe93"
      },
      "source": [
        "np.random.rand(10)"
      ],
      "execution_count": 44,
      "outputs": [
        {
          "output_type": "execute_result",
          "data": {
            "text/plain": [
              "array([0.83731532, 0.89458938, 0.76082765, 0.11700171, 0.09505323,\n",
              "       0.75853428, 0.18107475, 0.06655516, 0.95682438, 0.73902716])"
            ]
          },
          "metadata": {},
          "execution_count": 44
        }
      ]
    },
    {
      "cell_type": "code",
      "metadata": {
        "colab": {
          "base_uri": "https://localhost:8080/"
        },
        "id": "VDLIkSRns38q",
        "outputId": "d7ed8f73-0768-44dd-c704-5d3dcc3b7c86"
      },
      "source": [
        "import random\n",
        "print(random.randint(0,9))"
      ],
      "execution_count": null,
      "outputs": [
        {
          "output_type": "stream",
          "name": "stdout",
          "text": [
            "4\n"
          ]
        }
      ]
    },
    {
      "cell_type": "markdown",
      "metadata": {
        "id": "lLU0XfIhs7qL"
      },
      "source": [
        "#pandas"
      ]
    },
    {
      "cell_type": "code",
      "metadata": {
        "colab": {
          "base_uri": "https://localhost:8080/"
        },
        "id": "c3eCJ_PVs-Yg",
        "outputId": "30cf941a-05f9-4a66-c4ec-117661a5c3f3"
      },
      "source": [
        "import pandas as pd\n",
        "\n",
        "s=pd.Series([1,2,3,4,5],index=['A','B','C','D','E'])\n",
        "s"
      ],
      "execution_count": null,
      "outputs": [
        {
          "output_type": "execute_result",
          "data": {
            "text/plain": [
              "A    1\n",
              "B    2\n",
              "C    3\n",
              "D    4\n",
              "E    5\n",
              "dtype: int64"
            ]
          },
          "metadata": {},
          "execution_count": 2
        }
      ]
    },
    {
      "cell_type": "code",
      "metadata": {
        "colab": {
          "base_uri": "https://localhost:8080/"
        },
        "id": "JA-FPwb1tbEX",
        "outputId": "8071d316-80fe-4bf4-c0c6-ed7f8d1339bf"
      },
      "source": [
        "#creating data frame\n",
        "import pandas as pd \n",
        "data = {'Name':['ajay', 'suresh', 'honey', 'ramu'],\n",
        "        'Age':[19,15,20,13]}\n",
        "df = pd.DataFrame(data)\n",
        "print(df)"
      ],
      "execution_count": null,
      "outputs": [
        {
          "output_type": "stream",
          "name": "stdout",
          "text": [
            "     Name  Age\n",
            "0    ajay   19\n",
            "1  suresh   15\n",
            "2   honey   20\n",
            "3    ramu   13\n"
          ]
        }
      ]
    },
    {
      "cell_type": "code",
      "metadata": {
        "id": "bt1fo4y0tlnG"
      },
      "source": [
        "#load csv data from URL using numpy\n",
        "from numpy import loadtxt\n",
        "from urllib.request import urlopen\n",
        "url='https://raw.githubusercontent.com/jbrowlee/datasets/master/pima-indins-diabetes'\n",
        "raw_data=pd.read_csv(urloprn(url))\n",
        "raw_data.shape\n",
        "raw_data.head()"
      ],
      "execution_count": null,
      "outputs": []
    },
    {
      "cell_type": "code",
      "metadata": {
        "id": "ILmPpj0JtqKy"
      },
      "source": [
        "raw_data.tail()"
      ],
      "execution_count": null,
      "outputs": []
    },
    {
      "cell_type": "code",
      "metadata": {
        "id": "wxUtzeLYtryW"
      },
      "source": [
        "raw_data.head(25)"
      ],
      "execution_count": null,
      "outputs": []
    },
    {
      "cell_type": "code",
      "metadata": {
        "id": "TGjFdN_Wttrl"
      },
      "source": [
        "raw_data.describe()"
      ],
      "execution_count": null,
      "outputs": []
    },
    {
      "cell_type": "code",
      "metadata": {
        "id": "z49-WSCPtvnW"
      },
      "source": [
        "raw_data.cov()"
      ],
      "execution_count": null,
      "outputs": []
    },
    {
      "cell_type": "code",
      "metadata": {
        "id": "1pCglcYmtx8P"
      },
      "source": [
        "raw_data.corr()"
      ],
      "execution_count": null,
      "outputs": []
    },
    {
      "cell_type": "code",
      "metadata": {
        "colab": {
          "base_uri": "https://localhost:8080/"
        },
        "id": "ziX3xDYjtz00",
        "outputId": "707abd2a-df2c-4744-b75b-64eb331fc739"
      },
      "source": [
        "#read from iris data\n",
        "from sklearn.datasets import load_iris\n",
        "import numpy as np\n",
        "iris=load_iris()\n",
        "iris"
      ],
      "execution_count": null,
      "outputs": [
        {
          "output_type": "execute_result",
          "data": {
            "text/plain": [
              "{'DESCR': '.. _iris_dataset:\\n\\nIris plants dataset\\n--------------------\\n\\n**Data Set Characteristics:**\\n\\n    :Number of Instances: 150 (50 in each of three classes)\\n    :Number of Attributes: 4 numeric, predictive attributes and the class\\n    :Attribute Information:\\n        - sepal length in cm\\n        - sepal width in cm\\n        - petal length in cm\\n        - petal width in cm\\n        - class:\\n                - Iris-Setosa\\n                - Iris-Versicolour\\n                - Iris-Virginica\\n                \\n    :Summary Statistics:\\n\\n    ============== ==== ==== ======= ===== ====================\\n                    Min  Max   Mean    SD   Class Correlation\\n    ============== ==== ==== ======= ===== ====================\\n    sepal length:   4.3  7.9   5.84   0.83    0.7826\\n    sepal width:    2.0  4.4   3.05   0.43   -0.4194\\n    petal length:   1.0  6.9   3.76   1.76    0.9490  (high!)\\n    petal width:    0.1  2.5   1.20   0.76    0.9565  (high!)\\n    ============== ==== ==== ======= ===== ====================\\n\\n    :Missing Attribute Values: None\\n    :Class Distribution: 33.3% for each of 3 classes.\\n    :Creator: R.A. Fisher\\n    :Donor: Michael Marshall (MARSHALL%PLU@io.arc.nasa.gov)\\n    :Date: July, 1988\\n\\nThe famous Iris database, first used by Sir R.A. Fisher. The dataset is taken\\nfrom Fisher\\'s paper. Note that it\\'s the same as in R, but not as in the UCI\\nMachine Learning Repository, which has two wrong data points.\\n\\nThis is perhaps the best known database to be found in the\\npattern recognition literature.  Fisher\\'s paper is a classic in the field and\\nis referenced frequently to this day.  (See Duda & Hart, for example.)  The\\ndata set contains 3 classes of 50 instances each, where each class refers to a\\ntype of iris plant.  One class is linearly separable from the other 2; the\\nlatter are NOT linearly separable from each other.\\n\\n.. topic:: References\\n\\n   - Fisher, R.A. \"The use of multiple measurements in taxonomic problems\"\\n     Annual Eugenics, 7, Part II, 179-188 (1936); also in \"Contributions to\\n     Mathematical Statistics\" (John Wiley, NY, 1950).\\n   - Duda, R.O., & Hart, P.E. (1973) Pattern Classification and Scene Analysis.\\n     (Q327.D83) John Wiley & Sons.  ISBN 0-471-22361-1.  See page 218.\\n   - Dasarathy, B.V. (1980) \"Nosing Around the Neighborhood: A New System\\n     Structure and Classification Rule for Recognition in Partially Exposed\\n     Environments\".  IEEE Transactions on Pattern Analysis and Machine\\n     Intelligence, Vol. PAMI-2, No. 1, 67-71.\\n   - Gates, G.W. (1972) \"The Reduced Nearest Neighbor Rule\".  IEEE Transactions\\n     on Information Theory, May 1972, 431-433.\\n   - See also: 1988 MLC Proceedings, 54-64.  Cheeseman et al\"s AUTOCLASS II\\n     conceptual clustering system finds 3 classes in the data.\\n   - Many, many more ...',\n",
              " 'data': array([[5.1, 3.5, 1.4, 0.2],\n",
              "        [4.9, 3. , 1.4, 0.2],\n",
              "        [4.7, 3.2, 1.3, 0.2],\n",
              "        [4.6, 3.1, 1.5, 0.2],\n",
              "        [5. , 3.6, 1.4, 0.2],\n",
              "        [5.4, 3.9, 1.7, 0.4],\n",
              "        [4.6, 3.4, 1.4, 0.3],\n",
              "        [5. , 3.4, 1.5, 0.2],\n",
              "        [4.4, 2.9, 1.4, 0.2],\n",
              "        [4.9, 3.1, 1.5, 0.1],\n",
              "        [5.4, 3.7, 1.5, 0.2],\n",
              "        [4.8, 3.4, 1.6, 0.2],\n",
              "        [4.8, 3. , 1.4, 0.1],\n",
              "        [4.3, 3. , 1.1, 0.1],\n",
              "        [5.8, 4. , 1.2, 0.2],\n",
              "        [5.7, 4.4, 1.5, 0.4],\n",
              "        [5.4, 3.9, 1.3, 0.4],\n",
              "        [5.1, 3.5, 1.4, 0.3],\n",
              "        [5.7, 3.8, 1.7, 0.3],\n",
              "        [5.1, 3.8, 1.5, 0.3],\n",
              "        [5.4, 3.4, 1.7, 0.2],\n",
              "        [5.1, 3.7, 1.5, 0.4],\n",
              "        [4.6, 3.6, 1. , 0.2],\n",
              "        [5.1, 3.3, 1.7, 0.5],\n",
              "        [4.8, 3.4, 1.9, 0.2],\n",
              "        [5. , 3. , 1.6, 0.2],\n",
              "        [5. , 3.4, 1.6, 0.4],\n",
              "        [5.2, 3.5, 1.5, 0.2],\n",
              "        [5.2, 3.4, 1.4, 0.2],\n",
              "        [4.7, 3.2, 1.6, 0.2],\n",
              "        [4.8, 3.1, 1.6, 0.2],\n",
              "        [5.4, 3.4, 1.5, 0.4],\n",
              "        [5.2, 4.1, 1.5, 0.1],\n",
              "        [5.5, 4.2, 1.4, 0.2],\n",
              "        [4.9, 3.1, 1.5, 0.2],\n",
              "        [5. , 3.2, 1.2, 0.2],\n",
              "        [5.5, 3.5, 1.3, 0.2],\n",
              "        [4.9, 3.6, 1.4, 0.1],\n",
              "        [4.4, 3. , 1.3, 0.2],\n",
              "        [5.1, 3.4, 1.5, 0.2],\n",
              "        [5. , 3.5, 1.3, 0.3],\n",
              "        [4.5, 2.3, 1.3, 0.3],\n",
              "        [4.4, 3.2, 1.3, 0.2],\n",
              "        [5. , 3.5, 1.6, 0.6],\n",
              "        [5.1, 3.8, 1.9, 0.4],\n",
              "        [4.8, 3. , 1.4, 0.3],\n",
              "        [5.1, 3.8, 1.6, 0.2],\n",
              "        [4.6, 3.2, 1.4, 0.2],\n",
              "        [5.3, 3.7, 1.5, 0.2],\n",
              "        [5. , 3.3, 1.4, 0.2],\n",
              "        [7. , 3.2, 4.7, 1.4],\n",
              "        [6.4, 3.2, 4.5, 1.5],\n",
              "        [6.9, 3.1, 4.9, 1.5],\n",
              "        [5.5, 2.3, 4. , 1.3],\n",
              "        [6.5, 2.8, 4.6, 1.5],\n",
              "        [5.7, 2.8, 4.5, 1.3],\n",
              "        [6.3, 3.3, 4.7, 1.6],\n",
              "        [4.9, 2.4, 3.3, 1. ],\n",
              "        [6.6, 2.9, 4.6, 1.3],\n",
              "        [5.2, 2.7, 3.9, 1.4],\n",
              "        [5. , 2. , 3.5, 1. ],\n",
              "        [5.9, 3. , 4.2, 1.5],\n",
              "        [6. , 2.2, 4. , 1. ],\n",
              "        [6.1, 2.9, 4.7, 1.4],\n",
              "        [5.6, 2.9, 3.6, 1.3],\n",
              "        [6.7, 3.1, 4.4, 1.4],\n",
              "        [5.6, 3. , 4.5, 1.5],\n",
              "        [5.8, 2.7, 4.1, 1. ],\n",
              "        [6.2, 2.2, 4.5, 1.5],\n",
              "        [5.6, 2.5, 3.9, 1.1],\n",
              "        [5.9, 3.2, 4.8, 1.8],\n",
              "        [6.1, 2.8, 4. , 1.3],\n",
              "        [6.3, 2.5, 4.9, 1.5],\n",
              "        [6.1, 2.8, 4.7, 1.2],\n",
              "        [6.4, 2.9, 4.3, 1.3],\n",
              "        [6.6, 3. , 4.4, 1.4],\n",
              "        [6.8, 2.8, 4.8, 1.4],\n",
              "        [6.7, 3. , 5. , 1.7],\n",
              "        [6. , 2.9, 4.5, 1.5],\n",
              "        [5.7, 2.6, 3.5, 1. ],\n",
              "        [5.5, 2.4, 3.8, 1.1],\n",
              "        [5.5, 2.4, 3.7, 1. ],\n",
              "        [5.8, 2.7, 3.9, 1.2],\n",
              "        [6. , 2.7, 5.1, 1.6],\n",
              "        [5.4, 3. , 4.5, 1.5],\n",
              "        [6. , 3.4, 4.5, 1.6],\n",
              "        [6.7, 3.1, 4.7, 1.5],\n",
              "        [6.3, 2.3, 4.4, 1.3],\n",
              "        [5.6, 3. , 4.1, 1.3],\n",
              "        [5.5, 2.5, 4. , 1.3],\n",
              "        [5.5, 2.6, 4.4, 1.2],\n",
              "        [6.1, 3. , 4.6, 1.4],\n",
              "        [5.8, 2.6, 4. , 1.2],\n",
              "        [5. , 2.3, 3.3, 1. ],\n",
              "        [5.6, 2.7, 4.2, 1.3],\n",
              "        [5.7, 3. , 4.2, 1.2],\n",
              "        [5.7, 2.9, 4.2, 1.3],\n",
              "        [6.2, 2.9, 4.3, 1.3],\n",
              "        [5.1, 2.5, 3. , 1.1],\n",
              "        [5.7, 2.8, 4.1, 1.3],\n",
              "        [6.3, 3.3, 6. , 2.5],\n",
              "        [5.8, 2.7, 5.1, 1.9],\n",
              "        [7.1, 3. , 5.9, 2.1],\n",
              "        [6.3, 2.9, 5.6, 1.8],\n",
              "        [6.5, 3. , 5.8, 2.2],\n",
              "        [7.6, 3. , 6.6, 2.1],\n",
              "        [4.9, 2.5, 4.5, 1.7],\n",
              "        [7.3, 2.9, 6.3, 1.8],\n",
              "        [6.7, 2.5, 5.8, 1.8],\n",
              "        [7.2, 3.6, 6.1, 2.5],\n",
              "        [6.5, 3.2, 5.1, 2. ],\n",
              "        [6.4, 2.7, 5.3, 1.9],\n",
              "        [6.8, 3. , 5.5, 2.1],\n",
              "        [5.7, 2.5, 5. , 2. ],\n",
              "        [5.8, 2.8, 5.1, 2.4],\n",
              "        [6.4, 3.2, 5.3, 2.3],\n",
              "        [6.5, 3. , 5.5, 1.8],\n",
              "        [7.7, 3.8, 6.7, 2.2],\n",
              "        [7.7, 2.6, 6.9, 2.3],\n",
              "        [6. , 2.2, 5. , 1.5],\n",
              "        [6.9, 3.2, 5.7, 2.3],\n",
              "        [5.6, 2.8, 4.9, 2. ],\n",
              "        [7.7, 2.8, 6.7, 2. ],\n",
              "        [6.3, 2.7, 4.9, 1.8],\n",
              "        [6.7, 3.3, 5.7, 2.1],\n",
              "        [7.2, 3.2, 6. , 1.8],\n",
              "        [6.2, 2.8, 4.8, 1.8],\n",
              "        [6.1, 3. , 4.9, 1.8],\n",
              "        [6.4, 2.8, 5.6, 2.1],\n",
              "        [7.2, 3. , 5.8, 1.6],\n",
              "        [7.4, 2.8, 6.1, 1.9],\n",
              "        [7.9, 3.8, 6.4, 2. ],\n",
              "        [6.4, 2.8, 5.6, 2.2],\n",
              "        [6.3, 2.8, 5.1, 1.5],\n",
              "        [6.1, 2.6, 5.6, 1.4],\n",
              "        [7.7, 3. , 6.1, 2.3],\n",
              "        [6.3, 3.4, 5.6, 2.4],\n",
              "        [6.4, 3.1, 5.5, 1.8],\n",
              "        [6. , 3. , 4.8, 1.8],\n",
              "        [6.9, 3.1, 5.4, 2.1],\n",
              "        [6.7, 3.1, 5.6, 2.4],\n",
              "        [6.9, 3.1, 5.1, 2.3],\n",
              "        [5.8, 2.7, 5.1, 1.9],\n",
              "        [6.8, 3.2, 5.9, 2.3],\n",
              "        [6.7, 3.3, 5.7, 2.5],\n",
              "        [6.7, 3. , 5.2, 2.3],\n",
              "        [6.3, 2.5, 5. , 1.9],\n",
              "        [6.5, 3. , 5.2, 2. ],\n",
              "        [6.2, 3.4, 5.4, 2.3],\n",
              "        [5.9, 3. , 5.1, 1.8]]),\n",
              " 'feature_names': ['sepal length (cm)',\n",
              "  'sepal width (cm)',\n",
              "  'petal length (cm)',\n",
              "  'petal width (cm)'],\n",
              " 'filename': '/usr/local/lib/python3.7/dist-packages/sklearn/datasets/data/iris.csv',\n",
              " 'target': array([0, 0, 0, 0, 0, 0, 0, 0, 0, 0, 0, 0, 0, 0, 0, 0, 0, 0, 0, 0, 0, 0,\n",
              "        0, 0, 0, 0, 0, 0, 0, 0, 0, 0, 0, 0, 0, 0, 0, 0, 0, 0, 0, 0, 0, 0,\n",
              "        0, 0, 0, 0, 0, 0, 1, 1, 1, 1, 1, 1, 1, 1, 1, 1, 1, 1, 1, 1, 1, 1,\n",
              "        1, 1, 1, 1, 1, 1, 1, 1, 1, 1, 1, 1, 1, 1, 1, 1, 1, 1, 1, 1, 1, 1,\n",
              "        1, 1, 1, 1, 1, 1, 1, 1, 1, 1, 1, 1, 2, 2, 2, 2, 2, 2, 2, 2, 2, 2,\n",
              "        2, 2, 2, 2, 2, 2, 2, 2, 2, 2, 2, 2, 2, 2, 2, 2, 2, 2, 2, 2, 2, 2,\n",
              "        2, 2, 2, 2, 2, 2, 2, 2, 2, 2, 2, 2, 2, 2, 2, 2, 2, 2]),\n",
              " 'target_names': array(['setosa', 'versicolor', 'virginica'], dtype='<U10')}"
            ]
          },
          "metadata": {},
          "execution_count": 5
        }
      ]
    },
    {
      "cell_type": "code",
      "metadata": {
        "id": "Gp0zYlnZt5gT"
      },
      "source": [
        "x=pd.DataFrame(iris.data)"
      ],
      "execution_count": null,
      "outputs": []
    },
    {
      "cell_type": "code",
      "metadata": {
        "id": "q2LRAwx4uFDn"
      },
      "source": [
        "x.shape\n",
        "x.columns=['sepal_length','sepal_width','petal_length','petal_width']\n",
        "x.head()"
      ],
      "execution_count": null,
      "outputs": []
    },
    {
      "cell_type": "code",
      "metadata": {
        "colab": {
          "base_uri": "https://localhost:8080/",
          "height": 203
        },
        "id": "cYx1IqxguI1n",
        "outputId": "c1eeea66-1b5b-44ff-e995-5227f2fdcbdd"
      },
      "source": [
        "x.tail()"
      ],
      "execution_count": null,
      "outputs": [
        {
          "output_type": "execute_result",
          "data": {
            "text/html": [
              "<div>\n",
              "<style scoped>\n",
              "    .dataframe tbody tr th:only-of-type {\n",
              "        vertical-align: middle;\n",
              "    }\n",
              "\n",
              "    .dataframe tbody tr th {\n",
              "        vertical-align: top;\n",
              "    }\n",
              "\n",
              "    .dataframe thead th {\n",
              "        text-align: right;\n",
              "    }\n",
              "</style>\n",
              "<table border=\"1\" class=\"dataframe\">\n",
              "  <thead>\n",
              "    <tr style=\"text-align: right;\">\n",
              "      <th></th>\n",
              "      <th>0</th>\n",
              "      <th>1</th>\n",
              "      <th>2</th>\n",
              "      <th>3</th>\n",
              "    </tr>\n",
              "  </thead>\n",
              "  <tbody>\n",
              "    <tr>\n",
              "      <th>145</th>\n",
              "      <td>6.7</td>\n",
              "      <td>3.0</td>\n",
              "      <td>5.2</td>\n",
              "      <td>2.3</td>\n",
              "    </tr>\n",
              "    <tr>\n",
              "      <th>146</th>\n",
              "      <td>6.3</td>\n",
              "      <td>2.5</td>\n",
              "      <td>5.0</td>\n",
              "      <td>1.9</td>\n",
              "    </tr>\n",
              "    <tr>\n",
              "      <th>147</th>\n",
              "      <td>6.5</td>\n",
              "      <td>3.0</td>\n",
              "      <td>5.2</td>\n",
              "      <td>2.0</td>\n",
              "    </tr>\n",
              "    <tr>\n",
              "      <th>148</th>\n",
              "      <td>6.2</td>\n",
              "      <td>3.4</td>\n",
              "      <td>5.4</td>\n",
              "      <td>2.3</td>\n",
              "    </tr>\n",
              "    <tr>\n",
              "      <th>149</th>\n",
              "      <td>5.9</td>\n",
              "      <td>3.0</td>\n",
              "      <td>5.1</td>\n",
              "      <td>1.8</td>\n",
              "    </tr>\n",
              "  </tbody>\n",
              "</table>\n",
              "</div>"
            ],
            "text/plain": [
              "       0    1    2    3\n",
              "145  6.7  3.0  5.2  2.3\n",
              "146  6.3  2.5  5.0  1.9\n",
              "147  6.5  3.0  5.2  2.0\n",
              "148  6.2  3.4  5.4  2.3\n",
              "149  5.9  3.0  5.1  1.8"
            ]
          },
          "metadata": {},
          "execution_count": 9
        }
      ]
    },
    {
      "cell_type": "code",
      "metadata": {
        "colab": {
          "base_uri": "https://localhost:8080/",
          "height": 295
        },
        "id": "kkC8tZgSuLqr",
        "outputId": "b3505087-bad0-4871-ae89-2218e01a756d"
      },
      "source": [
        "x.describe()"
      ],
      "execution_count": null,
      "outputs": [
        {
          "output_type": "execute_result",
          "data": {
            "text/html": [
              "<div>\n",
              "<style scoped>\n",
              "    .dataframe tbody tr th:only-of-type {\n",
              "        vertical-align: middle;\n",
              "    }\n",
              "\n",
              "    .dataframe tbody tr th {\n",
              "        vertical-align: top;\n",
              "    }\n",
              "\n",
              "    .dataframe thead th {\n",
              "        text-align: right;\n",
              "    }\n",
              "</style>\n",
              "<table border=\"1\" class=\"dataframe\">\n",
              "  <thead>\n",
              "    <tr style=\"text-align: right;\">\n",
              "      <th></th>\n",
              "      <th>0</th>\n",
              "      <th>1</th>\n",
              "      <th>2</th>\n",
              "      <th>3</th>\n",
              "    </tr>\n",
              "  </thead>\n",
              "  <tbody>\n",
              "    <tr>\n",
              "      <th>count</th>\n",
              "      <td>150.000000</td>\n",
              "      <td>150.000000</td>\n",
              "      <td>150.000000</td>\n",
              "      <td>150.000000</td>\n",
              "    </tr>\n",
              "    <tr>\n",
              "      <th>mean</th>\n",
              "      <td>5.843333</td>\n",
              "      <td>3.057333</td>\n",
              "      <td>3.758000</td>\n",
              "      <td>1.199333</td>\n",
              "    </tr>\n",
              "    <tr>\n",
              "      <th>std</th>\n",
              "      <td>0.828066</td>\n",
              "      <td>0.435866</td>\n",
              "      <td>1.765298</td>\n",
              "      <td>0.762238</td>\n",
              "    </tr>\n",
              "    <tr>\n",
              "      <th>min</th>\n",
              "      <td>4.300000</td>\n",
              "      <td>2.000000</td>\n",
              "      <td>1.000000</td>\n",
              "      <td>0.100000</td>\n",
              "    </tr>\n",
              "    <tr>\n",
              "      <th>25%</th>\n",
              "      <td>5.100000</td>\n",
              "      <td>2.800000</td>\n",
              "      <td>1.600000</td>\n",
              "      <td>0.300000</td>\n",
              "    </tr>\n",
              "    <tr>\n",
              "      <th>50%</th>\n",
              "      <td>5.800000</td>\n",
              "      <td>3.000000</td>\n",
              "      <td>4.350000</td>\n",
              "      <td>1.300000</td>\n",
              "    </tr>\n",
              "    <tr>\n",
              "      <th>75%</th>\n",
              "      <td>6.400000</td>\n",
              "      <td>3.300000</td>\n",
              "      <td>5.100000</td>\n",
              "      <td>1.800000</td>\n",
              "    </tr>\n",
              "    <tr>\n",
              "      <th>max</th>\n",
              "      <td>7.900000</td>\n",
              "      <td>4.400000</td>\n",
              "      <td>6.900000</td>\n",
              "      <td>2.500000</td>\n",
              "    </tr>\n",
              "  </tbody>\n",
              "</table>\n",
              "</div>"
            ],
            "text/plain": [
              "                0           1           2           3\n",
              "count  150.000000  150.000000  150.000000  150.000000\n",
              "mean     5.843333    3.057333    3.758000    1.199333\n",
              "std      0.828066    0.435866    1.765298    0.762238\n",
              "min      4.300000    2.000000    1.000000    0.100000\n",
              "25%      5.100000    2.800000    1.600000    0.300000\n",
              "50%      5.800000    3.000000    4.350000    1.300000\n",
              "75%      6.400000    3.300000    5.100000    1.800000\n",
              "max      7.900000    4.400000    6.900000    2.500000"
            ]
          },
          "metadata": {},
          "execution_count": 10
        }
      ]
    },
    {
      "cell_type": "code",
      "metadata": {
        "id": "tjIuy5PVuOG-"
      },
      "source": [
        "x.cov()"
      ],
      "execution_count": null,
      "outputs": []
    },
    {
      "cell_type": "code",
      "metadata": {
        "colab": {
          "base_uri": "https://localhost:8080/",
          "height": 172
        },
        "id": "StutgEUxuQrQ",
        "outputId": "a57354b3-68f0-449f-a945-646b65585f60"
      },
      "source": [
        "x.corr()"
      ],
      "execution_count": null,
      "outputs": [
        {
          "output_type": "execute_result",
          "data": {
            "text/html": [
              "<div>\n",
              "<style scoped>\n",
              "    .dataframe tbody tr th:only-of-type {\n",
              "        vertical-align: middle;\n",
              "    }\n",
              "\n",
              "    .dataframe tbody tr th {\n",
              "        vertical-align: top;\n",
              "    }\n",
              "\n",
              "    .dataframe thead th {\n",
              "        text-align: right;\n",
              "    }\n",
              "</style>\n",
              "<table border=\"1\" class=\"dataframe\">\n",
              "  <thead>\n",
              "    <tr style=\"text-align: right;\">\n",
              "      <th></th>\n",
              "      <th>0</th>\n",
              "      <th>1</th>\n",
              "      <th>2</th>\n",
              "      <th>3</th>\n",
              "    </tr>\n",
              "  </thead>\n",
              "  <tbody>\n",
              "    <tr>\n",
              "      <th>0</th>\n",
              "      <td>1.000000</td>\n",
              "      <td>-0.117570</td>\n",
              "      <td>0.871754</td>\n",
              "      <td>0.817941</td>\n",
              "    </tr>\n",
              "    <tr>\n",
              "      <th>1</th>\n",
              "      <td>-0.117570</td>\n",
              "      <td>1.000000</td>\n",
              "      <td>-0.428440</td>\n",
              "      <td>-0.366126</td>\n",
              "    </tr>\n",
              "    <tr>\n",
              "      <th>2</th>\n",
              "      <td>0.871754</td>\n",
              "      <td>-0.428440</td>\n",
              "      <td>1.000000</td>\n",
              "      <td>0.962865</td>\n",
              "    </tr>\n",
              "    <tr>\n",
              "      <th>3</th>\n",
              "      <td>0.817941</td>\n",
              "      <td>-0.366126</td>\n",
              "      <td>0.962865</td>\n",
              "      <td>1.000000</td>\n",
              "    </tr>\n",
              "  </tbody>\n",
              "</table>\n",
              "</div>"
            ],
            "text/plain": [
              "          0         1         2         3\n",
              "0  1.000000 -0.117570  0.871754  0.817941\n",
              "1 -0.117570  1.000000 -0.428440 -0.366126\n",
              "2  0.871754 -0.428440  1.000000  0.962865\n",
              "3  0.817941 -0.366126  0.962865  1.000000"
            ]
          },
          "metadata": {},
          "execution_count": 12
        }
      ]
    },
    {
      "cell_type": "code",
      "metadata": {
        "id": "SNEfHa-0uS6G"
      },
      "source": [
        "#grouping operation\n",
        "df=pd.Dataframe({'NAME':['teju','sahi','bunny'],'state':['IND','IND','IND'],\n",
        "                 'grade':['A','A','A'],'age':np.random.uniform(20,16,size=3),'salary':np.random.uniform(35000,25000,size=3)})\n",
        "print(df)"
      ],
      "execution_count": null,
      "outputs": []
    },
    {
      "cell_type": "code",
      "metadata": {
        "id": "_K4qWyWRuTzC"
      },
      "source": [
        "df.groupby(['name','state']).max()"
      ],
      "execution_count": null,
      "outputs": []
    },
    {
      "cell_type": "markdown",
      "metadata": {
        "id": "a3I1YhGNuYHV"
      },
      "source": [
        "#scipy"
      ]
    },
    {
      "cell_type": "code",
      "metadata": {
        "id": "KWAp4HSluadk"
      },
      "source": [
        "import numpy as np\n",
        "np.linspace(1.,3.,5.)"
      ],
      "execution_count": null,
      "outputs": []
    },
    {
      "cell_type": "code",
      "metadata": {
        "colab": {
          "base_uri": "https://localhost:8080/"
        },
        "id": "FxaNeVB9uciC",
        "outputId": "6ff60574-6da8-49a0-802a-e87754cd1033"
      },
      "source": [
        "#kmeans using scipy\n",
        "from scipy.cluster.vq import kmeans,vq,whiten\n",
        "from numpy import vstack,array\n",
        "from numpy.random import rand\n",
        "data=vstack((rand(100,3)+array([.5,.5,.5]),rand(100,3)))\n",
        "data"
      ],
      "execution_count": null,
      "outputs": [
        {
          "output_type": "execute_result",
          "data": {
            "text/plain": [
              "array([[1.45902294e+00, 1.14229599e+00, 9.81218250e-01],\n",
              "       [1.26862366e+00, 1.20736508e+00, 1.29266468e+00],\n",
              "       [1.49921683e+00, 9.35042057e-01, 1.04970041e+00],\n",
              "       [1.30128913e+00, 1.25508502e+00, 6.46412395e-01],\n",
              "       [1.08012632e+00, 1.17016192e+00, 7.18597629e-01],\n",
              "       [1.49466688e+00, 1.23940875e+00, 9.03481460e-01],\n",
              "       [9.06920311e-01, 1.13958776e+00, 9.80624348e-01],\n",
              "       [5.72034968e-01, 5.68897099e-01, 1.47057309e+00],\n",
              "       [7.62936404e-01, 5.69643029e-01, 5.48585319e-01],\n",
              "       [1.39680695e+00, 7.38753401e-01, 1.48181389e+00],\n",
              "       [9.99249645e-01, 7.84082976e-01, 1.08977391e+00],\n",
              "       [1.40459401e+00, 6.97783718e-01, 1.37806193e+00],\n",
              "       [6.12021391e-01, 7.00737089e-01, 1.02504389e+00],\n",
              "       [1.48939814e+00, 8.28909185e-01, 5.97095370e-01],\n",
              "       [7.78362749e-01, 9.28679004e-01, 1.03726854e+00],\n",
              "       [6.55008327e-01, 1.49401877e+00, 8.86763772e-01],\n",
              "       [1.07442944e+00, 6.92073814e-01, 6.72813539e-01],\n",
              "       [1.33779422e+00, 1.44401255e+00, 9.24401506e-01],\n",
              "       [1.22673689e+00, 1.45897495e+00, 1.39149597e+00],\n",
              "       [9.16802421e-01, 9.80086461e-01, 9.99018868e-01],\n",
              "       [1.17321190e+00, 8.28120269e-01, 1.44195021e+00],\n",
              "       [1.36902665e+00, 1.18179159e+00, 9.75774221e-01],\n",
              "       [7.99969654e-01, 1.39820156e+00, 1.35827515e+00],\n",
              "       [9.64806019e-01, 1.07090482e+00, 1.06872598e+00],\n",
              "       [1.00705982e+00, 7.41577437e-01, 1.07378894e+00],\n",
              "       [1.13008358e+00, 5.68083627e-01, 1.37090322e+00],\n",
              "       [1.25029995e+00, 9.21177994e-01, 5.73389951e-01],\n",
              "       [1.08735762e+00, 1.12423457e+00, 9.28741954e-01],\n",
              "       [1.34481930e+00, 1.40051703e+00, 1.47241542e+00],\n",
              "       [9.53045206e-01, 1.11547298e+00, 7.37440441e-01],\n",
              "       [6.15939969e-01, 9.37210743e-01, 1.10006291e+00],\n",
              "       [7.00001574e-01, 9.06680564e-01, 8.27695440e-01],\n",
              "       [6.13728785e-01, 5.59626518e-01, 6.59066592e-01],\n",
              "       [7.11868442e-01, 5.75665743e-01, 1.03890141e+00],\n",
              "       [1.09632355e+00, 7.90633044e-01, 1.49844104e+00],\n",
              "       [1.04185864e+00, 5.98278074e-01, 1.20060651e+00],\n",
              "       [1.01382647e+00, 1.10703017e+00, 7.86486839e-01],\n",
              "       [1.20819077e+00, 6.91430797e-01, 5.31565137e-01],\n",
              "       [1.14509290e+00, 8.93236027e-01, 1.18313171e+00],\n",
              "       [1.45775615e+00, 1.39900055e+00, 8.57570191e-01],\n",
              "       [1.37071540e+00, 1.20575797e+00, 9.53346230e-01],\n",
              "       [1.23390520e+00, 1.23160061e+00, 1.27056510e+00],\n",
              "       [1.41169655e+00, 1.47906644e+00, 1.24993999e+00],\n",
              "       [5.53476694e-01, 9.64558498e-01, 6.57411871e-01],\n",
              "       [6.48717097e-01, 8.94434118e-01, 6.07527699e-01],\n",
              "       [7.97212550e-01, 1.14957042e+00, 1.22317466e+00],\n",
              "       [1.11404932e+00, 6.79247090e-01, 7.49932220e-01],\n",
              "       [1.45992237e+00, 8.16081519e-01, 1.15269264e+00],\n",
              "       [1.34178535e+00, 6.45995080e-01, 9.95066757e-01],\n",
              "       [9.23241243e-01, 6.52305865e-01, 5.44160879e-01],\n",
              "       [8.39234632e-01, 6.58871630e-01, 1.18915681e+00],\n",
              "       [7.57552670e-01, 1.12136366e+00, 1.17950045e+00],\n",
              "       [1.07730036e+00, 6.19988308e-01, 7.59738569e-01],\n",
              "       [9.47069576e-01, 1.30453332e+00, 8.60330077e-01],\n",
              "       [7.54102233e-01, 8.71807831e-01, 1.00758754e+00],\n",
              "       [5.51452558e-01, 1.11070331e+00, 1.19335714e+00],\n",
              "       [1.06336135e+00, 1.48221908e+00, 1.31891140e+00],\n",
              "       [8.44382577e-01, 1.27345131e+00, 1.17581123e+00],\n",
              "       [8.62329505e-01, 1.09070544e+00, 9.68336096e-01],\n",
              "       [5.75569924e-01, 9.91010430e-01, 5.34551544e-01],\n",
              "       [1.15386719e+00, 9.11936017e-01, 1.18733866e+00],\n",
              "       [9.17556500e-01, 1.14979571e+00, 8.63253398e-01],\n",
              "       [8.42253813e-01, 6.33108935e-01, 7.81600259e-01],\n",
              "       [1.49765796e+00, 7.33498011e-01, 9.90094421e-01],\n",
              "       [8.31088004e-01, 9.46435754e-01, 6.54709013e-01],\n",
              "       [5.54884684e-01, 5.18445488e-01, 8.56968748e-01],\n",
              "       [1.49622735e+00, 6.41334928e-01, 5.11729110e-01],\n",
              "       [1.32716913e+00, 7.70200290e-01, 1.01707299e+00],\n",
              "       [5.44039616e-01, 7.72348082e-01, 5.05201722e-01],\n",
              "       [9.57189266e-01, 9.24334266e-01, 1.40980599e+00],\n",
              "       [1.11521453e+00, 1.17652148e+00, 1.07241044e+00],\n",
              "       [1.09447727e+00, 8.07567173e-01, 5.22025481e-01],\n",
              "       [1.09796575e+00, 9.71929024e-01, 8.14245422e-01],\n",
              "       [1.39207697e+00, 7.01561699e-01, 1.49642658e+00],\n",
              "       [5.93659409e-01, 9.96363240e-01, 1.09505594e+00],\n",
              "       [1.02087519e+00, 1.44347690e+00, 1.32395851e+00],\n",
              "       [9.26080206e-01, 7.90126247e-01, 1.28420304e+00],\n",
              "       [9.37356933e-01, 1.25355271e+00, 1.00129515e+00],\n",
              "       [1.32439461e+00, 8.45443140e-01, 6.46976001e-01],\n",
              "       [6.65391314e-01, 1.14474525e+00, 5.33873199e-01],\n",
              "       [1.17267273e+00, 1.38345673e+00, 1.47385299e+00],\n",
              "       [1.01540815e+00, 9.04773710e-01, 1.23537998e+00],\n",
              "       [1.30693646e+00, 1.00293416e+00, 5.80916951e-01],\n",
              "       [1.22225022e+00, 6.75824735e-01, 9.85671010e-01],\n",
              "       [7.57976380e-01, 7.59307283e-01, 5.63554977e-01],\n",
              "       [7.92083999e-01, 1.14516003e+00, 9.26757223e-01],\n",
              "       [8.90151365e-01, 8.33620979e-01, 9.03493510e-01],\n",
              "       [7.31495205e-01, 1.02370843e+00, 1.42905710e+00],\n",
              "       [1.21553905e+00, 1.08938579e+00, 1.19670525e+00],\n",
              "       [9.21484720e-01, 1.34655523e+00, 5.83568754e-01],\n",
              "       [7.11869237e-01, 1.22352132e+00, 7.25520295e-01],\n",
              "       [7.23787464e-01, 1.12592799e+00, 9.36296337e-01],\n",
              "       [1.28088296e+00, 6.77632348e-01, 1.32233838e+00],\n",
              "       [6.82032153e-01, 9.82981894e-01, 1.43627664e+00],\n",
              "       [1.12223105e+00, 6.78999279e-01, 7.45676010e-01],\n",
              "       [8.50348444e-01, 9.53198676e-01, 1.34018116e+00],\n",
              "       [1.41607982e+00, 9.36456516e-01, 1.21605390e+00],\n",
              "       [9.90389280e-01, 5.37285213e-01, 6.82258575e-01],\n",
              "       [7.06163402e-01, 7.34149769e-01, 1.38539929e+00],\n",
              "       [6.39512054e-01, 1.25593323e+00, 1.16431432e+00],\n",
              "       [7.33421984e-01, 3.80216227e-01, 1.29430219e-01],\n",
              "       [5.06029563e-01, 7.34357713e-01, 9.49552809e-01],\n",
              "       [8.61678366e-01, 1.02962719e-01, 3.06594343e-01],\n",
              "       [6.02323003e-01, 6.47428873e-02, 4.75810282e-01],\n",
              "       [4.34693587e-01, 2.43867476e-01, 4.80004636e-01],\n",
              "       [8.56837794e-02, 3.47845684e-02, 4.00229552e-01],\n",
              "       [4.25745615e-02, 3.17156426e-01, 6.15965459e-01],\n",
              "       [9.34075965e-01, 7.51017456e-01, 1.97651735e-01],\n",
              "       [6.40196985e-01, 9.71541325e-01, 7.12030911e-01],\n",
              "       [2.25901986e-01, 1.66640428e-01, 6.54391992e-01],\n",
              "       [5.49331176e-02, 6.04387445e-01, 9.07854775e-01],\n",
              "       [4.64452073e-01, 9.44321343e-01, 5.40621327e-01],\n",
              "       [9.89684169e-01, 5.19123833e-01, 5.37998198e-01],\n",
              "       [7.19427816e-02, 1.47189669e-01, 7.95523983e-01],\n",
              "       [4.82830791e-01, 1.37433441e-01, 8.22655580e-01],\n",
              "       [3.10131329e-01, 1.77887370e-01, 4.05181708e-01],\n",
              "       [6.69984529e-01, 1.60773769e-01, 3.66161478e-01],\n",
              "       [9.39066516e-01, 3.70848600e-02, 4.19398619e-01],\n",
              "       [3.86972160e-01, 5.62206668e-01, 2.46276862e-01],\n",
              "       [6.42145865e-01, 4.52641238e-01, 3.89825418e-01],\n",
              "       [9.86553456e-01, 2.47744036e-01, 5.80253485e-01],\n",
              "       [2.74463495e-01, 3.34724703e-01, 5.01623593e-01],\n",
              "       [5.64881774e-01, 1.44223982e-01, 4.65303694e-01],\n",
              "       [1.16697487e-01, 8.22277805e-01, 7.22142718e-01],\n",
              "       [4.67119606e-01, 2.34193897e-01, 3.61296819e-01],\n",
              "       [4.98233247e-01, 1.24192351e-01, 3.87137586e-03],\n",
              "       [4.40924889e-01, 8.15942171e-01, 9.63270485e-01],\n",
              "       [7.94950316e-01, 4.93395053e-01, 6.99174370e-01],\n",
              "       [1.73518443e-01, 1.01932614e-01, 6.01866519e-01],\n",
              "       [6.67976614e-02, 8.14867091e-01, 5.90855302e-01],\n",
              "       [3.74421205e-01, 2.71881284e-01, 5.70833703e-01],\n",
              "       [5.57487654e-01, 5.49276275e-01, 1.16379899e-01],\n",
              "       [6.16743148e-01, 2.28677161e-01, 8.74100640e-01],\n",
              "       [4.03778583e-01, 5.42045408e-01, 7.84722883e-01],\n",
              "       [5.54139619e-01, 1.30259010e-01, 9.44175125e-01],\n",
              "       [6.89105039e-02, 5.71077811e-01, 2.49877116e-01],\n",
              "       [8.48534031e-01, 6.56782501e-01, 6.38691296e-01],\n",
              "       [1.88125821e-01, 8.82949735e-01, 7.43443475e-02],\n",
              "       [7.95838028e-01, 3.81637384e-01, 2.91637531e-01],\n",
              "       [8.57858609e-01, 4.42404120e-01, 8.01650671e-01],\n",
              "       [5.76832197e-01, 9.33371691e-01, 7.71818088e-01],\n",
              "       [7.25327341e-01, 9.58206811e-01, 4.74132566e-01],\n",
              "       [5.32146505e-01, 9.03843364e-04, 8.52162257e-02],\n",
              "       [8.11824170e-01, 7.13573812e-01, 2.89907193e-01],\n",
              "       [2.39777337e-01, 9.70907907e-02, 3.17204378e-01],\n",
              "       [3.99574300e-01, 4.95442617e-01, 7.33995673e-01],\n",
              "       [9.32332622e-01, 3.90748718e-01, 1.17272482e-01],\n",
              "       [1.33044220e-01, 4.07177849e-01, 1.33914168e-01],\n",
              "       [3.92822220e-01, 3.52988145e-01, 6.08431111e-01],\n",
              "       [7.90183392e-01, 8.19576226e-01, 7.08845889e-02],\n",
              "       [7.93293985e-01, 8.67101039e-01, 7.50959146e-01],\n",
              "       [2.92588715e-01, 1.87516558e-01, 4.95195844e-01],\n",
              "       [6.24043716e-02, 2.32345791e-01, 1.96166377e-01],\n",
              "       [6.44940269e-01, 9.50368960e-01, 9.85365002e-01],\n",
              "       [2.00531543e-01, 5.20823997e-01, 4.29000862e-01],\n",
              "       [1.92072116e-01, 8.41818745e-03, 8.53488639e-01],\n",
              "       [6.25680146e-01, 3.57020821e-01, 7.02676233e-01],\n",
              "       [3.91647996e-01, 9.44918580e-01, 7.79651214e-01],\n",
              "       [6.57412493e-01, 2.81713265e-01, 8.19831926e-01],\n",
              "       [9.16079765e-01, 4.39517257e-01, 6.78554333e-01],\n",
              "       [1.97368072e-01, 4.89999289e-01, 1.89777307e-01],\n",
              "       [6.96012662e-01, 6.17704430e-01, 8.05242452e-01],\n",
              "       [6.85537659e-01, 5.01896552e-01, 9.12564439e-01],\n",
              "       [5.03849135e-01, 1.62938698e-02, 2.52088161e-01],\n",
              "       [7.07894372e-01, 9.23570717e-01, 3.39208902e-01],\n",
              "       [3.61263712e-01, 7.65212027e-01, 7.91498155e-01],\n",
              "       [3.81069674e-01, 8.43556837e-01, 4.83564542e-02],\n",
              "       [9.43196600e-01, 3.58867915e-01, 4.79028470e-01],\n",
              "       [5.20556382e-01, 1.84107266e-01, 4.46378688e-01],\n",
              "       [7.13355671e-01, 3.38532848e-01, 2.99599170e-01],\n",
              "       [3.10349400e-01, 4.47751809e-01, 7.61909865e-01],\n",
              "       [1.17466703e-01, 4.56754867e-01, 2.32205743e-01],\n",
              "       [4.50455573e-01, 1.33810129e-01, 3.62707232e-01],\n",
              "       [7.63740508e-01, 9.60225810e-01, 2.89214659e-01],\n",
              "       [4.13773835e-01, 5.15985702e-01, 4.89626909e-01],\n",
              "       [4.68961294e-01, 4.56256489e-01, 5.17241390e-01],\n",
              "       [1.67100927e-01, 8.61630074e-01, 1.26368686e-01],\n",
              "       [9.30130776e-01, 4.31472280e-01, 7.64652156e-01],\n",
              "       [8.62323029e-02, 1.25582468e-01, 2.61904099e-01],\n",
              "       [9.50799228e-02, 3.31855226e-01, 1.24562535e-01],\n",
              "       [2.45078456e-01, 8.52684304e-01, 4.69353146e-01],\n",
              "       [9.33929452e-01, 2.65119714e-02, 4.08814659e-01],\n",
              "       [6.48145277e-01, 8.97879428e-01, 5.80462514e-01],\n",
              "       [7.20169838e-01, 1.62735016e-01, 9.53065195e-01],\n",
              "       [6.12159425e-02, 5.32187256e-01, 7.80619051e-02],\n",
              "       [1.99713027e-01, 4.16812044e-01, 9.46849542e-01],\n",
              "       [7.73855462e-02, 8.60624231e-01, 8.93037406e-01],\n",
              "       [3.01954876e-01, 1.37316786e-01, 4.65706571e-01],\n",
              "       [7.31583643e-02, 5.94840969e-01, 2.38812539e-01],\n",
              "       [6.55866706e-01, 6.78999657e-01, 7.12965139e-01],\n",
              "       [2.60411570e-01, 2.03802867e-01, 2.22334724e-01],\n",
              "       [5.96888870e-01, 7.83358488e-01, 1.64609732e-01],\n",
              "       [1.73565309e-01, 4.27950329e-01, 3.55983759e-01],\n",
              "       [1.57018699e-01, 5.39711367e-01, 1.32934961e-01],\n",
              "       [2.60941240e-01, 2.19237644e-01, 4.61711245e-01],\n",
              "       [2.90203488e-01, 3.28313637e-01, 7.99167907e-01],\n",
              "       [4.61200161e-01, 7.63907659e-01, 1.16825409e-01],\n",
              "       [6.49429222e-01, 4.82435514e-01, 7.33562631e-01],\n",
              "       [6.84830761e-01, 4.59631667e-01, 8.38924088e-02],\n",
              "       [1.68152737e-02, 8.48794996e-01, 5.11081145e-01]])"
            ]
          },
          "metadata": {},
          "execution_count": 13
        }
      ]
    },
    {
      "cell_type": "code",
      "metadata": {
        "colab": {
          "base_uri": "https://localhost:8080/"
        },
        "id": "5Z9XJYlCuitK",
        "outputId": "4f8898f8-0639-4c6a-fba4-52d10d1e02ae"
      },
      "source": [
        "data=whiten(data)\n",
        "data"
      ],
      "execution_count": null,
      "outputs": [
        {
          "output_type": "execute_result",
          "data": {
            "text/plain": [
              "array([[3.74628324e+00, 3.07583889e+00, 2.60171391e+00],\n",
              "       [3.25740152e+00, 3.25104920e+00, 3.42751847e+00],\n",
              "       [3.84948772e+00, 2.51777013e+00, 2.78329530e+00],\n",
              "       [3.34127553e+00, 3.37954379e+00, 1.71397151e+00],\n",
              "       [2.77340335e+00, 3.15087296e+00, 1.90537166e+00],\n",
              "       [3.83780497e+00, 3.33733260e+00, 2.39559373e+00],\n",
              "       [2.32866823e+00, 3.06854648e+00, 2.60013917e+00],\n",
              "       [1.46879460e+00, 1.53185850e+00, 3.89924513e+00],\n",
              "       [1.95896568e+00, 1.53386705e+00, 1.45458165e+00],\n",
              "       [3.58653336e+00, 1.98922736e+00, 3.92905027e+00],\n",
              "       [2.56573909e+00, 2.11128546e+00, 2.88955075e+00],\n",
              "       [3.60652794e+00, 1.87890907e+00, 3.65395048e+00],\n",
              "       [1.57146637e+00, 1.88686156e+00, 2.71791821e+00],\n",
              "       [3.82427659e+00, 2.23198815e+00, 1.58320672e+00],\n",
              "       [1.99857538e+00, 2.50063646e+00, 2.75033204e+00],\n",
              "       [1.68184245e+00, 4.02291618e+00, 2.35126654e+00],\n",
              "       [2.75877569e+00, 1.86353412e+00, 1.78397451e+00],\n",
              "       [3.43500840e+00, 3.88826539e+00, 2.45106352e+00],\n",
              "       [3.14985031e+00, 3.92855435e+00, 3.68957102e+00],\n",
              "       [2.35404218e+00, 2.63906035e+00, 2.64891250e+00],\n",
              "       [3.01241601e+00, 2.22986385e+00, 3.82335114e+00],\n",
              "       [3.51520285e+00, 3.18218794e+00, 2.58727899e+00],\n",
              "       [2.05405468e+00, 3.76491100e+00, 3.60148557e+00],\n",
              "       [2.47729937e+00, 2.88360522e+00, 2.83374187e+00],\n",
              "       [2.58579300e+00, 1.99683159e+00, 2.84716639e+00],\n",
              "       [2.90167690e+00, 1.52966808e+00, 3.63496906e+00],\n",
              "       [3.21035236e+00, 2.48043863e+00, 1.52035147e+00],\n",
              "       [2.79197091e+00, 3.02720525e+00, 2.46257228e+00],\n",
              "       [3.45304647e+00, 3.77114583e+00, 3.90413007e+00],\n",
              "       [2.44710154e+00, 3.00361308e+00, 1.95533364e+00],\n",
              "       [1.58152797e+00, 2.52360971e+00, 2.91683218e+00],\n",
              "       [1.79737007e+00, 2.44140167e+00, 2.19464604e+00],\n",
              "       [1.57585038e+00, 1.50689578e+00, 1.74752429e+00],\n",
              "       [1.82784022e+00, 1.55008430e+00, 2.75466161e+00],\n",
              "       [2.81499243e+00, 2.12892270e+00, 3.97313739e+00],\n",
              "       [2.67514476e+00, 1.61097210e+00, 3.18342495e+00],\n",
              "       [2.60316751e+00, 2.98087929e+00, 2.08538085e+00],\n",
              "       [3.10223005e+00, 1.86180268e+00, 1.40945239e+00],\n",
              "       [2.94021581e+00, 2.40519982e+00, 3.13709026e+00],\n",
              "       [3.74303056e+00, 3.76706241e+00, 2.27385935e+00],\n",
              "       [3.51953898e+00, 3.24672178e+00, 2.52781086e+00],\n",
              "       [3.16825612e+00, 3.31630777e+00, 3.36892113e+00],\n",
              "       [3.62476489e+00, 3.98265433e+00, 3.31423336e+00],\n",
              "       [1.42114315e+00, 2.59724850e+00, 1.74313677e+00],\n",
              "       [1.66568867e+00, 2.40842590e+00, 1.61086819e+00],\n",
              "       [2.04697536e+00, 3.09542662e+00, 3.24326472e+00],\n",
              "       [2.86050628e+00, 1.82899584e+00, 1.98845577e+00],\n",
              "       [3.74859268e+00, 2.19744733e+00, 3.05638064e+00],\n",
              "       [3.44525630e+00, 1.73945878e+00, 2.63843342e+00],\n",
              "       [2.37057492e+00, 1.75645171e+00, 1.44285018e+00],\n",
              "       [2.15487402e+00, 1.77413122e+00, 3.15306592e+00],\n",
              "       [1.94514205e+00, 3.01947481e+00, 3.12746193e+00],\n",
              "       [2.76614723e+00, 1.66943084e+00, 2.01445744e+00],\n",
              "       [2.43175812e+00, 3.51269230e+00, 2.28117723e+00],\n",
              "       [1.93628248e+00, 2.34750052e+00, 2.67163244e+00],\n",
              "       [1.41594585e+00, 2.99076989e+00, 3.16420313e+00],\n",
              "       [2.73035653e+00, 3.99114339e+00, 3.49711202e+00],\n",
              "       [2.16809223e+00, 3.42899834e+00, 3.11767992e+00],\n",
              "       [2.21417394e+00, 2.93692200e+00, 2.56755670e+00],\n",
              "       [1.47787118e+00, 2.66847511e+00, 1.41737089e+00],\n",
              "       [2.96274528e+00, 2.45555293e+00, 3.14824505e+00],\n",
              "       [2.35597840e+00, 3.09603324e+00, 2.28892846e+00],\n",
              "       [2.16262627e+00, 1.70476050e+00, 2.07242402e+00],\n",
              "       [3.84548505e+00, 1.97507628e+00, 2.62524920e+00],\n",
              "       [2.13395621e+00, 2.54844972e+00, 1.73597011e+00],\n",
              "       [1.42475840e+00, 1.39600840e+00, 2.27226462e+00],\n",
              "       [3.84181172e+00, 1.72691048e+00, 1.35685689e+00],\n",
              "       [3.40772672e+00, 2.07390381e+00, 2.69678326e+00],\n",
              "       [1.39691189e+00, 2.07968713e+00, 1.33954943e+00],\n",
              "       [2.45774210e+00, 2.48893746e+00, 3.73812030e+00],\n",
              "       [2.86349816e+00, 3.16799722e+00, 2.84351129e+00],\n",
              "       [2.81025182e+00, 2.17452091e+00, 1.38415786e+00],\n",
              "       [2.81920906e+00, 2.61709497e+00, 2.15898312e+00],\n",
              "       [3.57438835e+00, 1.88908197e+00, 3.96779599e+00],\n",
              "       [1.52431893e+00, 2.68288853e+00, 2.90355613e+00],\n",
              "       [2.62126625e+00, 3.88682305e+00, 3.51049450e+00],\n",
              "       [2.37786443e+00, 2.12755806e+00, 3.40508233e+00],\n",
              "       [2.40681930e+00, 3.37541778e+00, 2.65494809e+00],\n",
              "       [3.40060268e+00, 2.27650881e+00, 1.71546592e+00],\n",
              "       [1.70850249e+00, 3.08243398e+00, 1.41557225e+00],\n",
              "       [3.01103160e+00, 3.72520788e+00, 3.90794182e+00],\n",
              "       [2.60722874e+00, 2.43626712e+00, 3.27562729e+00],\n",
              "       [3.35577598e+00, 2.70058191e+00, 1.54030942e+00],\n",
              "       [3.13833003e+00, 1.81978053e+00, 2.61352047e+00],\n",
              "       [1.94622999e+00, 2.04457242e+00, 1.49427390e+00],\n",
              "       [2.03380696e+00, 3.08355084e+00, 2.45730974e+00],\n",
              "       [2.28561118e+00, 2.24467551e+00, 2.39562568e+00],\n",
              "       [1.87823519e+00, 2.75652040e+00, 3.78916488e+00],\n",
              "       [3.12109799e+00, 2.93336859e+00, 3.17308069e+00],\n",
              "       [2.36606476e+00, 3.62584390e+00, 1.54734071e+00],\n",
              "       [1.82784226e+00, 3.29455281e+00, 1.92372721e+00],\n",
              "       [1.85844429e+00, 3.03176508e+00, 2.48260283e+00],\n",
              "       [3.28887931e+00, 1.82464786e+00, 3.50619871e+00],\n",
              "       [1.75123060e+00, 2.64685683e+00, 3.80830759e+00],\n",
              "       [2.88151424e+00, 1.82832857e+00, 1.97717037e+00],\n",
              "       [2.18341058e+00, 2.56666012e+00, 3.55350909e+00],\n",
              "       [3.63601967e+00, 2.52157882e+00, 3.22438393e+00],\n",
              "       [2.54298864e+00, 1.44673777e+00, 1.80901815e+00],\n",
              "       [1.81319158e+00, 1.97683125e+00, 3.67340559e+00],\n",
              "       [1.64205320e+00, 3.38182775e+00, 3.08719569e+00],\n",
              "       [1.88318251e+00, 1.02380107e+00, 3.43186036e-01],\n",
              "       [1.29931478e+00, 1.97739118e+00, 2.51775255e+00],\n",
              "       [2.21250203e+00, 2.77245772e-01, 8.12939189e-01],\n",
              "       [1.54656415e+00, 1.74331953e-01, 1.26161762e+00],\n",
              "       [1.11614784e+00, 6.56657358e-01, 1.27273901e+00],\n",
              "       [2.20007306e-01, 9.36637520e-02, 1.06121426e+00],\n",
              "       [1.09317244e-01, 8.54001133e-01, 1.63324103e+00],\n",
              "       [2.39839487e+00, 2.02225055e+00, 5.24076340e-01],\n",
              "       [1.64381187e+00, 2.61605102e+00, 1.88795992e+00],\n",
              "       [5.80040793e-01, 4.48709542e-01, 1.73512952e+00],\n",
              "       [1.41049885e-01, 1.62742269e+00, 2.40718963e+00],\n",
              "       [1.19255768e+00, 2.54275629e+00, 1.43346501e+00],\n",
              "       [2.54117815e+00, 1.39783496e+00, 1.42650975e+00],\n",
              "       [1.84725017e-01, 3.96334848e-01, 2.10934297e+00],\n",
              "       [1.23974809e+00, 3.70064437e-01, 2.18128277e+00],\n",
              "       [7.96313592e-01, 4.78993971e-01, 1.07434496e+00],\n",
              "       [1.72029633e+00, 4.32912498e-01, 9.70882279e-01],\n",
              "       [2.41120894e+00, 9.98577037e-02, 1.11204130e+00],\n",
              "       [9.93615163e-01, 1.51384330e+00, 6.53006544e-01],\n",
              "       [1.64881595e+00, 1.21881854e+00, 1.03362755e+00],\n",
              "       [2.53313952e+00, 6.67095699e-01, 1.53855023e+00],\n",
              "       [7.04730518e-01, 9.01306901e-01, 1.33006197e+00],\n",
              "       [1.45042759e+00, 3.88349200e-01, 1.23375925e+00],\n",
              "       [2.99640141e-01, 2.21413195e+00, 1.91477152e+00],\n",
              "       [1.19940701e+00, 6.30609496e-01, 9.57983569e-01],\n",
              "       [1.27929645e+00, 3.34410405e-01, 1.02650072e-02],\n",
              "       [1.13214774e+00, 2.19707211e+00, 2.55412516e+00],\n",
              "       [2.04116670e+00, 1.32855556e+00, 1.85387062e+00],\n",
              "       [4.45537365e-01, 2.74472028e-01, 1.59585749e+00],\n",
              "       [1.71514068e-01, 2.19417726e+00, 1.56666110e+00],\n",
              "       [9.61388506e-01, 7.32089611e-01, 1.51357355e+00],\n",
              "       [1.43144196e+00, 1.47902588e+00, 3.08582929e-01],\n",
              "       [1.58359026e+00, 6.15754683e-01, 2.31769007e+00],\n",
              "       [1.03676844e+00, 1.45955546e+00, 2.08070370e+00],\n",
              "       [1.42284532e+00, 3.50745981e-01, 2.50349355e+00],\n",
              "       [1.76939141e-01, 1.53773046e+00, 6.62552668e-01],\n",
              "       [2.17875177e+00, 1.76850587e+00, 1.69349890e+00],\n",
              "       [4.83044227e-01, 2.37750212e+00, 1.97125077e-01],\n",
              "       [2.04344605e+00, 1.02762779e+00, 7.73280993e-01],\n",
              "       [2.20269417e+00, 1.19125324e+00, 2.12558797e+00],\n",
              "       [1.48111228e+00, 2.51327237e+00, 2.04648645e+00],\n",
              "       [1.86239817e+00, 2.58014543e+00, 1.25716913e+00],\n",
              "       [1.36637436e+00, 2.43376200e-03, 2.25952014e-01],\n",
              "       [2.08449312e+00, 1.92142676e+00, 7.68692977e-01],\n",
              "       [6.15668057e-01, 2.61434543e-01, 8.41071846e-01],\n",
              "       [1.02597325e+00, 1.33406900e+00, 1.94619979e+00],\n",
              "       [2.39391855e+00, 1.05216171e+00, 3.10949626e-01],\n",
              "       [3.41613088e-01, 1.09640012e+00, 3.55075289e-01],\n",
              "       [1.00863616e+00, 9.50484527e-01, 1.61326360e+00],\n",
              "       [2.02892684e+00, 2.20685746e+00, 1.87951479e-01],\n",
              "       [2.03691380e+00, 2.33482663e+00, 1.99117868e+00],\n",
              "       [7.51270024e-01, 5.04922304e-01, 1.31301871e+00],\n",
              "       [1.60233568e-01, 6.25633134e-01, 5.20137893e-01],\n",
              "       [1.65599104e+00, 2.55904059e+00, 2.61270908e+00],\n",
              "       [5.14897976e-01, 1.40241296e+00, 1.13750178e+00],\n",
              "       [4.93176995e-01, 2.26674947e-02, 2.26303706e+00],\n",
              "       [1.60653749e+00, 9.61343238e-01, 1.86315586e+00],\n",
              "       [1.00562115e+00, 2.54436446e+00, 2.06725610e+00],\n",
              "       [1.68801555e+00, 7.58564002e-01, 2.17379582e+00],\n",
              "       [2.35218664e+00, 1.18347984e+00, 1.79919630e+00],\n",
              "       [5.06775238e-01, 1.31941185e+00, 5.03197183e-01],\n",
              "       [1.78712788e+00, 1.66328108e+00, 2.13511162e+00],\n",
              "       [1.76023157e+00, 1.35144739e+00, 2.41967737e+00],\n",
              "       [1.29371617e+00, 4.38741962e-02, 6.68415284e-01],\n",
              "       [1.81763614e+00, 2.48688147e+00, 8.99417148e-01],\n",
              "       [9.27604461e-01, 2.06047201e+00, 2.09866843e+00],\n",
              "       [9.78459553e-01, 2.27142960e+00, 1.28217814e-01],\n",
              "       [2.42181361e+00, 9.66316875e-01, 1.27015069e+00],\n",
              "       [1.33661480e+00, 4.95742166e-01, 1.18357933e+00],\n",
              "       [1.83165893e+00, 9.11561021e-01, 7.94391390e-01],\n",
              "       [7.96873527e-01, 1.20565286e+00, 2.02021466e+00],\n",
              "       [3.01615230e-01, 1.22989523e+00, 6.15696774e-01],\n",
              "       [1.15661935e+00, 3.60308014e-01, 9.61723297e-01],\n",
              "       [1.96103035e+00, 2.58558195e+00, 7.66856713e-01],\n",
              "       [1.06243291e+00, 1.38938498e+00, 1.29825260e+00],\n",
              "       [1.20413585e+00, 1.22855325e+00, 1.37147278e+00],\n",
              "       [4.29059328e-01, 2.32009507e+00, 3.35068337e-01],\n",
              "       [2.38826494e+00, 1.16181728e+00, 2.02748588e+00],\n",
              "       [2.21415731e-01, 3.38153547e-01, 6.94442382e-01],\n",
              "       [2.44133462e-01, 8.93580316e-01, 3.30279302e-01],\n",
              "       [6.29279558e-01, 2.29600696e+00, 1.24449643e+00],\n",
              "       [2.39801867e+00, 7.13882859e-02, 1.08397779e+00],\n",
              "       [1.66422043e+00, 2.41770302e+00, 1.53910447e+00],\n",
              "       [1.84915543e+00, 4.38193512e-01, 2.52706569e+00],\n",
              "       [1.57182079e-01, 1.43301060e+00, 2.06982233e-01],\n",
              "       [5.12796299e-01, 1.12234194e+00, 2.51058480e+00],\n",
              "       [1.98700217e-01, 2.31738665e+00, 2.36790117e+00],\n",
              "       [7.75319195e-01, 3.69750324e-01, 1.23482749e+00],\n",
              "       [1.87846227e-01, 1.60171707e+00, 6.33214786e-01],\n",
              "       [1.68404648e+00, 1.82832958e+00, 1.89043704e+00],\n",
              "       [6.68649869e-01, 5.48776140e-01, 5.89523630e-01],\n",
              "       [1.53261111e+00, 2.10933464e+00, 4.36465007e-01],\n",
              "       [4.45657700e-01, 1.15233379e+00, 9.43895915e-01],\n",
              "       [4.03171536e-01, 1.45327063e+00, 3.52478909e-01],\n",
              "       [6.70009886e-01, 5.90337074e-01, 1.22423382e+00],\n",
              "       [7.45145559e-01, 8.84043946e-01, 2.11900488e+00],\n",
              "       [1.18420786e+00, 2.05695976e+00, 3.09764205e-01],\n",
              "       [1.66751717e+00, 1.29904502e+00, 1.94505158e+00],\n",
              "       [1.75841649e+00, 1.23764153e+00, 2.22441895e-01],\n",
              "       [4.31760023e-02, 2.28553430e+00, 1.35513880e+00]])"
            ]
          },
          "metadata": {},
          "execution_count": 14
        }
      ]
    },
    {
      "cell_type": "code",
      "metadata": {
        "colab": {
          "base_uri": "https://localhost:8080/"
        },
        "id": "8_jan1ZQum17",
        "outputId": "3383bea1-7e3a-49b5-9b88-faf9796f33fa"
      },
      "source": [
        "centroids=kmeans(data,3)\n",
        "centroids"
      ],
      "execution_count": null,
      "outputs": [
        {
          "output_type": "execute_result",
          "data": {
            "text/plain": [
              "(array([[1.97483714, 1.86802759, 1.75334441],\n",
              "        [2.71117121, 2.79480306, 2.93787297],\n",
              "        [0.91518988, 0.96111095, 1.07217658]]), 1.0379543118466545)"
            ]
          },
          "metadata": {},
          "execution_count": 15
        }
      ]
    },
    {
      "cell_type": "code",
      "metadata": {
        "id": "6Gs6JZTZup1P"
      },
      "source": [
        "clx=vq(data,centroids)\n",
        "clx"
      ],
      "execution_count": null,
      "outputs": []
    },
    {
      "cell_type": "code",
      "metadata": {
        "colab": {
          "base_uri": "https://localhost:8080/"
        },
        "id": "-EDfX-zburd9",
        "outputId": "9d00a4f7-39ec-445b-9c18-5df8d5fc2083"
      },
      "source": [
        "#fast fourier transforms\n",
        "from scipy.fftpack import fft\n",
        "x=np.array([1.0,2.0,1.0,-1.0])\n",
        "y=fft(x)\n",
        "print(\"fft:\\n\",y)"
      ],
      "execution_count": null,
      "outputs": [
        {
          "output_type": "stream",
          "name": "stdout",
          "text": [
            "fft:\n",
            " [3.-0.j 0.-3.j 1.-0.j 0.+3.j]\n"
          ]
        }
      ]
    },
    {
      "cell_type": "code",
      "metadata": {
        "colab": {
          "base_uri": "https://localhost:8080/"
        },
        "id": "C9cKb0sZuuRf",
        "outputId": "62d714e5-be6e-46d5-cb72-17b6a13d96e7"
      },
      "source": [
        "#discrete cosine transform\n",
        "from scipy.fftpack import dct\n",
        "print(\"dct:\\n\",dct(np.array([4.,3.,5.,10.,5.,3.])))"
      ],
      "execution_count": null,
      "outputs": [
        {
          "output_type": "stream",
          "name": "stdout",
          "text": [
            "dct:\n",
            " [ 60.          -3.48476592 -13.85640646  11.3137085    6.\n",
            "  -6.31319305]\n"
          ]
        }
      ]
    },
    {
      "cell_type": "code",
      "metadata": {
        "colab": {
          "base_uri": "https://localhost:8080/"
        },
        "id": "XAdGU8YXuw52",
        "outputId": "634d6768-945f-442d-8c32-2273d23d75de"
      },
      "source": [
        "#inverse discrete cosine transforms\n",
        "from scipy.fftpack import idct\n",
        "print(\"idct:\\n\",idct(np.array([4.,3.,5.,10.,5.,3.])))"
      ],
      "execution_count": null,
      "outputs": [
        {
          "output_type": "stream",
          "name": "stdout",
          "text": [
            "idct:\n",
            " [ 39.15085889 -20.14213562  -6.45392043   7.13341236   8.14213562\n",
            "  -3.83035081]\n"
          ]
        }
      ]
    },
    {
      "cell_type": "code",
      "metadata": {
        "colab": {
          "base_uri": "https://localhost:8080/"
        },
        "id": "oGCJQEWeuzub",
        "outputId": "e58e1477-3076-4921-82c0-13169dfa4f71"
      },
      "source": [
        "#scipy integration\n",
        "import scipy.integrate\n",
        "from numpy import exp\n",
        "f=lambda x:exp(-x**2)\n",
        "i=scipy.integrate.quad(f,0,1)\n",
        "print(i)"
      ],
      "execution_count": null,
      "outputs": [
        {
          "output_type": "stream",
          "name": "stdout",
          "text": [
            "(0.7468241328124271, 8.291413475940725e-15)\n"
          ]
        }
      ]
    },
    {
      "cell_type": "code",
      "metadata": {
        "id": "ZgNLh_eKu2IU"
      },
      "source": [
        "#linear algebra\n",
        "x+3y+5z=10\n",
        "2x+5y+z=8\n",
        "2x+3y+8z=3"
      ],
      "execution_count": null,
      "outputs": []
    },
    {
      "cell_type": "code",
      "metadata": {
        "id": "kXYbeBNMu3sL"
      },
      "source": [
        "from scipy import linalg\n",
        " \n",
        "import numpy as np\n",
        "a=np.array([1,3,5],[2,5,1],[2,3,8])\n",
        "b=np.array([10,8,3])\n",
        "x=linalg.solve(a,b)\n",
        "print(x)"
      ],
      "execution_count": null,
      "outputs": []
    },
    {
      "cell_type": "code",
      "metadata": {
        "id": "PRa0qKZwu_Dp"
      },
      "source": [
        "#finding a determinant\n",
        "from scipy import linalg\n",
        " \n",
        "import numpy as np\n",
        "A=np.array([[1,2],[3,4]])\n",
        "x=linalg.det(a)\n",
        "print(x)"
      ],
      "execution_count": null,
      "outputs": []
    },
    {
      "cell_type": "code",
      "metadata": {
        "id": "Q_iHlqoTu9Ec"
      },
      "source": [
        "#eigen values and eigen vectors\n",
        "from scipy import linalg\n",
        " \n",
        "import numpy as np\n",
        "A=np.array([[1,2],[3,4]])\n",
        "l,v=linalg.eig(A)\n",
        "print(\"eigen values:\\n\",l)\n",
        "print(\"eigen vectors:\\n\",v)"
      ],
      "execution_count": null,
      "outputs": []
    },
    {
      "cell_type": "markdown",
      "metadata": {
        "id": "DvnSliZ1vCxX"
      },
      "source": [
        "#MATPLOTLIB"
      ]
    },
    {
      "cell_type": "code",
      "metadata": {
        "colab": {
          "base_uri": "https://localhost:8080/",
          "height": 265
        },
        "id": "_1W_YxfkvGBE",
        "outputId": "3d1489d9-5023-4133-c3cf-8c71b7c9bc6e"
      },
      "source": [
        "#import library\n",
        "\n",
        "import matplotlib.pyplot as plt\n",
        "import numpy as np\n",
        "\n",
        "x=np.arange(5)\n",
        "y=(35,45,28,37,60)\n",
        "\n",
        "plt.bar(x,y)\n",
        "plt.show()"
      ],
      "execution_count": null,
      "outputs": [
        {
          "output_type": "display_data",
          "data": {
            "image/png": "[encoded data removed]",
            "text/plain": [
              "<Figure size 432x288 with 1 Axes>"
            ]
          },
          "metadata": {
            "needs_background": "light"
          }
        }
      ]
    },
    {
      "cell_type": "code",
      "metadata": {
        "colab": {
          "base_uri": "https://localhost:8080/",
          "height": 265
        },
        "id": "A1eizGGzvKxu",
        "outputId": "0b6a6aac-b2b2-4392-a70b-c690f68421c7"
      },
      "source": [
        "plt.scatter(x,y)\n",
        "plt.show()"
      ],
      "execution_count": null,
      "outputs": [
        {
          "output_type": "display_data",
          "data": {
            "image/png": "[encoded data removed]",
            "text/plain": [
              "<Figure size 432x288 with 1 Axes>"
            ]
          },
          "metadata": {
            "needs_background": "light"
          }
        }
      ]
    },
    {
      "cell_type": "code",
      "metadata": {
        "colab": {
          "base_uri": "https://localhost:8080/",
          "height": 203
        },
        "id": "c-_ftDhNvM0r",
        "outputId": "e6c8d860-923f-48ef-eb92-12d8bc123e64"
      },
      "source": [
        "import pandas as pd\n",
        "from sklearn.datasets import load_iris\n",
        "\n",
        "iris=load_iris()\n",
        "df=pd.DataFrame(iris.data)\n",
        "df.columns=['sepal_length','sepal_width','petal_length','petal_width']\n",
        "df.head()"
      ],
      "execution_count": null,
      "outputs": [
        {
          "output_type": "execute_result",
          "data": {
            "text/html": [
              "<div>\n",
              "<style scoped>\n",
              "    .dataframe tbody tr th:only-of-type {\n",
              "        vertical-align: middle;\n",
              "    }\n",
              "\n",
              "    .dataframe tbody tr th {\n",
              "        vertical-align: top;\n",
              "    }\n",
              "\n",
              "    .dataframe thead th {\n",
              "        text-align: right;\n",
              "    }\n",
              "</style>\n",
              "<table border=\"1\" class=\"dataframe\">\n",
              "  <thead>\n",
              "    <tr style=\"text-align: right;\">\n",
              "      <th></th>\n",
              "      <th>sepal_length</th>\n",
              "      <th>sepal_width</th>\n",
              "      <th>petal_length</th>\n",
              "      <th>petal_width</th>\n",
              "    </tr>\n",
              "  </thead>\n",
              "  <tbody>\n",
              "    <tr>\n",
              "      <th>0</th>\n",
              "      <td>5.1</td>\n",
              "      <td>3.5</td>\n",
              "      <td>1.4</td>\n",
              "      <td>0.2</td>\n",
              "    </tr>\n",
              "    <tr>\n",
              "      <th>1</th>\n",
              "      <td>4.9</td>\n",
              "      <td>3.0</td>\n",
              "      <td>1.4</td>\n",
              "      <td>0.2</td>\n",
              "    </tr>\n",
              "    <tr>\n",
              "      <th>2</th>\n",
              "      <td>4.7</td>\n",
              "      <td>3.2</td>\n",
              "      <td>1.3</td>\n",
              "      <td>0.2</td>\n",
              "    </tr>\n",
              "    <tr>\n",
              "      <th>3</th>\n",
              "      <td>4.6</td>\n",
              "      <td>3.1</td>\n",
              "      <td>1.5</td>\n",
              "      <td>0.2</td>\n",
              "    </tr>\n",
              "    <tr>\n",
              "      <th>4</th>\n",
              "      <td>5.0</td>\n",
              "      <td>3.6</td>\n",
              "      <td>1.4</td>\n",
              "      <td>0.2</td>\n",
              "    </tr>\n",
              "  </tbody>\n",
              "</table>\n",
              "</div>"
            ],
            "text/plain": [
              "   sepal_length  sepal_width  petal_length  petal_width\n",
              "0           5.1          3.5           1.4          0.2\n",
              "1           4.9          3.0           1.4          0.2\n",
              "2           4.7          3.2           1.3          0.2\n",
              "3           4.6          3.1           1.5          0.2\n",
              "4           5.0          3.6           1.4          0.2"
            ]
          },
          "metadata": {},
          "execution_count": 23
        }
      ]
    },
    {
      "cell_type": "code",
      "metadata": {
        "colab": {
          "base_uri": "https://localhost:8080/",
          "height": 281
        },
        "id": "7DtOceHMvPeX",
        "outputId": "9d3c8cbc-7aa6-45f5-a1c6-6f772b83ca02"
      },
      "source": [
        "df.hist()\n",
        "plt.show()"
      ],
      "execution_count": null,
      "outputs": [
        {
          "output_type": "display_data",
          "data": {
            "image/png": "[encoded data removed]",
            "text/plain": [
              "<Figure size 432x288 with 4 Axes>"
            ]
          },
          "metadata": {
            "needs_background": "light"
          }
        }
      ]
    },
    {
      "cell_type": "code",
      "metadata": {
        "colab": {
          "base_uri": "https://localhost:8080/",
          "height": 265
        },
        "id": "ASDqWLzhvT-U",
        "outputId": "b1b93c74-26e0-464f-f5b5-5b4db3990466"
      },
      "source": [
        "df.plot()\n",
        "plt.show()"
      ],
      "execution_count": null,
      "outputs": [
        {
          "output_type": "display_data",
          "data": {
            "image/png": "[encoded data removed]",
            "text/plain": [
              "<Figure size 432x288 with 1 Axes>"
            ]
          },
          "metadata": {
            "needs_background": "light"
          }
        }
      ]
    },
    {
      "cell_type": "code",
      "metadata": {
        "colab": {
          "base_uri": "https://localhost:8080/",
          "height": 266
        },
        "id": "cl1ZuiPCvXSK",
        "outputId": "13a8c6e4-733a-4176-b62a-24887a60ec8f"
      },
      "source": [
        "df.boxplot()\n",
        "plt.show()"
      ],
      "execution_count": null,
      "outputs": [
        {
          "output_type": "display_data",
          "data": {
            "image/png": "[encoded data removed]",
            "text/plain": [
              "<Figure size 432x288 with 1 Axes>"
            ]
          },
          "metadata": {
            "needs_background": "light"
          }
        }
      ]
    },
    {
      "cell_type": "code",
      "metadata": {
        "colab": {
          "base_uri": "https://localhost:8080/",
          "height": 306
        },
        "id": "vR0yfKYAvaRz",
        "outputId": "ae7cb77c-019c-4389-b5cd-3711cd11d1a3"
      },
      "source": [
        "#Custom labels\n",
        "x=np.linspace(0,20,1000)\n",
        "y=np.sin(x)\n",
        "\n",
        "plt.plot(x,y,label='sample Label')\n",
        "plt.title('sample plot Title')\n",
        "plt.xlabel('x axis label')\n",
        "plt.ylabel('y axis label')\n",
        "plt.grid(True)\n",
        "\n",
        "plt.figtext(0.5, 0.01, 'Fig1: sinusoidal', ha='right', va='bottom')\n",
        "\n",
        "plt.legend(loc='best',framealpha=0.5,prop={'size':'small'})\n",
        "\n",
        "plt.tight_layout(pad=1)\n",
        "\n",
        "plt.show()"
      ],
      "execution_count": null,
      "outputs": [
        {
          "output_type": "display_data",
          "data": {
            "image/png": "[encoded data removed]",
            "text/plain": [
              "<Figure size 432x288 with 1 Axes>"
            ]
          },
          "metadata": {
            "needs_background": "light"
          }
        }
      ]
    }
  ]
}