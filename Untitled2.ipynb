{
  "nbformat": 4,
  "nbformat_minor": 0,
  "metadata": {
    "colab": {
      "name": "Untitled2.ipynb",
      "provenance": [],
      "collapsed_sections": [],
      "authorship_tag": "ABX9TyPl0OTW/RgZwOWFkqocyt5t",
      "include_colab_link": true
    },
    "kernelspec": {
      "name": "python3",
      "display_name": "Python 3"
    },
    "language_info": {
      "name": "python"
    }
  },
  "cells": [
    {
      "cell_type": "markdown",
      "metadata": {
        "id": "view-in-github",
        "colab_type": "text"
      },
      "source": [
        "<a href=\"https://colab.research.google.com/github/ajaynaresh/ppl2/blob/main/Untitled2.ipynb\" target=\"_parent\"><img src=\"https://colab.research.google.com/assets/colab-badge.svg\" alt=\"Open In Colab\"/></a>"
      ]
    },
    {
      "cell_type": "markdown",
      "metadata": {
        "id": "u32o0PTFToAe"
      },
      "source": [
        "Name:y.A.V.R Naresh\n",
        "class:CSE-A\n",
        "Roll no: 1921A0564\n",
        "LAB-python lab\n",
        "\n",
        "\n",
        "\n"
      ]
    },
    {
      "cell_type": "markdown",
      "metadata": {
        "id": "sRJCXCtpdyVe"
      },
      "source": [
        "#Exercise-1 - Basies\n",
        "## **a)running instruction in interactive interperter and a python script**"
      ]
    },
    {
      "cell_type": "code",
      "metadata": {
        "id": "XKXSjxP6d8_f"
      },
      "source": [
        "## a) Running instructions in Interactive interpreter and a Python Script \n",
        "print(\"Hello, Ajay\")\n",
        "hello Ajay"
      ],
      "execution_count": null,
      "outputs": []
    },
    {
      "cell_type": "markdown",
      "metadata": {
        "id": "VBZS3tsecs7l"
      },
      "source": [
        "# **b) Write a program to purposefully raise Indentation Error and Corret it**"
      ]
    },
    {
      "cell_type": "code",
      "metadata": {
        "id": "yhQsNUTHcueN"
      },
      "source": [
        "if True :\n",
        "  print (\"true\")\n",
        "  else:\n",
        "    print(\"false\")"
      ],
      "execution_count": null,
      "outputs": []
    },
    {
      "cell_type": "code",
      "metadata": {
        "id": "JGGJren3WeSE"
      },
      "source": [
        "if True :\n",
        "  print (\"true\")\n",
        "    print (\"true 2\")\n",
        "    else:\n",
        "      print(\"false\")"
      ],
      "execution_count": null,
      "outputs": []
    },
    {
      "cell_type": "markdown",
      "metadata": {
        "id": "YG-iLUAHemrS"
      },
      "source": [
        "#Exercise 2-Operations\n",
        "\n",
        "# **a)Write a program to compute distance between two points taking input from the user** "
      ]
    },
    {
      "cell_type": "code",
      "metadata": {
        "id": "kG3mImp_eyB8"
      },
      "source": [
        "import math\n",
        "x1=int(input(\"enter x1 value : \"))\n",
        "x2=int(input(\"enter x2 value : \"))\n",
        "\n",
        "y1=int(input(\"enter y1 value : \"))\n",
        "y2=int(input(\"enter y2 value : \"))\n",
        "d=math.sqrt((x2-x1)**2+(y2-y1)**2)\n",
        "print(\"Distance between given two points(x1,x2)(y1,y2) :\",d)\n"
      ],
      "execution_count": null,
      "outputs": []
    },
    {
      "cell_type": "markdown",
      "metadata": {
        "id": "8k8pu5ZgYJkv"
      },
      "source": [
        "output:\n",
        "enter value of x1:4\n",
        "enter value of x2:6\n",
        "enter value of y1:2\n",
        "enter value of y2:6\n",
        "Distance between (4,2) and (6,6) points is 18.0:"
      ]
    },
    {
      "cell_type": "markdown",
      "metadata": {
        "id": "QKvqFR2se62N"
      },
      "source": [
        "# **b) Write a program add.py that takes 2 numbers as command line arguments and prints its sum.**"
      ]
    },
    {
      "cell_type": "code",
      "metadata": {
        "id": "9YhhZOPQe8HA"
      },
      "source": [
        "import sys\n",
        "\n",
        "a=int(sys.argv[1])\n",
        "b=int(sys.argv[2])\n",
        " \n",
        "print(\"Sum = \",(a+b))"
      ],
      "execution_count": null,
      "outputs": []
    },
    {
      "cell_type": "markdown",
      "metadata": {
        "id": "TMuH9ilqZA4G"
      },
      "source": [
        "-f7\n",
        "/root/.local/share/jupyter/runtime/kernel-5b41c24d-89e6-4e90-8576-fc792b4a5817.json5\n",
        "sum of two values: 14"
      ]
    },
    {
      "cell_type": "markdown",
      "metadata": {
        "id": "YNIXQAWVfAod"
      },
      "source": [
        "# Exercise-3 Control Flow\n",
        "# **a) Write a Program for checking whether the given number is an even number or not.**"
      ]
    },
    {
      "cell_type": "code",
      "metadata": {
        "id": "iFINRtbVfEPG"
      },
      "source": [
        "n=int(input(\"enter a number to check even/odd : \"))\n",
        "\n",
        "if (n%2==0):\n",
        "    print(\"Given numver \",n,\" is Even\")\n",
        "else:\n",
        "enter a number:67\n",
        "given number is NOT EVEN NUMBER,it is ODD number    print(\"Given numver \",n,\" is Odd\")"
      ],
      "execution_count": null,
      "outputs": []
    },
    {
      "cell_type": "markdown",
      "metadata": {
        "id": "NCHsX_NBZ-i1"
      },
      "source": [
        "output:\n",
        "enter a number:67\n",
        "given number is NOT EVEN NUMBER,it is ODD number"
      ]
    },
    {
      "cell_type": "markdown",
      "metadata": {
        "id": "d_oVnbQtfJzx"
      },
      "source": [
        "#**b)Using a for loop, write a program that prints out the decimal equivalents of 1/2, 1/3, 1/4,. .1/10 **"
      ]
    },
    {
      "cell_type": "code",
      "metadata": {
        "id": "1sd9l6V4fKsf"
      },
      "source": [
        "n=int(input(\"enter limit for decimal equivalents of (1/2, 1/3, 1/4,. .1/10) : \"))\n",
        "\n",
        "for i in range(2,n):\n",
        "    print(\"1/\",i,\" = \",(1/i))"
      ],
      "execution_count": null,
      "outputs": []
    },
    {
      "cell_type": "markdown",
      "metadata": {
        "id": "yTsTrs1abODu"
      },
      "source": [
        "output:\n",
        "enter a number:12\n",
        "1/2= 0.5\n",
        "1/3= 0.3333333333333333\n",
        "1/4= 0.25\n",
        "1/5= 0.2\n",
        "1/6= 0.16666666666666666\n",
        "1/7= 0.14285714285714285\n",
        "1/8= 0.125\n",
        "1/9= 0.1111111111111111\n",
        "1/10= 0.1\n",
        "1/11= 0.09090909090909091"
      ]
    },
    {
      "cell_type": "markdown",
      "metadata": {
        "id": "IiwW1Vv1fOJd"
      },
      "source": [
        "# ***c)Write a program using a for loop that loops over a sequence. What is sequence? ***"
      ]
    },
    {
      "cell_type": "code",
      "metadata": {
        "id": "lTjnDz6dfRO1"
      },
      "source": [
        "sem4_subjects=[\"python\",\"DAA\",\"OS\",\"DBMS\",\"P&S\",\"SE\"]\n",
        "\n",
        "print(\"-------Sem four Subjects--------\")\n",
        "for i in sem4_subjects:\n",
        "    print(i)"
      ],
      "execution_count": null,
      "outputs": []
    },
    {
      "cell_type": "markdown",
      "metadata": {
        "id": "MzSxlDN0b_Vo"
      },
      "source": [
        "output:\n",
        "-----------sem four subjects----------\n",
        "python \n",
        "DAA\n",
        "OS\n",
        "DBMS\n",
        "P&S\n",
        "SE"
      ]
    },
    {
      "cell_type": "markdown",
      "metadata": {
        "id": "wGNYpdF1fYW6"
      },
      "source": [
        "# **d)Write a program using a while loop that asks the user for a number, and prints a countdown from that number to zero.**"
      ]
    },
    {
      "cell_type": "code",
      "metadata": {
        "id": "higDCk-4fZZ8"
      },
      "source": [
        "n=int(input(\"enter starting point of Countdown: \"))\n",
        "\n",
        "print(\"Countdown Starts:-\")\n",
        "while n>=0:\n",
        "    print(n)\n",
        "    n-=1"
      ],
      "execution_count": null,
      "outputs": []
    },
    {
      "cell_type": "markdown",
      "metadata": {
        "id": "e7AvaC4ZdFb1"
      },
      "source": [
        "10\n",
        "9\n",
        "8\n",
        "7\n",
        "6\n",
        "5\n",
        "4\n",
        "3\n",
        "2\n",
        "1\n"
      ]
    },
    {
      "cell_type": "markdown",
      "metadata": {
        "id": "oAb68DlqfdUA"
      },
      "source": [
        "#Exercise-4-Control Flow - Continued\n",
        "                   \n",
        "#**a)Find the sum of all the primes below two million.** "
      ]
    },
    {
      "cell_type": "code",
      "metadata": {
        "id": "RvkUl8aefgfP"
      },
      "source": [
        "n=int(input(\"enter Limit for sum of primes : \"))\n",
        "psum=0\n",
        "for i in range(2,n+1):\n",
        "    c=0\n",
        "    for j in range(2,i+1):\n",
        "        if i%j==0:\n",
        "            c+=1\n",
        "    if(c==1):\n",
        "        print(i,end=' ')    \n",
        "        psum+=i\n",
        "\n",
        "print(\"\") \n",
        "print(\"Sum of sum number : \",psum)"
      ],
      "execution_count": null,
      "outputs": []
    },
    {
      "cell_type": "markdown",
      "metadata": {
        "id": "iEj8WtGree4m"
      },
      "source": [
        "output:\n",
        "enter the ending number:12\n",
        "2 3 5 7 11 \n",
        "Sum of prime numbers is:  28"
      ]
    },
    {
      "cell_type": "markdown",
      "metadata": {
        "id": "sFE3A0KdftpA"
      },
      "source": [
        "# **b)each new term in the fibonacci sequence is generated by adding the previous two terms by starting with 1 and 2 the first 10 terms willl be:1,2,3,5,8...89**"
      ]
    },
    {
      "cell_type": "code",
      "metadata": {
        "id": "DxgBCVaUfvxL"
      },
      "source": [
        "n=int(input(\"enter Limit for Fibonacci sequence : \"))\n",
        "\n",
        "a=0\n",
        "b=1\n",
        "c=a+b\n",
        "while c<n:\n",
        "    print(c,end=' ')\n",
        "    a=b\n",
        "    b=c\n",
        "    c=a+b"
      ],
      "execution_count": null,
      "outputs": []
    },
    {
      "cell_type": "markdown",
      "metadata": {
        "id": "nNtSVFVaeVA4"
      },
      "source": [
        "output:\n",
        "Enter value of n :1000\n",
        "1,2,3,5,8,13,21,34,55,89,144,233,377,610,987"
      ]
    },
    {
      "cell_type": "markdown",
      "metadata": {
        "id": "Or8uT0BOgLDL"
      },
      "source": [
        "# **c)By considering the terms in the Fibonacci sequence whose values do not exceed four million, find the sum of the even-valued terms.**"
      ]
    },
    {
      "cell_type": "code",
      "metadata": {
        "id": "5fbmXcTVgML8"
      },
      "source": [
        "n=int(input(\"enter Limit for Fibonacci sequence : \"))\n",
        "\n",
        "a=0\n",
        "b=1\n",
        "c=a+b\n",
        "fsum=0\n",
        "while c<n:\n",
        "    a=b\n",
        "    b=c\n",
        "    c=a+b\n",
        "    if c%2==0:\n",
        "        print(c,end=' ')\n",
        "        fsum+=c\n",
        "print(\"\")        \n",
        "print(\"sum of even valued termed fibonacci numbers = \",fsum)"
      ],
      "execution_count": null,
      "outputs": []
    },
    {
      "cell_type": "markdown",
      "metadata": {
        "id": "rVMETU8mfEe4"
      },
      "source": [
        "enter Limit for Fibonacci sequence:12\n",
        "2 8 \n",
        "sum of even valued terms in fibonacci sequence is= 10"
      ]
    },
    {
      "cell_type": "markdown",
      "metadata": {
        "id": "cZlHa_yegPZq"
      },
      "source": [
        "#Exercise 5- DATA STRUCTURE\n",
        "# ***1)Write a program to count the numbers of characters in the string and store them in a dictionary data structure ***"
      ]
    },
    {
      "cell_type": "code",
      "metadata": {
        "id": "qOn0cIzFgSKa"
      },
      "source": [
        "text=input(\"enter you name : \")\n",
        "dic={}\n",
        "for ch in text:\n",
        "  keys=dic.keys()\n",
        "\n",
        "  if ch in keys:\n",
        "    dic[ch]=dic[ch]+1\n",
        "  else:\n",
        "    dic[ch]=1\n",
        "print(\"Dictionary is : \",dic)"
      ],
      "execution_count": null,
      "outputs": []
    },
    {
      "cell_type": "markdown",
      "metadata": {
        "id": "0gBMKSCxfivs"
      },
      "source": [
        "enter the name:AJAY\n",
        "enter the name:SURESH\n",
        "enter the name:YONIX\n",
        "enter the name:KK\n",
        "enter the name:KKT\n",
        "list is: ['AJAY', 'SURESH', 'YONIX', 'KK', 'KKT']\n",
        "dictionary is: {'AJAY': 4, 'SURESH': 6, 'YONIX': 5, 'KK': 4, 'KKT': "
      ]
    },
    {
      "cell_type": "markdown",
      "metadata": {
        "id": "-xjAo9bFgU1K"
      },
      "source": [
        "#**2)Write a program to use split and join methods in the string and trace a birthday with adictionary data structure. **\n"
      ]
    },
    {
      "cell_type": "code",
      "metadata": {
        "id": "ORAR-r1KgXqh"
      },
      "source": [
        "text={\"pavan\":\"02-june-2000\",\"ganesh\":\"23-may-2001\"}\n",
        "\n",
        "name=input(\"which person Dob you want : \")\n",
        "l=name.split()\n",
        " \n",
        "for i in l:\n",
        "  if i in text.keys():\n",
        "    print(\" \".join([i,\"birthday is \",text[i]]))"
      ],
      "execution_count": null,
      "outputs": []
    },
    {
      "cell_type": "markdown",
      "metadata": {
        "id": "pHMHOL0jgxRq"
      },
      "source": [
        "which person Dob you want :pavan\n",
        "pavan birthday is  07-Nov-2015"
      ]
    },
    {
      "cell_type": "markdown",
      "metadata": {
        "id": "7XYyRKl3gakq"
      },
      "source": [
        "#Exercise-6 DS - Continued\n",
        "# ***a)Write a program combine lists that combines these lists into a dictionary.***"
      ]
    },
    {
      "cell_type": "code",
      "metadata": {
        "id": "fWx8bGQDgc6F"
      },
      "source": [
        "Regno=[\"534\",\"558\",\"546\",\"564\",\"565\",\"530\"]\n",
        "Student_names=[\"pavaneswar\",\"haneef\",\"ganesh\",\"ajay\",\"karthik\",\"somu\"]\n",
        "\n",
        "print(\"Given List are :\")\n",
        "print(\"Student Names: \",Student_names)\n",
        "print(\"Register no Values: \",Regno)\n",
        "\n",
        "dic=dict(zip(Regno,Student_names))\n",
        "print(\"\\n Dictionary: \",dic)"
      ],
      "execution_count": null,
      "outputs": []
    },
    {
      "cell_type": "markdown",
      "metadata": {
        "id": "mO1-GZ-rhs9l"
      },
      "source": [
        "output:\n",
        "\n",
        "given list are:\n",
        "subject names:['pavaneswar',haneef','ganesh','ajay','karthik','somu']\n",
        "\n",
        "regno:['534','558','546','564','565','530']\n",
        "\n",
        "Dictionary:{'pavaneswar': 534, 'haneef': 558, 'ganesh': 546, 'ajay': 564, 'karthik': 565, 'somu': 530}"
      ]
    },
    {
      "cell_type": "markdown",
      "metadata": {
        "id": "tcoNUdFMgiu8"
      },
      "source": [
        "#**b)Write a program to count frequency of characters in a given file. Can you use character frequency to tell whether the given file is a Python program file, C program file or a text file?**\n"
      ]
    },
    {
      "cell_type": "code",
      "metadata": {
        "id": "MKkt-fdSgjrk"
      },
      "source": [
        "filetype=['.py','.c','.txt']\n",
        "fn=input(\"enter the file name : \")\n",
        "f=open(fn,'r')\n",
        "count=dict()\n",
        "\n",
        "print(\"Given file is \",end=\"\")\n",
        "for ft in filetype:\n",
        "  if (ft in fn):\n",
        "    if(ft=='.py'):\n",
        "      print(\"python file\")\n",
        "    elif(ft=='.c'):\n",
        "      print(\"c file\")\n",
        "    elif(ft=='.txt'):\n",
        "      print(\"Text file\")    \n",
        "for line in f:\n",
        "  for ch in line:\n",
        "    if ch in count:\n",
        "      count[ch]=count[ch]+1\n",
        "    else:\n",
        "      count[ch]=1\n",
        "\n",
        "print(count)\n",
        "f.close()"
      ],
      "execution_count": null,
      "outputs": []
    },
    {
      "cell_type": "markdown",
      "metadata": {
        "id": "SmjdpHFgkXYf"
      },
      "source": [
        "output:\n",
        "enter the file name :mydata.txt\n",
        "given file is text file\n",
        "{'A':2,'j':1,'y':1}\n",
        "enter the file name:add.py\n",
        "Given file is python file\n",
        "{'i':2,'y':8,'o':4}\n"
      ]
    },
    {
      "cell_type": "markdown",
      "metadata": {
        "id": "Lma6ZoyHgrSY"
      },
      "source": [
        "#Exercise 7 Files\n",
        "                             \n",
        "#**a)Write a program to print each line of a file in reverse order.**"
      ]
    },
    {
      "cell_type": "code",
      "metadata": {
        "id": "GP42jh67gsMf"
      },
      "source": [
        "file=open(\"code.txt\",\"r\")\n",
        "if file:\n",
        "  st=file.read()\n",
        "  print(\"File content is: \\n\",st)\n",
        "file.close()\n",
        "\n",
        "print()\n",
        "lines=st.split(\"\\n\")\n",
        "\n",
        "for ln in lines:\n",
        "  i=len(ln)-1\n",
        "  while(i>=0):\n",
        "    print(ln[i],end=\"\")\n",
        "    i=i-1\n",
        "  print()"
      ],
      "execution_count": null,
      "outputs": []
    },
    {
      "cell_type": "markdown",
      "metadata": {
        "id": "a0KUSEW2k5OI"
      },
      "source": [
        "output:\n",
        "File content is \n",
        "my name is ajay\n",
        "yaja si eman ym"
      ]
    },
    {
      "cell_type": "markdown",
      "metadata": {
        "id": "pyv_lGYugvSi"
      },
      "source": [
        "#**2)Write a program to compute the number of characters, words and lines in a file.**"
      ]
    },
    {
      "cell_type": "code",
      "metadata": {
        "id": "H_CYl8EEgyel"
      },
      "source": [
        "no_char=no_words=no_lines=0\n",
        "file=open(\"abc.txt\",\"r\")\n",
        "\n",
        "print(\"File Content : \\n\")\n",
        "for line in file:\n",
        "  ln=line.split(\"\\n\")\n",
        "  print(ln)\n",
        "  words=ln.split()\n",
        "  no_lines+=1\n",
        "  no_words+=len(words)\n",
        "  no_char+=len(line)\n",
        "\n",
        "file.close()\n",
        "print(\"\\n No of Lines : \",no_lines,\" Words:\",no_words,\" Characters:\",no_char)"
      ],
      "execution_count": null,
      "outputs": []
    },
    {
      "cell_type": "markdown",
      "metadata": {
        "id": "RXEa2ep8mcC8"
      },
      "source": [
        "output:\n",
        "file content:\n",
        "hii\n",
        "hello\n",
        "good morning\n",
        "bye\n",
        "NO.of lines: 4 words; 4charactors:22 "
      ]
    },
    {
      "cell_type": "markdown",
      "metadata": {
        "id": "wyccEMihg1MN"
      },
      "source": [
        "#Exercise-8 Functions\n",
        "\n",
        "#**a)Write a function ball collide that takes two balls as parameters and computes if they arecolliding. Your function should return a Boolean representing whether or not the balls are colliding. Hint: Represent a ball on a plane as a tuple of (x, y, r), r being the radius If (distance between two balls centres)= (sum of their radii) then (they are colliding)**\n",
        "\n"
      ]
    },
    {
      "cell_type": "code",
      "metadata": {
        "id": "Fu55mqtzg4b5"
      },
      "source": [
        "nimport math\n",
        "\n",
        "def collide(ball1,ball2):\n",
        "   x1,y1,r1=ball1\n",
        "   x2,y2,r2=ball2\n",
        "\n",
        "   print(\"Ball-1: \",ball1)\n",
        "   print(\"Ball-2: \",ball2)\n",
        "\n",
        "   d=math.sqrt((x2-x1)**2+(y2-y1)**2)\n",
        "   print(\"Centroid Distance of two balls: \",d)\n",
        "   print(\"sum of radius ball-1 and ball-2 is {}+{}={}\".format(r1,r2,r1+r2))\n",
        "\n",
        "   if(d<=r1+r2):\n",
        "     return True\n",
        "   else:\n",
        "     return False\n",
        "\n",
        "b1=(-2,-4,3)\n",
        "b2=(4,6,3)\n",
        "if collide(b1,b2):\n",
        "  print(\"BAll are Colliode...!\")\n",
        "else:\n",
        "  print(\"BAll are not Collide...!\")"
      ],
      "execution_count": null,
      "outputs": []
    },
    {
      "cell_type": "markdown",
      "metadata": {
        "id": "ojzV6YPjnQ-W"
      },
      "source": [
        "aoutput:\n",
        "\n",
        "Ball-1:  (-2, -4, 3)\n",
        "Ball-2:  (4, 6, 3)\n",
        "Centroid Distance of two balls:  5.656854249492381\n",
        "sum of radius ball-1 and ball-2 is 3+3=6\n",
        "BAllS are Colliode...!"
      ]
    },
    {
      "cell_type": "markdown",
      "metadata": {
        "id": "-_ubzDIXg9QX"
      },
      "source": [
        "#**b)Find mean, median, mode for the given set of numbers in a list.** "
      ]
    },
    {
      "cell_type": "code",
      "metadata": {
        "id": "a1qtzNtNhAlF"
      },
      "source": [
        "idef mean(n_list):\n",
        "  return sum(n_list)/len(n_list)\n",
        "def median(n_list):\n",
        "  n_list.sort()\n",
        "  n=len(n_list)\n",
        "  mid=n/2\n",
        "  if(n%2==1):\n",
        "     return n_list[int(mid)]\n",
        "  else:\n",
        "     \n",
        "    return (n_list[mid-1]+n_list[mid])/2\n",
        "\n",
        "def mode(n_list):\n",
        "  n_list.sort()\n",
        "  temp=[]\n",
        "  i=0    \n",
        "  while i<len(n_list):\n",
        "    temp.append(n_list.count(n_list[i]))\n",
        "    i+=1\n",
        "\n",
        "  dic=dict(zip(n_list,temp))\n",
        "  mode={k for(k,v) in dic.items() if v==max(temp)}\n",
        "  return mode\n",
        "\n",
        "n_list1=[10,10,20,20,20,30,40,50,30]\n",
        "\n",
        "print(\"Given list is : \",n_list1)\n",
        "print(\"Mean of the given list: \",mean(n_list1))\n",
        "print(\"Median of the given list: \",median(n_list1))\n",
        "print(\"Mode of the given list: \",mode(n_list1))"
      ],
      "execution_count": null,
      "outputs": []
    },
    {
      "cell_type": "markdown",
      "metadata": {
        "id": "6_Q1MAR7nb92"
      },
      "source": [
        "output:\n",
        "Gediven list :[1,1,2,2,2,3,4,5,3]\n",
        "Mean if the Given List:2.5555555555555554\n",
        "Median of the given list:2\n",
        "mode of the given list:{2}"
      ]
    },
    {
      "cell_type": "markdown",
      "metadata": {
        "id": "EtNVV0RThFJG"
      },
      "source": [
        "#Exercise-9 Functions-Continued\n",
        "\n",
        "#**a)Write a function nealy equal to test whether two strings are nearly equal. Two strings a and bare nearly equal when a can be generated by a single mutation on b.**\n"
      ]
    },
    {
      "cell_type": "code",
      "metadata": {
        "id": "m5Ojt9t0hIW7"
      },
      "source": [
        "def nearly_equal(str1,str2):\n",
        "  count=0\n",
        "  i=j=0\n",
        "  while(i<len(str1) and j<len(str2)):\n",
        "    if (str1[i]!=str2[j]):\n",
        "      count+=1\n",
        "      if (len(str1)>len(str2)):\n",
        "        i+=1\n",
        "      elif (len(str1)==len(str2)):\n",
        "        pass\n",
        "      else:\n",
        "        i-=1\n",
        "    if(count>1):\n",
        "      return False\n",
        "    i+=1\n",
        "    j+=1\n",
        "  if (count<2):\n",
        "    return True\n",
        "\n",
        "s=input(\"enter string-1:\")\n",
        "s1=input(\"enter string-2:\")\n",
        "blen=nearly_equal(s,s1)\n",
        "if (blen):\n",
        "  print(\"String are nearly equal\")\n",
        "else:\n",
        "    print(\"String are NOT equal\")"
      ],
      "execution_count": null,
      "outputs": []
    },
    {
      "cell_type": "markdown",
      "metadata": {
        "id": "MDEvokGtofuE"
      },
      "source": [
        "output:\n",
        "enter string-1:ajay\n",
        "enter string-2:venkat\n",
        "String are NOT equal"
      ]
    },
    {
      "cell_type": "markdown",
      "metadata": {
        "id": "pBmIZOJShNoP"
      },
      "source": [
        "#**b) Write a function dup to find all duplicates in the lis**"
      ]
    },
    {
      "cell_type": "code",
      "metadata": {
        "id": "53l1TYIXhRhT"
      },
      "source": [
        "def duplicates(n_list):\n",
        "  temp=[]\n",
        "  for i in n_list:\n",
        "    coun=n_list.count(i)\n",
        "    if (coun>1 and (i not in temp)):\n",
        "      temp.append(i)\n",
        "  print(\"Duplicates in the list:\",temp) \n",
        "\n",
        "ls=[10,20,10,5,6,87,5]\n",
        "print(\"Given elements in the list:\",ls)\n",
        "duplicates(ls)"
      ],
      "execution_count": null,
      "outputs": []
    },
    {
      "cell_type": "markdown",
      "metadata": {
        "id": "VPzLTcBdovU3"
      },
      "source": [
        "output:\n",
        "Given elements in the list: [5, 42, 10, 5, 6, 8, 5]\n",
        "Duplicates in the list: [5]"
      ]
    },
    {
      "cell_type": "markdown",
      "metadata": {
        "id": "Sh3X7nSBhW-9"
      },
      "source": [
        "#**c) Write a function unique to find all the unique elements of a list.**"
      ]
    },
    {
      "cell_type": "code",
      "metadata": {
        "id": "s0pNVuJ-hYH9"
      },
      "source": [
        "def unique(n_list):\n",
        "  print(\"Unique Elements in the list: \",end=\"\")\n",
        "  for i in n_list:\n",
        "    cnt=n_list.count(i)\n",
        "    if cnt==1:\n",
        "       print(i,end=\" \")\n",
        "  \n",
        "\n",
        "ls=[1,2,3,1,2,3,534,546,558]\n",
        "print(\"Given elements in the list:\",ls)\n",
        "unique(ls)"
      ],
      "execution_count": null,
      "outputs": []
    },
    {
      "cell_type": "markdown",
      "metadata": {
        "id": "2gKKOIKLo17a"
      },
      "source": [
        "output:\n",
        "given elements in the list: [1, 2, 6, 9, 1, 3, 5, 2, 1]\n",
        "unique elements in the list: []\n",
        "unique elements in the list: []\n",
        "unique elements in the list: [6]\n",
        "unique elements in the list: [6, 9]\n",
        "unique elements in the list: [6, 9]\n",
        "unique elements in the list: [6, 9, 3]\n",
        "unique elements in the list: [6, 9, 3, 5]\n",
        "unique elements in the list: [6, 9, 3, 5]\n",
        "unique elements in the list: [6, 9, 3, 5]"
      ]
    },
    {
      "cell_type": "markdown",
      "metadata": {
        "id": "ojknYd4Ohbai"
      },
      "source": [
        "#Exercise-10- Functions - Problem Solving\n",
        "\n",
        "#**a)Write a function cumulative product to compute cumulative product of a list of numbers.**"
      ]
    },
    {
      "cell_type": "code",
      "metadata": {
        "id": "n3Cr6hYuheXN"
      },
      "source": [
        "def c_product(n_list):\n",
        "  pro=1\n",
        "  temp=[]\n",
        "  for i in n_list:\n",
        "    pro*=i\n",
        "    temp.append(pro)\n",
        "  return temp  \n",
        "\n",
        "ls=[1,2,4,3,5]\n",
        "print(\"Given list is: \",ls)\n",
        "print(\"Cumulative Producet list is: \",c_product(ls))"
      ],
      "execution_count": null,
      "outputs": []
    },
    {
      "cell_type": "markdown",
      "metadata": {
        "id": "quXjOxjXpBQS"
      },
      "source": [
        "output:\n",
        "given list is: [1, 5, 4, 7, 8]\n",
        "cumulative product is: [1, 5, 20, 140, 1120]"
      ]
    },
    {
      "cell_type": "markdown",
      "metadata": {
        "id": "RR1CVko2hrR_"
      },
      "source": [
        "#**b) Write a function reverse to reverse a list. Without using the reverse function.**"
      ]
    },
    {
      "cell_type": "code",
      "metadata": {
        "id": "CiqJLZiQht3E"
      },
      "source": [
        "def reverse_list(n_list):\n",
        "  i=0\n",
        "  j=len(n_list)-1\n",
        "  while (i<=j):\n",
        "    temp=n_list[i]\n",
        "    n_list[i]=n_list[j]\n",
        "    n_list[j]=temp\n",
        "    j-=1\n",
        "    i+=1\n",
        "  return n_list\n",
        "\n",
        "ls=[10,20,30,40,50]\n",
        "print(\"Given List is: \",ls)\n",
        "reverse_list(ls)\n",
        "print(\"Reverse of the List is:\",ls)"
      ],
      "execution_count": null,
      "outputs": []
    },
    {
      "cell_type": "markdown",
      "metadata": {
        "id": "6aeT0aWhpfJ9"
      },
      "source": [
        "output:\n",
        "given list is: [1, 2, 3, 4]\n",
        "reverse of the given list is: [4, 3, 2, 1]"
      ]
    },
    {
      "cell_type": "markdown",
      "metadata": {
        "id": "RSvB-qwbh0lh"
      },
      "source": [
        "#**c) Write function to compute ged, lem of two numbers. Each function shouldn't exceed one line.** "
      ]
    },
    {
      "cell_type": "code",
      "metadata": {
        "id": "XX78StZkh1RJ"
      },
      "source": [
        "gcd=lambda a,b: a if b==0 else gcd(a,a%b)\n",
        "lcm=lambda a,b: (a*b)/gcd(a,b)\n",
        "\n",
        "x=2\n",
        "y=4\n",
        "print(\"Given Number: \",x,y)\n",
        "print(\"GCD is: \",gcd(x,y))\n",
        "print(\"LCM is: \",lcm(x,y))"
      ],
      "execution_count": null,
      "outputs": []
    },
    {
      "cell_type": "markdown",
      "metadata": {
        "id": "cy2pbcoxpoRR"
      },
      "source": [
        "output:\n",
        "the given numbers are: 4 24\n",
        "gcd is: 4\n",
        "lcm is: 24.0"
      ]
    }
  ]
}